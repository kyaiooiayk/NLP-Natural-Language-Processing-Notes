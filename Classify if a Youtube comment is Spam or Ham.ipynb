{
 "cells": [
  {
   "cell_type": "markdown",
   "metadata": {},
   "source": [
    "# Introduction"
   ]
  },
  {
   "cell_type": "code",
   "execution_count": null,
   "metadata": {},
   "outputs": [],
   "source": [
    "\"\"\"\n",
    "What? Classify if a Youtube comment is Spam or Ham\n",
    "\n",
    "Reference: https://github.com/practical-nlp/practical-nlp/blob/master/Ch2/06_Snorkel.ipynb\n",
    "\"\"\""
   ]
  },
  {
   "cell_type": "markdown",
   "metadata": {},
   "source": [
    "# Installing dependencies"
   ]
  },
  {
   "cell_type": "code",
   "execution_count": null,
   "metadata": {},
   "outputs": [],
   "source": [
    "\"\"\"\n",
    "Uncoment the line below only if you need to install them from scratch.\n",
    "Yopu can also run them in your command line, just remove ! as it is a iython magic command.\n",
    "\"\"\""
   ]
  },
  {
   "cell_type": "code",
   "execution_count": null,
   "metadata": {},
   "outputs": [],
   "source": [
    "\"\"\"\n",
    "!pip install snorkel==0.9.6\n",
    "!pip install treedlib==0.1.3\n",
    "!pip install numbskull==0.1.1\n",
    "!pip install tensorflow==1.15\n",
    "!pip install tensorboard==1.15\n",
    "!python -m spacy download en_core_web_sm\n",
    "\"\"\""
   ]
  },
  {
   "cell_type": "markdown",
   "metadata": {},
   "source": [
    "# Import libraries/modules"
   ]
  },
  {
   "cell_type": "code",
   "execution_count": 2,
   "metadata": {},
   "outputs": [],
   "source": [
    "import warnings\n",
    "warnings.filterwarnings('ignore')\n",
    "import os\n",
    "import wget\n",
    "import zipfile\n",
    "import shutil\n",
    "import re\n",
    "import glob\n",
    "import utils\n",
    "from snorkel.analysis import get_label_buckets\n",
    "from snorkel.labeling import labeling_function\n",
    "from snorkel.labeling import LFAnalysis\n",
    "from snorkel.labeling import PandasLFApplier\n",
    "from snorkel.labeling import LabelingFunction\n",
    "from snorkel.labeling.model import MajorityLabelVoter\n",
    "from snorkel.labeling.model import LabelModel\n",
    "from snorkel.labeling import filter_unlabeled_dataframe\n",
    "from snorkel.labeling.lf.nlp import nlp_labeling_function\n",
    "from snorkel.preprocess import preprocessor\n",
    "from snorkel.preprocess.nlp import SpacyPreprocessor\n",
    "from snorkel.utils import probs_to_preds\n",
    "from textblob import TextBlob\n",
    "import pandas as pd\n",
    "import numpy as np\n",
    "from sklearn.feature_extraction.text import CountVectorizer\n",
    "from sklearn.linear_model import LogisticRegression\n",
    "from sklearn.model_selection import train_test_split\n",
    "import matplotlib.pyplot as plt\n",
    "%matplotlib inline"
   ]
  },
  {
   "cell_type": "markdown",
   "metadata": {},
   "source": [
    "# Fetch and load the dataset"
   ]
  },
  {
   "cell_type": "code",
   "execution_count": null,
   "metadata": {},
   "outputs": [],
   "source": [
    "\"\"\"\n",
    "Let's get the Youtube spam classification dataset from the UCI ML Repository archive.\n",
    "\"\"\""
   ]
  },
  {
   "cell_type": "code",
   "execution_count": 6,
   "metadata": {},
   "outputs": [
    {
     "data": {
      "text/plain": [
       "['Youtube03-LMFAO.csv',\n",
       " 'Youtube04-Eminem.csv',\n",
       " 'Youtube05-Shakira.csv',\n",
       " 'Youtube02-KatyPerry.csv',\n",
       " 'Youtube01-Psy.csv']"
      ]
     },
     "execution_count": 6,
     "metadata": {},
     "output_type": "execute_result"
    }
   ],
   "source": [
    "file_link = \"http://archive.ics.uci.edu/ml/machine-learning-databases/00380/YouTube-Spam-Collection-v1.zip\"\n",
    "\n",
    "datasetPath = \"YouTube-Spam-Collection_dataset\"\n",
    "os.makedirs(datasetPath, exist_ok= True)\n",
    "if not os.path.exists(os.path.join(datasetPath, \"YouTube-Spam-Collection-v1.zip\")):\n",
    "    wget.download(file_link, out=datasetPath)\n",
    "else:\n",
    "    print(\"File already exists\")\n",
    "\n",
    "with zipfile.ZipFile(os.path.join(datasetPath, \"YouTube-Spam-Collection-v1.zip\"), 'r') as zip_ref:\n",
    "    zip_ref.extractall(datasetPath)\n",
    "\n",
    "shutil.rmtree(os.path.join(datasetPath, \"__MACOSX\"))\n",
    "os.remove(os.path.join(datasetPath, \"YouTube-Spam-Collection-v1.zip\"))\n",
    "os.listdir(datasetPath)"
   ]
  },
  {
   "cell_type": "markdown",
   "metadata": {},
   "source": [
    "# Data wrangling"
   ]
  },
  {
   "cell_type": "code",
   "execution_count": 7,
   "metadata": {},
   "outputs": [],
   "source": [
    "def load_spam_dataset(load_train_labels: bool = False, split_dev_valid: bool = False):\n",
    "    filenames = sorted(glob.glob(os.path.join(datasetPath, \"Youtube*.csv\")))\n",
    "    dfs = []\n",
    "    for i, filename in enumerate(filenames, start=1):\n",
    "        df = pd.read_csv(filename)\n",
    "        # Lowercase column names\n",
    "        df.columns = map(str.lower, df.columns)\n",
    "        # Remove comment_id field\n",
    "        df = df.drop(\"comment_id\", axis=1)\n",
    "        # Add field indicating source video\n",
    "        df[\"video\"] = [i] * len(df)\n",
    "        # Rename fields\n",
    "        df = df.rename(columns={\"class\": \"label\", \"content\": \"text\"})\n",
    "        # Shuffle order\n",
    "        df = df.sample(frac=1, random_state=123).reset_index(drop=True)\n",
    "        dfs.append(df)\n",
    "\n",
    "    df_train = pd.concat(dfs[:4])\n",
    "    df_dev = df_train.sample(100, random_state=123)\n",
    "\n",
    "    if not load_train_labels:\n",
    "        df_train[\"label\"] = np.ones(len(df_train[\"label\"])) * -1\n",
    "    df_valid_test = dfs[4]\n",
    "    df_valid, df_test = train_test_split(\n",
    "        df_valid_test, test_size=250, random_state=123, stratify=df_valid_test.label\n",
    "    )\n",
    "\n",
    "    if split_dev_valid:\n",
    "        return df_train, df_dev, df_valid, df_test\n",
    "    else:\n",
    "        return df_train, df_test"
   ]
  },
  {
   "cell_type": "code",
   "execution_count": 11,
   "metadata": {},
   "outputs": [],
   "source": [
    "# Let's look at the train and test dataset\n",
    "df_train, df_test = load_spam_dataset()"
   ]
  },
  {
   "cell_type": "code",
   "execution_count": 13,
   "metadata": {},
   "outputs": [
    {
     "name": "stdout",
     "output_type": "stream",
     "text": [
      "Train\n"
     ]
    },
    {
     "data": {
      "text/html": [
       "<div>\n",
       "<style scoped>\n",
       "    .dataframe tbody tr th:only-of-type {\n",
       "        vertical-align: middle;\n",
       "    }\n",
       "\n",
       "    .dataframe tbody tr th {\n",
       "        vertical-align: top;\n",
       "    }\n",
       "\n",
       "    .dataframe thead th {\n",
       "        text-align: right;\n",
       "    }\n",
       "</style>\n",
       "<table border=\"1\" class=\"dataframe\">\n",
       "  <thead>\n",
       "    <tr style=\"text-align: right;\">\n",
       "      <th></th>\n",
       "      <th>author</th>\n",
       "      <th>date</th>\n",
       "      <th>text</th>\n",
       "      <th>label</th>\n",
       "      <th>video</th>\n",
       "    </tr>\n",
       "  </thead>\n",
       "  <tbody>\n",
       "    <tr>\n",
       "      <th>0</th>\n",
       "      <td>Alessandro leite</td>\n",
       "      <td>2014-11-05T22:21:36</td>\n",
       "      <td>pls http://www10.vakinha.com.br/VaquinhaE.aspx...</td>\n",
       "      <td>-1.0</td>\n",
       "      <td>1</td>\n",
       "    </tr>\n",
       "    <tr>\n",
       "      <th>1</th>\n",
       "      <td>Salim Tayara</td>\n",
       "      <td>2014-11-02T14:33:30</td>\n",
       "      <td>if your like drones, plz subscribe to Kamal Ta...</td>\n",
       "      <td>-1.0</td>\n",
       "      <td>1</td>\n",
       "    </tr>\n",
       "    <tr>\n",
       "      <th>2</th>\n",
       "      <td>Phuc Ly</td>\n",
       "      <td>2014-01-20T15:27:47</td>\n",
       "      <td>go here to check the views :3﻿</td>\n",
       "      <td>-1.0</td>\n",
       "      <td>1</td>\n",
       "    </tr>\n",
       "    <tr>\n",
       "      <th>3</th>\n",
       "      <td>DropShotSk8r</td>\n",
       "      <td>2014-01-19T04:27:18</td>\n",
       "      <td>Came here to check the views, goodbye.﻿</td>\n",
       "      <td>-1.0</td>\n",
       "      <td>1</td>\n",
       "    </tr>\n",
       "    <tr>\n",
       "      <th>4</th>\n",
       "      <td>css403</td>\n",
       "      <td>2014-11-07T14:25:48</td>\n",
       "      <td>i am 2,126,492,636 viewer :D﻿</td>\n",
       "      <td>-1.0</td>\n",
       "      <td>1</td>\n",
       "    </tr>\n",
       "  </tbody>\n",
       "</table>\n",
       "</div>"
      ],
      "text/plain": [
       "             author                 date  \\\n",
       "0  Alessandro leite  2014-11-05T22:21:36   \n",
       "1      Salim Tayara  2014-11-02T14:33:30   \n",
       "2           Phuc Ly  2014-01-20T15:27:47   \n",
       "3      DropShotSk8r  2014-01-19T04:27:18   \n",
       "4            css403  2014-11-07T14:25:48   \n",
       "\n",
       "                                                text  label  video  \n",
       "0  pls http://www10.vakinha.com.br/VaquinhaE.aspx...   -1.0      1  \n",
       "1  if your like drones, plz subscribe to Kamal Ta...   -1.0      1  \n",
       "2                     go here to check the views :3﻿   -1.0      1  \n",
       "3            Came here to check the views, goodbye.﻿   -1.0      1  \n",
       "4                      i am 2,126,492,636 viewer :D﻿   -1.0      1  "
      ]
     },
     "metadata": {},
     "output_type": "display_data"
    }
   ],
   "source": [
    "print(\"Train\")\n",
    "display(df_train.head(5))"
   ]
  },
  {
   "cell_type": "code",
   "execution_count": 14,
   "metadata": {
    "scrolled": true
   },
   "outputs": [
    {
     "name": "stdout",
     "output_type": "stream",
     "text": [
      "Test\n"
     ]
    },
    {
     "data": {
      "text/html": [
       "<div>\n",
       "<style scoped>\n",
       "    .dataframe tbody tr th:only-of-type {\n",
       "        vertical-align: middle;\n",
       "    }\n",
       "\n",
       "    .dataframe tbody tr th {\n",
       "        vertical-align: top;\n",
       "    }\n",
       "\n",
       "    .dataframe thead th {\n",
       "        text-align: right;\n",
       "    }\n",
       "</style>\n",
       "<table border=\"1\" class=\"dataframe\">\n",
       "  <thead>\n",
       "    <tr style=\"text-align: right;\">\n",
       "      <th></th>\n",
       "      <th>author</th>\n",
       "      <th>date</th>\n",
       "      <th>text</th>\n",
       "      <th>label</th>\n",
       "      <th>video</th>\n",
       "    </tr>\n",
       "  </thead>\n",
       "  <tbody>\n",
       "    <tr>\n",
       "      <th>27</th>\n",
       "      <td>‫حلم الشباب‬‎</td>\n",
       "      <td>2015-05-25T23:42:49.533000</td>\n",
       "      <td>Check out this video on YouTube:﻿</td>\n",
       "      <td>1</td>\n",
       "      <td>5</td>\n",
       "    </tr>\n",
       "    <tr>\n",
       "      <th>194</th>\n",
       "      <td>MOHAMED THASLEEM</td>\n",
       "      <td>2015-05-24T07:03:59.488000</td>\n",
       "      <td>super music﻿</td>\n",
       "      <td>0</td>\n",
       "      <td>5</td>\n",
       "    </tr>\n",
       "    <tr>\n",
       "      <th>277</th>\n",
       "      <td>AlabaGames</td>\n",
       "      <td>2015-05-22T00:31:43.922000</td>\n",
       "      <td>Subscribe my channel  I RECORDING FIFA 15 GOAL...</td>\n",
       "      <td>1</td>\n",
       "      <td>5</td>\n",
       "    </tr>\n",
       "    <tr>\n",
       "      <th>132</th>\n",
       "      <td>Manish Ray</td>\n",
       "      <td>2015-05-23T08:55:07.512000</td>\n",
       "      <td>This song is so beauty</td>\n",
       "      <td>0</td>\n",
       "      <td>5</td>\n",
       "    </tr>\n",
       "    <tr>\n",
       "      <th>163</th>\n",
       "      <td>Sudheer Yadav</td>\n",
       "      <td>2015-05-28T10:28:25.133000</td>\n",
       "      <td>SEE SOME MORE SONG OPEN GOOGLE AND TYPE Shakir...</td>\n",
       "      <td>1</td>\n",
       "      <td>5</td>\n",
       "    </tr>\n",
       "  </tbody>\n",
       "</table>\n",
       "</div>"
      ],
      "text/plain": [
       "               author                        date  \\\n",
       "27      ‫حلم الشباب‬‎  2015-05-25T23:42:49.533000   \n",
       "194  MOHAMED THASLEEM  2015-05-24T07:03:59.488000   \n",
       "277        AlabaGames  2015-05-22T00:31:43.922000   \n",
       "132        Manish Ray  2015-05-23T08:55:07.512000   \n",
       "163     Sudheer Yadav  2015-05-28T10:28:25.133000   \n",
       "\n",
       "                                                  text  label  video  \n",
       "27                   Check out this video on YouTube:﻿      1      5  \n",
       "194                                       super music﻿      0      5  \n",
       "277  Subscribe my channel  I RECORDING FIFA 15 GOAL...      1      5  \n",
       "132                             This song is so beauty      0      5  \n",
       "163  SEE SOME MORE SONG OPEN GOOGLE AND TYPE Shakir...      1      5  "
      ]
     },
     "execution_count": 14,
     "metadata": {},
     "output_type": "execute_result"
    }
   ],
   "source": [
    "print('Test')\n",
    "df_test.head(5)"
   ]
  },
  {
   "cell_type": "code",
   "execution_count": 17,
   "metadata": {},
   "outputs": [
    {
     "data": {
      "text/plain": [
       "array([-1., -1., -1., -1., -1.])"
      ]
     },
     "execution_count": 17,
     "metadata": {},
     "output_type": "execute_result"
    }
   ],
   "source": [
    "Y_train = df_train.label.values\n",
    "Y_train[:5]"
   ]
  },
  {
   "cell_type": "code",
   "execution_count": 22,
   "metadata": {},
   "outputs": [
    {
     "data": {
      "text/plain": [
       "array([-1.])"
      ]
     },
     "execution_count": 22,
     "metadata": {},
     "output_type": "execute_result"
    }
   ],
   "source": [
    "# the train lavel seems to have only abstain value?\n",
    "df_train.label.unique()"
   ]
  },
  {
   "cell_type": "code",
   "execution_count": 21,
   "metadata": {},
   "outputs": [
    {
     "data": {
      "text/plain": [
       "array([1, 0])"
      ]
     },
     "execution_count": 21,
     "metadata": {},
     "output_type": "execute_result"
    }
   ],
   "source": [
    "df_test.label.unique()"
   ]
  },
  {
   "cell_type": "code",
   "execution_count": 16,
   "metadata": {},
   "outputs": [
    {
     "data": {
      "text/plain": [
       "array([1, 0, 1, 0, 1])"
      ]
     },
     "execution_count": 16,
     "metadata": {},
     "output_type": "execute_result"
    }
   ],
   "source": [
    "Y_test = df_test.label.values\n",
    "Y_test[:5]"
   ]
  },
  {
   "cell_type": "code",
   "execution_count": null,
   "metadata": {},
   "outputs": [],
   "source": [
    "\"\"\"\n",
    "There are a few things to keep in mind with respect to the dataset:\n",
    "    HAM represents a NON-SPAM comment.\n",
    "    SPAM is a SPAM comment\n",
    "    ABSTAIN is for neither of the above\n",
    "\n",
    "We initialise their respective values below:\n",
    "    ABSTAIN = -1\n",
    "    HAM = 0\n",
    "    SPAM = 1\n",
    "\"\"\""
   ]
  },
  {
   "cell_type": "code",
   "execution_count": 21,
   "metadata": {},
   "outputs": [],
   "source": [
    "ABSTAIN = -1\n",
    "HAM = 0\n",
    "SPAM = 1"
   ]
  },
  {
   "cell_type": "code",
   "execution_count": null,
   "metadata": {},
   "outputs": [],
   "source": [
    "\"\"\"\n",
    "We need to find some pattern in the data, so as to create rules for labeling the data.\n",
    "Hence, we randomly display some rows of the dataset so that we can try to find some pattern in the text.\n",
    "\"\"\""
   ]
  },
  {
   "cell_type": "code",
   "execution_count": 30,
   "metadata": {},
   "outputs": [
    {
     "data": {
      "text/html": [
       "<div>\n",
       "<style scoped>\n",
       "    .dataframe tbody tr th:only-of-type {\n",
       "        vertical-align: middle;\n",
       "    }\n",
       "\n",
       "    .dataframe tbody tr th {\n",
       "        vertical-align: top;\n",
       "    }\n",
       "\n",
       "    .dataframe thead th {\n",
       "        text-align: right;\n",
       "    }\n",
       "</style>\n",
       "<table border=\"1\" class=\"dataframe\">\n",
       "  <thead>\n",
       "    <tr style=\"text-align: right;\">\n",
       "      <th></th>\n",
       "      <th>author</th>\n",
       "      <th>text</th>\n",
       "      <th>video</th>\n",
       "      <th>label</th>\n",
       "    </tr>\n",
       "  </thead>\n",
       "  <tbody>\n",
       "    <tr>\n",
       "      <th>240</th>\n",
       "      <td>Lucas Trigo</td>\n",
       "      <td>WHATS UP EVERYONE!? :-) I Trying To Showcase M...</td>\n",
       "      <td>1</td>\n",
       "      <td>-1.0</td>\n",
       "    </tr>\n",
       "    <tr>\n",
       "      <th>211</th>\n",
       "      <td>Blaze Rod</td>\n",
       "      <td>when i see this back in 2015 i ask myself how ...</td>\n",
       "      <td>3</td>\n",
       "      <td>-1.0</td>\n",
       "    </tr>\n",
       "    <tr>\n",
       "      <th>228</th>\n",
       "      <td>MasterRobotTV</td>\n",
       "      <td>http://www.twitch.tv/zxlightsoutxz﻿</td>\n",
       "      <td>1</td>\n",
       "      <td>-1.0</td>\n",
       "    </tr>\n",
       "    <tr>\n",
       "      <th>207</th>\n",
       "      <td>Franklin Music</td>\n",
       "      <td>Very Nice !﻿</td>\n",
       "      <td>3</td>\n",
       "      <td>-1.0</td>\n",
       "    </tr>\n",
       "    <tr>\n",
       "      <th>153</th>\n",
       "      <td>lebanonwarior1</td>\n",
       "      <td>Song name??﻿</td>\n",
       "      <td>1</td>\n",
       "      <td>-1.0</td>\n",
       "    </tr>\n",
       "    <tr>\n",
       "      <th>8</th>\n",
       "      <td>yenis maría Rodríguez</td>\n",
       "      <td>2015 LIKEEE﻿</td>\n",
       "      <td>3</td>\n",
       "      <td>-1.0</td>\n",
       "    </tr>\n",
       "    <tr>\n",
       "      <th>62</th>\n",
       "      <td>RapStarz Coleman</td>\n",
       "      <td>Subscribe To Mê Please Guys</td>\n",
       "      <td>4</td>\n",
       "      <td>-1.0</td>\n",
       "    </tr>\n",
       "    <tr>\n",
       "      <th>54</th>\n",
       "      <td>Jd Hurst</td>\n",
       "      <td>Check out this video on YouTube:﻿</td>\n",
       "      <td>3</td>\n",
       "      <td>-1.0</td>\n",
       "    </tr>\n",
       "    <tr>\n",
       "      <th>353</th>\n",
       "      <td>jefflynnejp</td>\n",
       "      <td>Check out this video on YouTube: ﻿</td>\n",
       "      <td>3</td>\n",
       "      <td>-1.0</td>\n",
       "    </tr>\n",
       "    <tr>\n",
       "      <th>406</th>\n",
       "      <td>eliška žáková</td>\n",
       "      <td>CUTE  :)﻿</td>\n",
       "      <td>3</td>\n",
       "      <td>-1.0</td>\n",
       "    </tr>\n",
       "    <tr>\n",
       "      <th>375</th>\n",
       "      <td>Chris Bieber</td>\n",
       "      <td>Love the way you lie II is nicer in my opinion...</td>\n",
       "      <td>4</td>\n",
       "      <td>-1.0</td>\n",
       "    </tr>\n",
       "    <tr>\n",
       "      <th>270</th>\n",
       "      <td>Angela Alor</td>\n",
       "      <td>HOW DO YOU PUT A PICTURE FOR YOUR IMAGE THINGI...</td>\n",
       "      <td>3</td>\n",
       "      <td>-1.0</td>\n",
       "    </tr>\n",
       "    <tr>\n",
       "      <th>44</th>\n",
       "      <td>BlueYetiPlayz -Call Of Duty and More</td>\n",
       "      <td>subscribe to me for call of duty vids and give...</td>\n",
       "      <td>1</td>\n",
       "      <td>-1.0</td>\n",
       "    </tr>\n",
       "    <tr>\n",
       "      <th>295</th>\n",
       "      <td>the34104</td>\n",
       "      <td>check out eminem latest track survival if u didnt</td>\n",
       "      <td>4</td>\n",
       "      <td>-1.0</td>\n",
       "    </tr>\n",
       "    <tr>\n",
       "      <th>223</th>\n",
       "      <td>Truc Ng</td>\n",
       "      <td>https://www.facebook.com/myfunnyriddles﻿</td>\n",
       "      <td>2</td>\n",
       "      <td>-1.0</td>\n",
       "    </tr>\n",
       "    <tr>\n",
       "      <th>144</th>\n",
       "      <td>Nina Mackie</td>\n",
       "      <td>Take a look at this video on YouTub&lt;br /&gt;You﻿</td>\n",
       "      <td>3</td>\n",
       "      <td>-1.0</td>\n",
       "    </tr>\n",
       "    <tr>\n",
       "      <th>340</th>\n",
       "      <td>DanteBTV</td>\n",
       "      <td>Check Out The New Hot Video By Dante B Called ...</td>\n",
       "      <td>4</td>\n",
       "      <td>-1.0</td>\n",
       "    </tr>\n",
       "    <tr>\n",
       "      <th>19</th>\n",
       "      <td>Paul Garza</td>\n",
       "      <td>Check out this video on YouTube:﻿</td>\n",
       "      <td>3</td>\n",
       "      <td>-1.0</td>\n",
       "    </tr>\n",
       "    <tr>\n",
       "      <th>185</th>\n",
       "      <td>Bo Lanciné MAGASSOUBA</td>\n",
       "      <td>WE GO FOR 1,000,000,000 FOR EMINEM﻿</td>\n",
       "      <td>4</td>\n",
       "      <td>-1.0</td>\n",
       "    </tr>\n",
       "    <tr>\n",
       "      <th>73</th>\n",
       "      <td>MrValentinique</td>\n",
       "      <td>https://www.facebook.com/eeccon/posts/73394924...</td>\n",
       "      <td>1</td>\n",
       "      <td>-1.0</td>\n",
       "    </tr>\n",
       "  </tbody>\n",
       "</table>\n",
       "</div>"
      ],
      "text/plain": [
       "                                   author  \\\n",
       "240                           Lucas Trigo   \n",
       "211                             Blaze Rod   \n",
       "228                         MasterRobotTV   \n",
       "207                        Franklin Music   \n",
       "153                        lebanonwarior1   \n",
       "8                   yenis maría Rodríguez   \n",
       "62                       RapStarz Coleman   \n",
       "54                               Jd Hurst   \n",
       "353                           jefflynnejp   \n",
       "406                         eliška žáková   \n",
       "375                          Chris Bieber   \n",
       "270                           Angela Alor   \n",
       "44   BlueYetiPlayz -Call Of Duty and More   \n",
       "295                              the34104   \n",
       "223                               Truc Ng   \n",
       "144                           Nina Mackie   \n",
       "340                              DanteBTV   \n",
       "19                             Paul Garza   \n",
       "185                 Bo Lanciné MAGASSOUBA   \n",
       "73                         MrValentinique   \n",
       "\n",
       "                                                  text  video  label  \n",
       "240  WHATS UP EVERYONE!? :-) I Trying To Showcase M...      1   -1.0  \n",
       "211  when i see this back in 2015 i ask myself how ...      3   -1.0  \n",
       "228                http://www.twitch.tv/zxlightsoutxz﻿      1   -1.0  \n",
       "207                                       Very Nice !﻿      3   -1.0  \n",
       "153                                       Song name??﻿      1   -1.0  \n",
       "8                                         2015 LIKEEE﻿      3   -1.0  \n",
       "62                         Subscribe To Mê Please Guys      4   -1.0  \n",
       "54                   Check out this video on YouTube:﻿      3   -1.0  \n",
       "353                 Check out this video on YouTube: ﻿      3   -1.0  \n",
       "406                                          CUTE  :)﻿      3   -1.0  \n",
       "375  Love the way you lie II is nicer in my opinion...      4   -1.0  \n",
       "270  HOW DO YOU PUT A PICTURE FOR YOUR IMAGE THINGI...      3   -1.0  \n",
       "44   subscribe to me for call of duty vids and give...      1   -1.0  \n",
       "295  check out eminem latest track survival if u didnt      4   -1.0  \n",
       "223           https://www.facebook.com/myfunnyriddles﻿      2   -1.0  \n",
       "144      Take a look at this video on YouTub<br />You﻿      3   -1.0  \n",
       "340  Check Out The New Hot Video By Dante B Called ...      4   -1.0  \n",
       "19                   Check out this video on YouTube:﻿      3   -1.0  \n",
       "185                WE GO FOR 1,000,000,000 FOR EMINEM﻿      4   -1.0  \n",
       "73   https://www.facebook.com/eeccon/posts/73394924...      1   -1.0  "
      ]
     },
     "execution_count": 30,
     "metadata": {},
     "output_type": "execute_result"
    }
   ],
   "source": [
    "df_train[[\"author\", \"text\", \"video\", \"label\"]].sample(20, random_state=2020)"
   ]
  },
  {
   "cell_type": "code",
   "execution_count": 24,
   "metadata": {},
   "outputs": [
    {
     "data": {
      "text/plain": [
       "'\\nAn example for how a labeling function can be defined , anything that might match the pattern of a spam message\\ncan be used , here http is an example to show as many spam comments may contain links\\n'"
      ]
     },
     "execution_count": 24,
     "metadata": {},
     "output_type": "execute_result"
    }
   ],
   "source": [
    "\"\"\"\n",
    "An example for how a labeling function can be defined , anything that might match the pattern of a spam message\n",
    "can be used, here http is an example to show how spam comments may contain links\n",
    "\"\"\""
   ]
  },
  {
   "cell_type": "code",
   "execution_count": 18,
   "metadata": {},
   "outputs": [],
   "source": [
    "@labeling_function()\n",
    "def lf_contains_link(x):\n",
    "    # Return a label of SPAM if \"http\" in comment text, otherwise ABSTAIN\n",
    "    return SPAM if \"http\" in x.text.lower() else ABSTAIN"
   ]
  },
  {
   "cell_type": "code",
   "execution_count": null,
   "metadata": {},
   "outputs": [],
   "source": [
    "\"\"\"\n",
    "Defining labeling functions to check strings such as 'check', 'check out', 'http', 'my channel', 'subscribe'\n",
    "\"\"\""
   ]
  },
  {
   "cell_type": "code",
   "execution_count": 19,
   "metadata": {},
   "outputs": [],
   "source": [
    "@labeling_function()\n",
    "def check(x):\n",
    "    return SPAM if \"check\" in x.text.lower() else ABSTAIN\n",
    "\n",
    "@labeling_function()\n",
    "def check_out(x):\n",
    "    return SPAM if \"check out\" in x.text.lower() else ABSTAIN\n",
    "\n",
    "@labeling_function()\n",
    "def my_channel(x):\n",
    "    return SPAM if \"my channel\" in x.text.lower() else ABSTAIN\n",
    "\n",
    "@labeling_function()\n",
    "def if_subscribe(x):\n",
    "    return SPAM if \"subscribe\" in x.text.lower() else ABSTAIN"
   ]
  },
  {
   "cell_type": "code",
   "execution_count": null,
   "metadata": {},
   "outputs": [],
   "source": [
    "\"\"\"\n",
    "\n",
    "\n",
    "Using LFApplier to use our labelling functions with pandas dataframe object.\n",
    "These labeling functions can also be used on columns other than 'text'.\n",
    "\"\"\""
   ]
  },
  {
   "cell_type": "code",
   "execution_count": 22,
   "metadata": {},
   "outputs": [
    {
     "name": "stderr",
     "output_type": "stream",
     "text": [
      "100%|██████████| 1586/1586 [00:00<00:00, 14356.34it/s]\n"
     ]
    }
   ],
   "source": [
    "lfs = [check_out, check, lf_contains_link, my_channel, if_subscribe]\n",
    "\n",
    "applier = PandasLFApplier(lfs=lfs)\n",
    "L_train = applier.apply(df=df_train)"
   ]
  },
  {
   "cell_type": "code",
   "execution_count": 24,
   "metadata": {},
   "outputs": [
    {
     "data": {
      "text/plain": [
       "array([[-1, -1,  1, -1, -1],\n",
       "       [-1, -1, -1, -1,  1],\n",
       "       [-1,  1, -1, -1, -1],\n",
       "       ...,\n",
       "       [ 1,  1, -1,  1,  1],\n",
       "       [-1,  1, -1, -1,  1],\n",
       "       [ 1,  1, -1, -1, -1]])"
      ]
     },
     "execution_count": 24,
     "metadata": {},
     "output_type": "execute_result"
    }
   ],
   "source": [
    "L_train"
   ]
  },
  {
   "cell_type": "code",
   "execution_count": null,
   "metadata": {},
   "outputs": [],
   "source": [
    "\"\"\"\n",
    "Coverage is the fraction of the dataset the labeling function labels.\n",
    "\"\"\""
   ]
  },
  {
   "cell_type": "code",
   "execution_count": 25,
   "metadata": {},
   "outputs": [
    {
     "name": "stdout",
     "output_type": "stream",
     "text": [
      "check_out coverage: 21.4%\n",
      "check coverage: 25.8%\n",
      "link coverage: 11.9%\n",
      "my_channel coverage: 7.0%\n",
      "if_subscribe coverage: 12.7%\n"
     ]
    }
   ],
   "source": [
    "coverage_check_out, coverage_check, coverage_link, coverage_my_channel, coverage_subscribe= (L_train != ABSTAIN).mean(axis=0)\n",
    "print(f\"check_out coverage: {coverage_check_out * 100:.1f}%\")\n",
    "print(f\"check coverage: {coverage_check * 100:.1f}%\")\n",
    "print(f\"link coverage: {coverage_link * 100:.1f}%\")\n",
    "print(f\"my_channel coverage: {coverage_my_channel * 100:.1f}%\")\n",
    "print(f\"if_subscribe coverage: {coverage_subscribe * 100:.1f}%\")"
   ]
  },
  {
   "cell_type": "code",
   "execution_count": null,
   "metadata": {},
   "outputs": [],
   "source": [
    "\"\"\"\n",
    "Before we procees further, let us understand a bit of jargon with respect to the summary of the LFAnalysis\n",
    "\n",
    "    Polarity - set of unique labels that the labeling function outputs (excluding Abstains)\n",
    "    Overlaps - where there is at least one common entry for more than one labeling functions i.e the labeling\n",
    "               fucntions agree upon the value to be returned\n",
    "    Conflicts - where the labeling functions disagree upon the value to be returned\n",
    "\"\"\""
   ]
  },
  {
   "cell_type": "code",
   "execution_count": 26,
   "metadata": {},
   "outputs": [
    {
     "data": {
      "text/html": [
       "<div>\n",
       "<style scoped>\n",
       "    .dataframe tbody tr th:only-of-type {\n",
       "        vertical-align: middle;\n",
       "    }\n",
       "\n",
       "    .dataframe tbody tr th {\n",
       "        vertical-align: top;\n",
       "    }\n",
       "\n",
       "    .dataframe thead th {\n",
       "        text-align: right;\n",
       "    }\n",
       "</style>\n",
       "<table border=\"1\" class=\"dataframe\">\n",
       "  <thead>\n",
       "    <tr style=\"text-align: right;\">\n",
       "      <th></th>\n",
       "      <th>j</th>\n",
       "      <th>Polarity</th>\n",
       "      <th>Coverage</th>\n",
       "      <th>Overlaps</th>\n",
       "      <th>Conflicts</th>\n",
       "    </tr>\n",
       "  </thead>\n",
       "  <tbody>\n",
       "    <tr>\n",
       "      <th>check_out</th>\n",
       "      <td>0</td>\n",
       "      <td>[1]</td>\n",
       "      <td>0.214376</td>\n",
       "      <td>0.214376</td>\n",
       "      <td>0.0</td>\n",
       "    </tr>\n",
       "    <tr>\n",
       "      <th>check</th>\n",
       "      <td>1</td>\n",
       "      <td>[1]</td>\n",
       "      <td>0.257881</td>\n",
       "      <td>0.233922</td>\n",
       "      <td>0.0</td>\n",
       "    </tr>\n",
       "    <tr>\n",
       "      <th>lf_contains_link</th>\n",
       "      <td>2</td>\n",
       "      <td>[1]</td>\n",
       "      <td>0.119168</td>\n",
       "      <td>0.011980</td>\n",
       "      <td>0.0</td>\n",
       "    </tr>\n",
       "    <tr>\n",
       "      <th>my_channel</th>\n",
       "      <td>3</td>\n",
       "      <td>[1]</td>\n",
       "      <td>0.069987</td>\n",
       "      <td>0.057377</td>\n",
       "      <td>0.0</td>\n",
       "    </tr>\n",
       "    <tr>\n",
       "      <th>if_subscribe</th>\n",
       "      <td>4</td>\n",
       "      <td>[1]</td>\n",
       "      <td>0.127364</td>\n",
       "      <td>0.054855</td>\n",
       "      <td>0.0</td>\n",
       "    </tr>\n",
       "  </tbody>\n",
       "</table>\n",
       "</div>"
      ],
      "text/plain": [
       "                  j Polarity  Coverage  Overlaps  Conflicts\n",
       "check_out         0      [1]  0.214376  0.214376        0.0\n",
       "check             1      [1]  0.257881  0.233922        0.0\n",
       "lf_contains_link  2      [1]  0.119168  0.011980        0.0\n",
       "my_channel        3      [1]  0.069987  0.057377        0.0\n",
       "if_subscribe      4      [1]  0.127364  0.054855        0.0"
      ]
     },
     "execution_count": 26,
     "metadata": {},
     "output_type": "execute_result"
    }
   ],
   "source": [
    "LFAnalysis(L=L_train, lfs=lfs).lf_summary()"
   ]
  },
  {
   "cell_type": "code",
   "execution_count": null,
   "metadata": {},
   "outputs": [],
   "source": [
    "\"\"\"\n",
    "Trying and checking the results by filtering out the matching rows and checking for false positives\n",
    "\"\"\""
   ]
  },
  {
   "cell_type": "code",
   "execution_count": 27,
   "metadata": {},
   "outputs": [
    {
     "data": {
      "text/html": [
       "<div>\n",
       "<style scoped>\n",
       "    .dataframe tbody tr th:only-of-type {\n",
       "        vertical-align: middle;\n",
       "    }\n",
       "\n",
       "    .dataframe tbody tr th {\n",
       "        vertical-align: top;\n",
       "    }\n",
       "\n",
       "    .dataframe thead th {\n",
       "        text-align: right;\n",
       "    }\n",
       "</style>\n",
       "<table border=\"1\" class=\"dataframe\">\n",
       "  <thead>\n",
       "    <tr style=\"text-align: right;\">\n",
       "      <th></th>\n",
       "      <th>author</th>\n",
       "      <th>date</th>\n",
       "      <th>text</th>\n",
       "      <th>label</th>\n",
       "      <th>video</th>\n",
       "    </tr>\n",
       "  </thead>\n",
       "  <tbody>\n",
       "    <tr>\n",
       "      <th>34</th>\n",
       "      <td>TA Stealth</td>\n",
       "      <td>2015-03-11T01:25:46.234000</td>\n",
       "      <td>Cool Video LMFAOVEVO! You should check out my ...</td>\n",
       "      <td>-1.0</td>\n",
       "      <td>3</td>\n",
       "    </tr>\n",
       "    <tr>\n",
       "      <th>288</th>\n",
       "      <td>ItsJoey Dash</td>\n",
       "      <td>2014-07-22T10:02:25.925000</td>\n",
       "      <td>EVERYONE PLEASE GO SUBSCRIBE TO MY CHANNEL OR ...</td>\n",
       "      <td>-1.0</td>\n",
       "      <td>3</td>\n",
       "    </tr>\n",
       "    <tr>\n",
       "      <th>36</th>\n",
       "      <td>Victor Gamer</td>\n",
       "      <td>2015-04-13T02:00:20.152000</td>\n",
       "      <td>View 851.247.920&lt;br /&gt;&lt;br /&gt; Best youtube Vide...</td>\n",
       "      <td>-1.0</td>\n",
       "      <td>3</td>\n",
       "    </tr>\n",
       "    <tr>\n",
       "      <th>263</th>\n",
       "      <td>Backup Plus</td>\n",
       "      <td>2014-11-03T17:39:07</td>\n",
       "      <td>Suscribe My Channel Please XD lol﻿</td>\n",
       "      <td>-1.0</td>\n",
       "      <td>1</td>\n",
       "    </tr>\n",
       "    <tr>\n",
       "      <th>386</th>\n",
       "      <td>ItsJoey Dash</td>\n",
       "      <td>2014-07-22T10:04:05.755000</td>\n",
       "      <td>EVERYONE PLEASE SUBSCRIBE TO MY CHANNEL OR CAN...</td>\n",
       "      <td>-1.0</td>\n",
       "      <td>3</td>\n",
       "    </tr>\n",
       "    <tr>\n",
       "      <th>404</th>\n",
       "      <td>M.E.S</td>\n",
       "      <td>NaN</td>\n",
       "      <td>hey its M.E.S here I&amp;#39;m a young up and comi...</td>\n",
       "      <td>-1.0</td>\n",
       "      <td>4</td>\n",
       "    </tr>\n",
       "    <tr>\n",
       "      <th>341</th>\n",
       "      <td>superfacoo</td>\n",
       "      <td>NaN</td>\n",
       "      <td>Hey? Everyone Please take a moment to read thi...</td>\n",
       "      <td>-1.0</td>\n",
       "      <td>4</td>\n",
       "    </tr>\n",
       "    <tr>\n",
       "      <th>229</th>\n",
       "      <td>Terry-Lee Mackenney</td>\n",
       "      <td>NaN</td>\n",
       "      <td>Hi Guys im an Upcoming Rapper if you could che...</td>\n",
       "      <td>-1.0</td>\n",
       "      <td>4</td>\n",
       "    </tr>\n",
       "    <tr>\n",
       "      <th>157</th>\n",
       "      <td>TopMusicWorld HD</td>\n",
       "      <td>2014-10-19T23:27:50</td>\n",
       "      <td>Please Subscribe In My Channel →﻿</td>\n",
       "      <td>-1.0</td>\n",
       "      <td>2</td>\n",
       "    </tr>\n",
       "    <tr>\n",
       "      <th>48</th>\n",
       "      <td>Kiddy Kidso</td>\n",
       "      <td>2014-01-19T16:49:52</td>\n",
       "      <td>Check my channel please! And listen to the bes...</td>\n",
       "      <td>-1.0</td>\n",
       "      <td>1</td>\n",
       "    </tr>\n",
       "  </tbody>\n",
       "</table>\n",
       "</div>"
      ],
      "text/plain": [
       "                  author                        date  \\\n",
       "34            TA Stealth  2015-03-11T01:25:46.234000   \n",
       "288         ItsJoey Dash  2014-07-22T10:02:25.925000   \n",
       "36          Victor Gamer  2015-04-13T02:00:20.152000   \n",
       "263          Backup Plus         2014-11-03T17:39:07   \n",
       "386         ItsJoey Dash  2014-07-22T10:04:05.755000   \n",
       "404                M.E.S                         NaN   \n",
       "341           superfacoo                         NaN   \n",
       "229  Terry-Lee Mackenney                         NaN   \n",
       "157     TopMusicWorld HD         2014-10-19T23:27:50   \n",
       "48           Kiddy Kidso         2014-01-19T16:49:52   \n",
       "\n",
       "                                                  text  label  video  \n",
       "34   Cool Video LMFAOVEVO! You should check out my ...   -1.0      3  \n",
       "288  EVERYONE PLEASE GO SUBSCRIBE TO MY CHANNEL OR ...   -1.0      3  \n",
       "36   View 851.247.920<br /><br /> Best youtube Vide...   -1.0      3  \n",
       "263                 Suscribe My Channel Please XD lol﻿   -1.0      1  \n",
       "386  EVERYONE PLEASE SUBSCRIBE TO MY CHANNEL OR CAN...   -1.0      3  \n",
       "404  hey its M.E.S here I&#39;m a young up and comi...   -1.0      4  \n",
       "341  Hey? Everyone Please take a moment to read thi...   -1.0      4  \n",
       "229  Hi Guys im an Upcoming Rapper if you could che...   -1.0      4  \n",
       "157                  Please Subscribe In My Channel →﻿   -1.0      2  \n",
       "48   Check my channel please! And listen to the bes...   -1.0      1  "
      ]
     },
     "execution_count": 27,
     "metadata": {},
     "output_type": "execute_result"
    }
   ],
   "source": [
    "# display(df_train.iloc[L_train[:, 1] == SPAM].sample(10, random_state=2020))\n",
    "# display(df_train.iloc[L_train[:, 2] == SPAM].sample(10, random_state=2020))\n",
    "df_train.iloc[L_train[:, 3] == SPAM].sample(10, random_state=2020)"
   ]
  },
  {
   "cell_type": "code",
   "execution_count": null,
   "metadata": {},
   "outputs": [],
   "source": [
    "\"\"\"\n",
    "Combining two labeling functions and checking the results\n",
    "\"\"\""
   ]
  },
  {
   "cell_type": "code",
   "execution_count": 28,
   "metadata": {},
   "outputs": [
    {
     "data": {
      "text/html": [
       "<div>\n",
       "<style scoped>\n",
       "    .dataframe tbody tr th:only-of-type {\n",
       "        vertical-align: middle;\n",
       "    }\n",
       "\n",
       "    .dataframe tbody tr th {\n",
       "        vertical-align: top;\n",
       "    }\n",
       "\n",
       "    .dataframe thead th {\n",
       "        text-align: right;\n",
       "    }\n",
       "</style>\n",
       "<table border=\"1\" class=\"dataframe\">\n",
       "  <thead>\n",
       "    <tr style=\"text-align: right;\">\n",
       "      <th></th>\n",
       "      <th>author</th>\n",
       "      <th>date</th>\n",
       "      <th>text</th>\n",
       "      <th>label</th>\n",
       "      <th>video</th>\n",
       "    </tr>\n",
       "  </thead>\n",
       "  <tbody>\n",
       "    <tr>\n",
       "      <th>230</th>\n",
       "      <td>LBEProductions</td>\n",
       "      <td>2014-11-12T01:40:22</td>\n",
       "      <td>Hey guys can you check my channel out plz. I d...</td>\n",
       "      <td>-1.0</td>\n",
       "      <td>1</td>\n",
       "    </tr>\n",
       "    <tr>\n",
       "      <th>287</th>\n",
       "      <td>DERRICK HANFORD</td>\n",
       "      <td>2014-12-05T22:52:29.316000</td>\n",
       "      <td>White people are going extinct for more inform...</td>\n",
       "      <td>-1.0</td>\n",
       "      <td>3</td>\n",
       "    </tr>\n",
       "    <tr>\n",
       "      <th>113</th>\n",
       "      <td>Carlos Thegamer</td>\n",
       "      <td>2013-12-01T01:20:21</td>\n",
       "      <td>subscribe to my channel people :D﻿</td>\n",
       "      <td>-1.0</td>\n",
       "      <td>1</td>\n",
       "    </tr>\n",
       "    <tr>\n",
       "      <th>301</th>\n",
       "      <td>Ractive</td>\n",
       "      <td>NaN</td>\n",
       "      <td>i been working so hard for the past 60 days to...</td>\n",
       "      <td>-1.0</td>\n",
       "      <td>4</td>\n",
       "    </tr>\n",
       "    <tr>\n",
       "      <th>246</th>\n",
       "      <td>Patrik Gybka</td>\n",
       "      <td>2015-05-05T09:32:04.687000</td>\n",
       "      <td>SUBSCRIBE MY CHANNEL PLEASE LOL PRO PLAYS)﻿</td>\n",
       "      <td>-1.0</td>\n",
       "      <td>3</td>\n",
       "    </tr>\n",
       "    <tr>\n",
       "      <th>8</th>\n",
       "      <td>Youyou A.</td>\n",
       "      <td>2014-10-21T15:20:49</td>\n",
       "      <td>I make guitar covers, please have a look at my...</td>\n",
       "      <td>-1.0</td>\n",
       "      <td>2</td>\n",
       "    </tr>\n",
       "    <tr>\n",
       "      <th>333</th>\n",
       "      <td>FreexGaming</td>\n",
       "      <td>2014-10-18T08:12:26</td>\n",
       "      <td>want to win borderlands the pre-sequel? check ...</td>\n",
       "      <td>-1.0</td>\n",
       "      <td>2</td>\n",
       "    </tr>\n",
       "    <tr>\n",
       "      <th>161</th>\n",
       "      <td>MarianMusicChannel</td>\n",
       "      <td>2014-08-24T03:57:52</td>\n",
       "      <td>Hello! I'm Marian, I'm a singer from Venezuela...</td>\n",
       "      <td>-1.0</td>\n",
       "      <td>2</td>\n",
       "    </tr>\n",
       "    <tr>\n",
       "      <th>171</th>\n",
       "      <td>MR magic man</td>\n",
       "      <td>2014-09-25T10:42:47</td>\n",
       "      <td>Please look at my channel﻿</td>\n",
       "      <td>-1.0</td>\n",
       "      <td>2</td>\n",
       "    </tr>\n",
       "    <tr>\n",
       "      <th>10</th>\n",
       "      <td>Dany PK</td>\n",
       "      <td>NaN</td>\n",
       "      <td>SUBSCRIBE TO MY CHANNEL X PLEASE!. SPARE</td>\n",
       "      <td>-1.0</td>\n",
       "      <td>4</td>\n",
       "    </tr>\n",
       "  </tbody>\n",
       "</table>\n",
       "</div>"
      ],
      "text/plain": [
       "                 author                        date  \\\n",
       "230      LBEProductions         2014-11-12T01:40:22   \n",
       "287     DERRICK HANFORD  2014-12-05T22:52:29.316000   \n",
       "113     Carlos Thegamer         2013-12-01T01:20:21   \n",
       "301             Ractive                         NaN   \n",
       "246        Patrik Gybka  2015-05-05T09:32:04.687000   \n",
       "8             Youyou A.         2014-10-21T15:20:49   \n",
       "333         FreexGaming         2014-10-18T08:12:26   \n",
       "161  MarianMusicChannel         2014-08-24T03:57:52   \n",
       "171        MR magic man         2014-09-25T10:42:47   \n",
       "10              Dany PK                         NaN   \n",
       "\n",
       "                                                  text  label  video  \n",
       "230  Hey guys can you check my channel out plz. I d...   -1.0      1  \n",
       "287  White people are going extinct for more inform...   -1.0      3  \n",
       "113                 subscribe to my channel people :D﻿   -1.0      1  \n",
       "301  i been working so hard for the past 60 days to...   -1.0      4  \n",
       "246        SUBSCRIBE MY CHANNEL PLEASE LOL PRO PLAYS)﻿   -1.0      3  \n",
       "8    I make guitar covers, please have a look at my...   -1.0      2  \n",
       "333  want to win borderlands the pre-sequel? check ...   -1.0      2  \n",
       "161  Hello! I'm Marian, I'm a singer from Venezuela...   -1.0      2  \n",
       "171                         Please look at my channel﻿   -1.0      2  \n",
       "10            SUBSCRIBE TO MY CHANNEL X PLEASE!. SPARE   -1.0      4  "
      ]
     },
     "execution_count": 28,
     "metadata": {},
     "output_type": "execute_result"
    }
   ],
   "source": [
    "#buckets = get_label_buckets(L_train[:, 0], L_train[:, 1])\n",
    "#buckets = get_label_buckets(L_train[:, 1], L_train[:, 2])\n",
    "buckets = get_label_buckets(L_train[:, 0], L_train[:, 3])\n",
    "\n",
    "df_train.iloc[buckets[(ABSTAIN, SPAM)]].sample(10, random_state=1)"
   ]
  },
  {
   "cell_type": "markdown",
   "metadata": {},
   "source": [
    "# Regex Based Labeling Functions"
   ]
  },
  {
   "cell_type": "code",
   "execution_count": null,
   "metadata": {},
   "outputs": [],
   "source": [
    "\"\"\"\n",
    "Using regular expressions to make the labeling functions more adaptive over \n",
    "differnt variations of the pattern string and repeating the same process as above.\n",
    "\"\"\""
   ]
  },
  {
   "cell_type": "code",
   "execution_count": 29,
   "metadata": {},
   "outputs": [],
   "source": [
    "#using regular expressions\n",
    "@labeling_function()\n",
    "def regex_check_out(x):\n",
    "    return SPAM if re.search(r\"check.*out\", x.text, flags=re.I) else ABSTAIN"
   ]
  },
  {
   "cell_type": "code",
   "execution_count": 30,
   "metadata": {},
   "outputs": [
    {
     "name": "stderr",
     "output_type": "stream",
     "text": [
      "100%|██████████| 1586/1586 [00:00<00:00, 22630.65it/s]\n"
     ]
    }
   ],
   "source": [
    "lfs = [check_out, check, regex_check_out]\n",
    "\n",
    "applier = PandasLFApplier(lfs=lfs)\n",
    "L_train = applier.apply(df=df_train)"
   ]
  },
  {
   "cell_type": "code",
   "execution_count": 31,
   "metadata": {},
   "outputs": [
    {
     "data": {
      "text/html": [
       "<div>\n",
       "<style scoped>\n",
       "    .dataframe tbody tr th:only-of-type {\n",
       "        vertical-align: middle;\n",
       "    }\n",
       "\n",
       "    .dataframe tbody tr th {\n",
       "        vertical-align: top;\n",
       "    }\n",
       "\n",
       "    .dataframe thead th {\n",
       "        text-align: right;\n",
       "    }\n",
       "</style>\n",
       "<table border=\"1\" class=\"dataframe\">\n",
       "  <thead>\n",
       "    <tr style=\"text-align: right;\">\n",
       "      <th></th>\n",
       "      <th>j</th>\n",
       "      <th>Polarity</th>\n",
       "      <th>Coverage</th>\n",
       "      <th>Overlaps</th>\n",
       "      <th>Conflicts</th>\n",
       "    </tr>\n",
       "  </thead>\n",
       "  <tbody>\n",
       "    <tr>\n",
       "      <th>check_out</th>\n",
       "      <td>0</td>\n",
       "      <td>[1]</td>\n",
       "      <td>0.214376</td>\n",
       "      <td>0.214376</td>\n",
       "      <td>0.0</td>\n",
       "    </tr>\n",
       "    <tr>\n",
       "      <th>check</th>\n",
       "      <td>1</td>\n",
       "      <td>[1]</td>\n",
       "      <td>0.257881</td>\n",
       "      <td>0.233922</td>\n",
       "      <td>0.0</td>\n",
       "    </tr>\n",
       "    <tr>\n",
       "      <th>regex_check_out</th>\n",
       "      <td>2</td>\n",
       "      <td>[1]</td>\n",
       "      <td>0.233922</td>\n",
       "      <td>0.233922</td>\n",
       "      <td>0.0</td>\n",
       "    </tr>\n",
       "  </tbody>\n",
       "</table>\n",
       "</div>"
      ],
      "text/plain": [
       "                 j Polarity  Coverage  Overlaps  Conflicts\n",
       "check_out        0      [1]  0.214376  0.214376        0.0\n",
       "check            1      [1]  0.257881  0.233922        0.0\n",
       "regex_check_out  2      [1]  0.233922  0.233922        0.0"
      ]
     },
     "execution_count": 31,
     "metadata": {},
     "output_type": "execute_result"
    }
   ],
   "source": [
    "LFAnalysis(L=L_train, lfs=lfs).lf_summary()"
   ]
  },
  {
   "cell_type": "code",
   "execution_count": 33,
   "metadata": {},
   "outputs": [
    {
     "data": {
      "text/html": [
       "<div>\n",
       "<style scoped>\n",
       "    .dataframe tbody tr th:only-of-type {\n",
       "        vertical-align: middle;\n",
       "    }\n",
       "\n",
       "    .dataframe tbody tr th {\n",
       "        vertical-align: top;\n",
       "    }\n",
       "\n",
       "    .dataframe thead th {\n",
       "        text-align: right;\n",
       "    }\n",
       "</style>\n",
       "<table border=\"1\" class=\"dataframe\">\n",
       "  <thead>\n",
       "    <tr style=\"text-align: right;\">\n",
       "      <th></th>\n",
       "      <th>author</th>\n",
       "      <th>date</th>\n",
       "      <th>text</th>\n",
       "      <th>label</th>\n",
       "      <th>video</th>\n",
       "    </tr>\n",
       "  </thead>\n",
       "  <tbody>\n",
       "    <tr>\n",
       "      <th>112</th>\n",
       "      <td>ArioseRose</td>\n",
       "      <td>2014-11-13T15:20:31</td>\n",
       "      <td>Don't mind me, I'm just checking what the view...</td>\n",
       "      <td>-1.0</td>\n",
       "      <td>1</td>\n",
       "    </tr>\n",
       "    <tr>\n",
       "      <th>273</th>\n",
       "      <td>Artady</td>\n",
       "      <td>2014-08-11T16:27:55</td>\n",
       "      <td>https://soundcloud.com/artady please check my ...</td>\n",
       "      <td>-1.0</td>\n",
       "      <td>2</td>\n",
       "    </tr>\n",
       "    <tr>\n",
       "      <th>190</th>\n",
       "      <td>Warrdrew</td>\n",
       "      <td>2014-11-07T07:46:57</td>\n",
       "      <td>I'm here to check the views.. holy shit﻿</td>\n",
       "      <td>-1.0</td>\n",
       "      <td>1</td>\n",
       "    </tr>\n",
       "    <tr>\n",
       "      <th>146</th>\n",
       "      <td>Bob Kanowski</td>\n",
       "      <td>2013-11-28T12:33:27</td>\n",
       "      <td>i turned it on mute as soon is i came on i jus...</td>\n",
       "      <td>-1.0</td>\n",
       "      <td>1</td>\n",
       "    </tr>\n",
       "    <tr>\n",
       "      <th>139</th>\n",
       "      <td>MFkin PRXPHETZ</td>\n",
       "      <td>2014-01-20T09:08:39</td>\n",
       "      <td>if you like raw talent, raw lyrics, straight r...</td>\n",
       "      <td>-1.0</td>\n",
       "      <td>1</td>\n",
       "    </tr>\n",
       "    <tr>\n",
       "      <th>191</th>\n",
       "      <td>RezAIIDay</td>\n",
       "      <td>2014-11-05T22:50:58</td>\n",
       "      <td>Such a good song ans Katy sounds great over th...</td>\n",
       "      <td>-1.0</td>\n",
       "      <td>2</td>\n",
       "    </tr>\n",
       "    <tr>\n",
       "      <th>16</th>\n",
       "      <td>zhichao wang</td>\n",
       "      <td>2013-11-29T02:13:56</td>\n",
       "      <td>i think about 100 millions of the views come f...</td>\n",
       "      <td>-1.0</td>\n",
       "      <td>1</td>\n",
       "    </tr>\n",
       "    <tr>\n",
       "      <th>162</th>\n",
       "      <td>Owen Lai</td>\n",
       "      <td>2013-12-01T04:51:52</td>\n",
       "      <td>just checking the views﻿</td>\n",
       "      <td>-1.0</td>\n",
       "      <td>1</td>\n",
       "    </tr>\n",
       "    <tr>\n",
       "      <th>239</th>\n",
       "      <td>Cony</td>\n",
       "      <td>2013-11-28T16:01:47</td>\n",
       "      <td>You should check my channel for Funny VIDEOS!!﻿</td>\n",
       "      <td>-1.0</td>\n",
       "      <td>1</td>\n",
       "    </tr>\n",
       "    <tr>\n",
       "      <th>322</th>\n",
       "      <td>Minecraft-Viasat</td>\n",
       "      <td>2014-11-03T14:38:53</td>\n",
       "      <td>Check my channel﻿</td>\n",
       "      <td>-1.0</td>\n",
       "      <td>1</td>\n",
       "    </tr>\n",
       "  </tbody>\n",
       "</table>\n",
       "</div>"
      ],
      "text/plain": [
       "               author                 date  \\\n",
       "112        ArioseRose  2014-11-13T15:20:31   \n",
       "273            Artady  2014-08-11T16:27:55   \n",
       "190          Warrdrew  2014-11-07T07:46:57   \n",
       "146      Bob Kanowski  2013-11-28T12:33:27   \n",
       "139    MFkin PRXPHETZ  2014-01-20T09:08:39   \n",
       "191         RezAIIDay  2014-11-05T22:50:58   \n",
       "16       zhichao wang  2013-11-29T02:13:56   \n",
       "162          Owen Lai  2013-12-01T04:51:52   \n",
       "239              Cony  2013-11-28T16:01:47   \n",
       "322  Minecraft-Viasat  2014-11-03T14:38:53   \n",
       "\n",
       "                                                  text  label  video  \n",
       "112  Don't mind me, I'm just checking what the view...   -1.0      1  \n",
       "273  https://soundcloud.com/artady please check my ...   -1.0      2  \n",
       "190           I'm here to check the views.. holy shit﻿   -1.0      1  \n",
       "146  i turned it on mute as soon is i came on i jus...   -1.0      1  \n",
       "139  if you like raw talent, raw lyrics, straight r...   -1.0      1  \n",
       "191  Such a good song ans Katy sounds great over th...   -1.0      2  \n",
       "16   i think about 100 millions of the views come f...   -1.0      1  \n",
       "162                           just checking the views﻿   -1.0      1  \n",
       "239    You should check my channel for Funny VIDEOS!!﻿   -1.0      1  \n",
       "322                                  Check my channel﻿   -1.0      1  "
      ]
     },
     "execution_count": 33,
     "metadata": {},
     "output_type": "execute_result"
    }
   ],
   "source": [
    "buckets = get_label_buckets(L_train[:, 1], L_train[:, 2])\n",
    "df_train.iloc[buckets[(SPAM, ABSTAIN)]].sample(10, random_state=2020)"
   ]
  },
  {
   "cell_type": "code",
   "execution_count": null,
   "metadata": {},
   "outputs": [],
   "source": [
    "\"\"\"\n",
    "Let's use a 3rd party model, TextBlob in this case, to write a labeling function. Snorkel makes this very\n",
    "simple to implement.\n",
    "\"\"\""
   ]
  },
  {
   "cell_type": "code",
   "execution_count": 34,
   "metadata": {},
   "outputs": [],
   "source": [
    "@preprocessor(memoize=True)\n",
    "def textblob_sentiment(x):\n",
    "    scores = TextBlob(x.text)\n",
    "    x.polarity = scores.sentiment.polarity\n",
    "    x.subjectivity = scores.sentiment.subjectivity\n",
    "    return x"
   ]
  },
  {
   "cell_type": "code",
   "execution_count": 35,
   "metadata": {},
   "outputs": [],
   "source": [
    "@labeling_function(pre=[textblob_sentiment])\n",
    "def textblob_polarity(x):\n",
    "    return HAM if x.polarity > 0.9 else ABSTAIN"
   ]
  },
  {
   "cell_type": "code",
   "execution_count": 36,
   "metadata": {},
   "outputs": [],
   "source": [
    "@labeling_function(pre=[textblob_sentiment])\n",
    "def textblob_subjectivity(x):\n",
    "    return HAM if x.subjectivity >= 0.5 else ABSTAIN"
   ]
  },
  {
   "cell_type": "code",
   "execution_count": 37,
   "metadata": {},
   "outputs": [
    {
     "name": "stderr",
     "output_type": "stream",
     "text": [
      "100%|██████████| 1586/1586 [00:01<00:00, 1073.91it/s]\n"
     ]
    }
   ],
   "source": [
    "lfs = [textblob_polarity, textblob_subjectivity]\n",
    "\n",
    "applier = PandasLFApplier(lfs)\n",
    "L_train = applier.apply(df_train)"
   ]
  },
  {
   "cell_type": "code",
   "execution_count": 38,
   "metadata": {},
   "outputs": [
    {
     "data": {
      "text/html": [
       "<div>\n",
       "<style scoped>\n",
       "    .dataframe tbody tr th:only-of-type {\n",
       "        vertical-align: middle;\n",
       "    }\n",
       "\n",
       "    .dataframe tbody tr th {\n",
       "        vertical-align: top;\n",
       "    }\n",
       "\n",
       "    .dataframe thead th {\n",
       "        text-align: right;\n",
       "    }\n",
       "</style>\n",
       "<table border=\"1\" class=\"dataframe\">\n",
       "  <thead>\n",
       "    <tr style=\"text-align: right;\">\n",
       "      <th></th>\n",
       "      <th>j</th>\n",
       "      <th>Polarity</th>\n",
       "      <th>Coverage</th>\n",
       "      <th>Overlaps</th>\n",
       "      <th>Conflicts</th>\n",
       "    </tr>\n",
       "  </thead>\n",
       "  <tbody>\n",
       "    <tr>\n",
       "      <th>textblob_polarity</th>\n",
       "      <td>0</td>\n",
       "      <td>[0]</td>\n",
       "      <td>0.035309</td>\n",
       "      <td>0.013871</td>\n",
       "      <td>0.0</td>\n",
       "    </tr>\n",
       "    <tr>\n",
       "      <th>textblob_subjectivity</th>\n",
       "      <td>1</td>\n",
       "      <td>[0]</td>\n",
       "      <td>0.357503</td>\n",
       "      <td>0.013871</td>\n",
       "      <td>0.0</td>\n",
       "    </tr>\n",
       "  </tbody>\n",
       "</table>\n",
       "</div>"
      ],
      "text/plain": [
       "                       j Polarity  Coverage  Overlaps  Conflicts\n",
       "textblob_polarity      0      [0]  0.035309  0.013871        0.0\n",
       "textblob_subjectivity  1      [0]  0.357503  0.013871        0.0"
      ]
     },
     "execution_count": 38,
     "metadata": {},
     "output_type": "execute_result"
    }
   ],
   "source": [
    "LFAnalysis(L_train, lfs).lf_summary()"
   ]
  },
  {
   "cell_type": "markdown",
   "metadata": {},
   "source": [
    "# Writing more labeling functions"
   ]
  },
  {
   "cell_type": "code",
   "execution_count": null,
   "metadata": {},
   "outputs": [],
   "source": [
    "\"\"\"\n",
    "Single labeling functions arent enough to test the entire databsase with accuracy as they do not have enough\n",
    "coverage, we usually need to combine differnt labeling functions(more rubost and accurate ones) to get this done.\n",
    "\n",
    "Keyword based labeling fucntions: These are similar to the ones used befeore with the labeling_fucntion decorator.\n",
    "here we just make a few changes.\n",
    "\"\"\""
   ]
  },
  {
   "cell_type": "code",
   "execution_count": 39,
   "metadata": {},
   "outputs": [],
   "source": [
    "def keyword_lookup(x, keywords, label):\n",
    "    if any(word in x.text.lower() for word in keywords):\n",
    "        return label\n",
    "    return ABSTAIN\n",
    "\n",
    "\n",
    "def make_keyword_lf(keywords, label=SPAM):\n",
    "    return LabelingFunction(\n",
    "        name=f\"keyword_{keywords[0]}\",\n",
    "        f=keyword_lookup,\n",
    "        resources=dict(keywords=keywords, label=label),\n",
    "    )\n",
    "\n",
    "\n",
    "\"\"\"Spam comments talk about 'my channel', 'my video', etc.\"\"\"\n",
    "keyword_my = make_keyword_lf(keywords=[\"my\"])\n",
    "\n",
    "\"\"\"Spam comments ask users to subscribe to their channels.\"\"\"\n",
    "keyword_subscribe = make_keyword_lf(keywords=[\"subscribe\"])\n",
    "\n",
    "\"\"\"Spam comments post links to other channels.\"\"\"\n",
    "keyword_link = make_keyword_lf(keywords=[\"http\"])\n",
    "\n",
    "\"\"\"Spam comments make requests rather than commenting.\"\"\"\n",
    "keyword_please = make_keyword_lf(keywords=[\"please\", \"plz\"])\n",
    "\n",
    "\"\"\"Ham comments actually talk about the video's content.\"\"\"\n",
    "keyword_song = make_keyword_lf(keywords=[\"song\"], label=HAM)"
   ]
  },
  {
   "cell_type": "code",
   "execution_count": null,
   "metadata": {},
   "outputs": [],
   "source": [
    "\"\"\"\n",
    "Modifying the above functions to use regualr expressions too would be an interesting exercise which we will leave \n",
    "to the reader.\n",
    "\n",
    "Having other methods such as a Rule of Thumb or Heuristics(length of text) could help too. These are not extremely \n",
    "accurate but will get the job done to a certain extent.\n",
    "\n",
    "An example is given below\n",
    "\"\"\""
   ]
  },
  {
   "cell_type": "code",
   "execution_count": 40,
   "metadata": {},
   "outputs": [],
   "source": [
    "@labeling_function()\n",
    "def short_comment(x):\n",
    "    \"\"\"Ham comments are often short, such as 'cool video!'\"\"\"\n",
    "    return HAM if len(x.text.split()) < 5 else ABSTAIN"
   ]
  },
  {
   "cell_type": "code",
   "execution_count": null,
   "metadata": {},
   "outputs": [],
   "source": [
    "\"\"\"\n",
    "We can also use NLP preprocessors such as spaCy to enrich our data and provide us with more fields to work on \n",
    "which will make the labeling a bit easier \n",
    "\"\"\""
   ]
  },
  {
   "cell_type": "code",
   "execution_count": 41,
   "metadata": {},
   "outputs": [],
   "source": [
    "# The SpacyPreprocessor parses the text in text_field and\n",
    "# stores the new enriched representation in doc_field\n",
    "spacy = SpacyPreprocessor(text_field=\"text\", doc_field=\"doc\", memoize=True)\n",
    "\n",
    "@labeling_function(pre=[spacy])\n",
    "def has_person(x):\n",
    "    \"\"\"Ham comments mention specific people and are short.\"\"\"\n",
    "    if len(x.doc) < 20 and any([ent.label_ == \"PERSON\" for ent in x.doc.ents]):\n",
    "        return HAM\n",
    "    else:\n",
    "        return ABSTAIN"
   ]
  },
  {
   "cell_type": "code",
   "execution_count": 42,
   "metadata": {},
   "outputs": [],
   "source": [
    "#snorkel has a pre built labeling function like decorator that uses spaCy as it is a very common nlp preprocessor\n",
    "\n",
    "@nlp_labeling_function()\n",
    "def has_person_nlp(x):\n",
    "    \"\"\"Ham comments mention specific people and are short.\"\"\"\n",
    "    if len(x.doc) < 20 and any([ent.label_ == \"PERSON\" for ent in x.doc.ents]):\n",
    "        return HAM\n",
    "    else:\n",
    "        return ABSTAIN"
   ]
  },
  {
   "cell_type": "markdown",
   "metadata": {},
   "source": [
    "# Outputs"
   ]
  },
  {
   "cell_type": "code",
   "execution_count": null,
   "metadata": {},
   "outputs": [],
   "source": [
    "\"\"\"\n",
    "Let's move onto learning how we can go about combining labeling function outputs with labeling models.\n",
    "\"\"\""
   ]
  },
  {
   "cell_type": "code",
   "execution_count": 43,
   "metadata": {},
   "outputs": [],
   "source": [
    "lfs = [\n",
    "    keyword_my,\n",
    "    keyword_subscribe,\n",
    "    keyword_link,\n",
    "    keyword_please,\n",
    "    keyword_song,\n",
    "    regex_check_out,\n",
    "    short_comment,\n",
    "    has_person_nlp,\n",
    "    textblob_polarity,\n",
    "    textblob_subjectivity,\n",
    "]"
   ]
  },
  {
   "cell_type": "code",
   "execution_count": 44,
   "metadata": {},
   "outputs": [
    {
     "name": "stderr",
     "output_type": "stream",
     "text": [
      "100%|██████████| 1586/1586 [00:13<00:00, 120.66it/s]\n",
      "100%|██████████| 250/250 [00:02<00:00, 103.09it/s]\n"
     ]
    }
   ],
   "source": [
    "applier = PandasLFApplier(lfs=lfs)\n",
    "L_train = applier.apply(df=df_train)\n",
    "L_test = applier.apply(df=df_test)"
   ]
  },
  {
   "cell_type": "code",
   "execution_count": 45,
   "metadata": {},
   "outputs": [
    {
     "data": {
      "text/html": [
       "<div>\n",
       "<style scoped>\n",
       "    .dataframe tbody tr th:only-of-type {\n",
       "        vertical-align: middle;\n",
       "    }\n",
       "\n",
       "    .dataframe tbody tr th {\n",
       "        vertical-align: top;\n",
       "    }\n",
       "\n",
       "    .dataframe thead th {\n",
       "        text-align: right;\n",
       "    }\n",
       "</style>\n",
       "<table border=\"1\" class=\"dataframe\">\n",
       "  <thead>\n",
       "    <tr style=\"text-align: right;\">\n",
       "      <th></th>\n",
       "      <th>j</th>\n",
       "      <th>Polarity</th>\n",
       "      <th>Coverage</th>\n",
       "      <th>Overlaps</th>\n",
       "      <th>Conflicts</th>\n",
       "    </tr>\n",
       "  </thead>\n",
       "  <tbody>\n",
       "    <tr>\n",
       "      <th>keyword_my</th>\n",
       "      <td>0</td>\n",
       "      <td>[1]</td>\n",
       "      <td>0.198613</td>\n",
       "      <td>0.185372</td>\n",
       "      <td>0.110340</td>\n",
       "    </tr>\n",
       "    <tr>\n",
       "      <th>keyword_subscribe</th>\n",
       "      <td>1</td>\n",
       "      <td>[1]</td>\n",
       "      <td>0.127364</td>\n",
       "      <td>0.107188</td>\n",
       "      <td>0.067465</td>\n",
       "    </tr>\n",
       "    <tr>\n",
       "      <th>keyword_http</th>\n",
       "      <td>2</td>\n",
       "      <td>[1]</td>\n",
       "      <td>0.119168</td>\n",
       "      <td>0.100252</td>\n",
       "      <td>0.081337</td>\n",
       "    </tr>\n",
       "    <tr>\n",
       "      <th>keyword_please</th>\n",
       "      <td>3</td>\n",
       "      <td>[1]</td>\n",
       "      <td>0.112232</td>\n",
       "      <td>0.109710</td>\n",
       "      <td>0.058008</td>\n",
       "    </tr>\n",
       "    <tr>\n",
       "      <th>keyword_song</th>\n",
       "      <td>4</td>\n",
       "      <td>[0]</td>\n",
       "      <td>0.141866</td>\n",
       "      <td>0.110340</td>\n",
       "      <td>0.043506</td>\n",
       "    </tr>\n",
       "    <tr>\n",
       "      <th>regex_check_out</th>\n",
       "      <td>5</td>\n",
       "      <td>[1]</td>\n",
       "      <td>0.233922</td>\n",
       "      <td>0.129887</td>\n",
       "      <td>0.084489</td>\n",
       "    </tr>\n",
       "    <tr>\n",
       "      <th>short_comment</th>\n",
       "      <td>6</td>\n",
       "      <td>[0]</td>\n",
       "      <td>0.225725</td>\n",
       "      <td>0.142497</td>\n",
       "      <td>0.074401</td>\n",
       "    </tr>\n",
       "    <tr>\n",
       "      <th>has_person_nlp</th>\n",
       "      <td>7</td>\n",
       "      <td>[0]</td>\n",
       "      <td>0.062421</td>\n",
       "      <td>0.046658</td>\n",
       "      <td>0.024590</td>\n",
       "    </tr>\n",
       "    <tr>\n",
       "      <th>textblob_polarity</th>\n",
       "      <td>8</td>\n",
       "      <td>[0]</td>\n",
       "      <td>0.035309</td>\n",
       "      <td>0.031526</td>\n",
       "      <td>0.005044</td>\n",
       "    </tr>\n",
       "    <tr>\n",
       "      <th>textblob_subjectivity</th>\n",
       "      <td>9</td>\n",
       "      <td>[0]</td>\n",
       "      <td>0.357503</td>\n",
       "      <td>0.254729</td>\n",
       "      <td>0.160151</td>\n",
       "    </tr>\n",
       "  </tbody>\n",
       "</table>\n",
       "</div>"
      ],
      "text/plain": [
       "                       j Polarity  Coverage  Overlaps  Conflicts\n",
       "keyword_my             0      [1]  0.198613  0.185372   0.110340\n",
       "keyword_subscribe      1      [1]  0.127364  0.107188   0.067465\n",
       "keyword_http           2      [1]  0.119168  0.100252   0.081337\n",
       "keyword_please         3      [1]  0.112232  0.109710   0.058008\n",
       "keyword_song           4      [0]  0.141866  0.110340   0.043506\n",
       "regex_check_out        5      [1]  0.233922  0.129887   0.084489\n",
       "short_comment          6      [0]  0.225725  0.142497   0.074401\n",
       "has_person_nlp         7      [0]  0.062421  0.046658   0.024590\n",
       "textblob_polarity      8      [0]  0.035309  0.031526   0.005044\n",
       "textblob_subjectivity  9      [0]  0.357503  0.254729   0.160151"
      ]
     },
     "execution_count": 45,
     "metadata": {},
     "output_type": "execute_result"
    }
   ],
   "source": [
    "LFAnalysis(L=L_train, lfs=lfs).lf_summary()"
   ]
  },
  {
   "cell_type": "code",
   "execution_count": null,
   "metadata": {},
   "outputs": [],
   "source": [
    "\"\"\"\n",
    "We plot a histogram to get an idea about the coverages of the labeling functions\n",
    "\"\"\""
   ]
  },
  {
   "cell_type": "code",
   "execution_count": 46,
   "metadata": {},
   "outputs": [
    {
     "data": {
      "image/png": "[encoded data removed]",
      "text/plain": [
       "<Figure size 432x288 with 1 Axes>"
      ]
     },
     "metadata": {
      "needs_background": "light"
     },
     "output_type": "display_data"
    }
   ],
   "source": [
    "def plot_label_frequency(L):\n",
    "    plt.hist((L != ABSTAIN).sum(axis=1), density=True, bins=range(L.shape[1]))\n",
    "    plt.xlabel(\"Number of labels\")\n",
    "    plt.ylabel(\"Fraction of dataset\")\n",
    "    plt.show()\n",
    "\n",
    "plot_label_frequency(L_train)"
   ]
  },
  {
   "cell_type": "code",
   "execution_count": null,
   "metadata": {},
   "outputs": [],
   "source": [
    "\"\"\"\n",
    "We now convert the labels from our labeling functions to a single noise-aware probabilistic label per data. \n",
    "We do so by taking a majority vote on what the data should be labeled as .i.e if more labeling functions agree \n",
    "that the text/data is spam , then we label it as spam\n",
    "\"\"\""
   ]
  },
  {
   "cell_type": "code",
   "execution_count": 47,
   "metadata": {},
   "outputs": [],
   "source": [
    "majority_model = MajorityLabelVoter()\n",
    "preds_train = majority_model.predict(L=L_train)"
   ]
  },
  {
   "cell_type": "code",
   "execution_count": 48,
   "metadata": {},
   "outputs": [
    {
     "data": {
      "text/plain": [
       "array([ 1,  1, -1, ...,  1,  1,  1])"
      ]
     },
     "execution_count": 48,
     "metadata": {},
     "output_type": "execute_result"
    }
   ],
   "source": [
    "preds_train"
   ]
  },
  {
   "cell_type": "code",
   "execution_count": null,
   "metadata": {},
   "outputs": [],
   "source": [
    "\"\"\"\n",
    "However there may be functions that are correlated and might give a false sense of majority , to handle this we\n",
    "use a differernt snorkel label model to comine inputs of the labeling functions.\n",
    "\"\"\""
   ]
  },
  {
   "cell_type": "code",
   "execution_count": 49,
   "metadata": {},
   "outputs": [],
   "source": [
    "label_model = LabelModel(cardinality=2, verbose=True)\n",
    "label_model.fit(L_train=L_train, n_epochs=500, log_freq=100, seed=123)"
   ]
  },
  {
   "cell_type": "code",
   "execution_count": 50,
   "metadata": {},
   "outputs": [
    {
     "name": "stdout",
     "output_type": "stream",
     "text": [
      "Majority Vote Accuracy:   84.0%\n",
      "Label Model Accuracy:     86.0%\n"
     ]
    }
   ],
   "source": [
    "majority_acc = majority_model.score(L=L_test, Y=Y_test, tie_break_policy=\"random\")[\"accuracy\"]\n",
    "print(f\"{'Majority Vote Accuracy:':<25} {majority_acc * 100:.1f}%\")\n",
    "\n",
    "label_model_acc = label_model.score(L=L_test, Y=Y_test, tie_break_policy=\"random\")[\"accuracy\"]\n",
    "print(f\"{'Label Model Accuracy:':<25} {label_model_acc * 100:.1f}%\")"
   ]
  },
  {
   "cell_type": "code",
   "execution_count": null,
   "metadata": {},
   "outputs": [],
   "source": [
    "\"\"\"\n",
    "We plot another graph to see the confidences that each data point is a spam\n",
    "\"\"\""
   ]
  },
  {
   "cell_type": "code",
   "execution_count": 51,
   "metadata": {},
   "outputs": [
    {
     "data": {
      "image/png": "[encoded data removed]",
      "text/plain": [
       "<Figure size 432x288 with 1 Axes>"
      ]
     },
     "metadata": {
      "needs_background": "light"
     },
     "output_type": "display_data"
    }
   ],
   "source": [
    "def plot_probabilities_histogram(Y):\n",
    "    plt.hist(Y, bins=10)\n",
    "    plt.xlabel(\"Probability of SPAM\")\n",
    "    plt.ylabel(\"Number of data points\")\n",
    "    plt.show()\n",
    "\n",
    "probs_train = label_model.predict_proba(L=L_train)\n",
    "plot_probabilities_histogram(probs_train[:, SPAM])"
   ]
  },
  {
   "cell_type": "code",
   "execution_count": null,
   "metadata": {},
   "outputs": [],
   "source": [
    "\"\"\"\n",
    "There might be some data which do not get any label from the functions , we filter them out as follows\n",
    "\"\"\""
   ]
  },
  {
   "cell_type": "code",
   "execution_count": 53,
   "metadata": {},
   "outputs": [],
   "source": [
    "df_train_filtered, probs_train_filtered = filter_unlabeled_dataframe(\n",
    "    X=df_train, y=probs_train, L=L_train)"
   ]
  },
  {
   "cell_type": "markdown",
   "metadata": {},
   "source": [
    "# Training a classifier"
   ]
  },
  {
   "cell_type": "code",
   "execution_count": null,
   "metadata": {},
   "outputs": [],
   "source": [
    "\"\"\"\n",
    "In this section we use the probabilistic training labels we generated to train a classifier. \n",
    "For demonstration we use Scikit-Learn.\n",
    "\"\"\""
   ]
  },
  {
   "cell_type": "code",
   "execution_count": 54,
   "metadata": {},
   "outputs": [],
   "source": [
    "vectorizer = CountVectorizer(ngram_range=(1, 5))\n",
    "X_train = vectorizer.fit_transform(df_train_filtered.text.tolist())\n",
    "X_test = vectorizer.transform(df_test.text.tolist())"
   ]
  },
  {
   "cell_type": "code",
   "execution_count": 55,
   "metadata": {},
   "outputs": [],
   "source": [
    "preds_train_filtered = probs_to_preds(probs=probs_train_filtered)"
   ]
  },
  {
   "cell_type": "code",
   "execution_count": 56,
   "metadata": {},
   "outputs": [
    {
     "data": {
      "text/plain": [
       "LogisticRegression(C=1000.0, solver='liblinear')"
      ]
     },
     "execution_count": 56,
     "metadata": {},
     "output_type": "execute_result"
    }
   ],
   "source": [
    "sklearn_model = LogisticRegression(C=1e3, solver=\"liblinear\")\n",
    "sklearn_model.fit(X=X_train, y=preds_train_filtered)"
   ]
  },
  {
   "cell_type": "code",
   "execution_count": 57,
   "metadata": {},
   "outputs": [
    {
     "name": "stdout",
     "output_type": "stream",
     "text": [
      "Test Accuracy: 93.6%\n"
     ]
    }
   ],
   "source": [
    "print(f\"Test Accuracy: {sklearn_model.score(X=X_test, y=Y_test) * 100:.1f}%\")"
   ]
  },
  {
   "cell_type": "code",
   "execution_count": null,
   "metadata": {},
   "outputs": [],
   "source": []
  }
 ],
 "metadata": {
  "hide_input": false,
  "kernelspec": {
   "display_name": "trainingAI",
   "language": "python",
   "name": "trainingai"
  },
  "language_info": {
   "codemirror_mode": {
    "name": "ipython",
    "version": 3
   },
   "file_extension": ".py",
   "mimetype": "text/x-python",
   "name": "python",
   "nbconvert_exporter": "python",
   "pygments_lexer": "ipython3",
   "version": "3.8.5"
  }
 },
 "nbformat": 4,
 "nbformat_minor": 2
}
