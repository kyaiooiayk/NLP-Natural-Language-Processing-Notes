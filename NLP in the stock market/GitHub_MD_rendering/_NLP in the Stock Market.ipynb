{
 "cells": [
  {
   "cell_type": "markdown",
   "metadata": {},
   "source": [
    "# Introduction"
   ]
  },
  {
   "cell_type": "code",
   "execution_count": 1,
   "metadata": {},
   "outputs": [
    {
     "data": {
      "text/plain": [
       "'\\nWhat? NLP in the Stock Market\\n\\nRevision No: 2\\nLast revised: 25/03/21\\nReference: https://towardsdatascience.com/nlp-in-the-stock-market-8760d062eb92\\nGLM\\n'"
      ]
     },
     "execution_count": 1,
     "metadata": {},
     "output_type": "execute_result"
    }
   ],
   "source": [
    "\"\"\"\n",
    "What? NLP in the Stock Market\n",
    "\n",
    "Reference: https://towardsdatascience.com/nlp-in-the-stock-market-8760d062eb92\n",
    "\"\"\""
   ]
  },
  {
   "cell_type": "markdown",
   "metadata": {},
   "source": [
    "# Modules installtion issues"
   ]
  },
  {
   "cell_type": "code",
   "execution_count": 2,
   "metadata": {},
   "outputs": [
    {
     "data": {
      "text/plain": [
       "'\\nAttention if you are on MAC please make sure you do:\\npip install bs4\\npip install html5lib\\npip install lxml\\n\\nReference: https://stackoverflow.com/questions/24398302/bs4-featurenotfound-couldnt-find-a-tree-builder-with-the-features-you-requeste\\n'"
      ]
     },
     "execution_count": 2,
     "metadata": {},
     "output_type": "execute_result"
    }
   ],
   "source": [
    "\"\"\"\n",
    "Attention if you are on MAC please make sure you do:\n",
    "pip install bs4\n",
    "pip install html5lib\n",
    "pip install lxml\n",
    "\n",
    "Reference: https://stackoverflow.com/questions/24398302/bs4-featurenotfound-couldnt-find-a-tree-builder-with-the-features-you-requeste\n",
    "\"\"\""
   ]
  },
  {
   "cell_type": "markdown",
   "metadata": {},
   "source": [
    "# Import"
   ]
  },
  {
   "cell_type": "code",
   "execution_count": 46,
   "metadata": {},
   "outputs": [],
   "source": [
    "import nltk, os\n",
    "import numpy as np\n",
    "import pandas as pd\n",
    "import pickle\n",
    "import pprint\n",
    "import project_helper\n",
    "from tqdm import tqdm\n",
    "from bs4 import BeautifulSoup\n",
    "import re\n",
    "from nltk.stem import WordNetLemmatizer\n",
    "from nltk.corpus import wordnet, stopwords\n",
    "from collections import defaultdict, Counter\n",
    "from sklearn.feature_extraction.text import CountVectorizer\n",
    "from sklearn.metrics import jaccard_score\n",
    "from sklearn.feature_extraction.text import TfidfVectorizer\n",
    "from sklearn.metrics.pairwise import cosine_similarity"
   ]
  },
  {
   "cell_type": "markdown",
   "metadata": {},
   "source": [
    "# Download NLP Corpora"
   ]
  },
  {
   "cell_type": "code",
   "execution_count": 4,
   "metadata": {},
   "outputs": [
    {
     "data": {
      "text/plain": [
       "\"\\nYou'll need two corpora to run this project: \\n    [1] stopwords corpus for removing stopwords \\n    [2] wordnet for lemmatizing.\\n\""
      ]
     },
     "execution_count": 4,
     "metadata": {},
     "output_type": "execute_result"
    }
   ],
   "source": [
    "\"\"\"\n",
    "You'll need two corpora to run this project: \n",
    "    [1] stopwords corpus for removing stopwords \n",
    "    [2] wordnet for lemmatizing.\n",
    "\"\"\""
   ]
  },
  {
   "cell_type": "code",
   "execution_count": null,
   "metadata": {},
   "outputs": [],
   "source": [
    "nltk.download('stopwords')\n",
    "nltk.download('wordnet')"
   ]
  },
  {
   "cell_type": "markdown",
   "metadata": {},
   "source": [
    "# Get 10ks"
   ]
  },
  {
   "cell_type": "code",
   "execution_count": 6,
   "metadata": {},
   "outputs": [
    {
     "data": {
      "text/plain": [
       "'\\nFinancial documents such as 10-k forms can be used to forecast stock movements. 10-k forms are annual reports \\nfiled by companies to provide a comprehensive summary of their financial performance.\\n\\n10-k documents include information such as company history, organizational structure, executive compensation, \\nequity, subsidiaries, and audited financial statements. Each company has an unique CIK (Central Index Key).\\nIn this case  we selected 7 of them to keep the computation low.\\n'"
      ]
     },
     "execution_count": 6,
     "metadata": {},
     "output_type": "execute_result"
    }
   ],
   "source": [
    "\"\"\"\n",
    "Financial documents such as 10-k forms can be used to forecast stock movements. 10-k forms are annual reports \n",
    "filed by companies to provide a comprehensive summary of their financial performance.\n",
    "\n",
    "10-k documents include information such as company history, organizational structure, executive compensation, \n",
    "equity, subsidiaries, and audited financial statements. Each company has an unique CIK (Central Index Key).\n",
    "In this case  we selected 7 of them to keep the computation low.\n",
    "\"\"\""
   ]
  },
  {
   "cell_type": "code",
   "execution_count": 7,
   "metadata": {},
   "outputs": [],
   "source": [
    "cik_lookup = {\n",
    "    'AMZN': '0001018724',\n",
    "    'BMY': '0000014272',   \n",
    "    'CNP': '0001130310',\n",
    "    'CVX': '0000093410',\n",
    "    'FL': '0000850209',\n",
    "    'FRT': '0000034903',\n",
    "    'HON': '0000773840'}\n",
    "\n",
    "additional_cik = {\n",
    "    'AEP': '0000004904',\n",
    "    'AXP': '0000004962',\n",
    "    'BA': '0000012927', \n",
    "    'BK': '0001390777',\n",
    "    'CAT': '0000018230',\n",
    "    'DE': '0000315189',\n",
    "    'DIS': '0001001039',\n",
    "    'DTE': '0000936340',\n",
    "    'ED': '0001047862',\n",
    "    'EMR': '0000032604',\n",
    "    'ETN': '0001551182',\n",
    "    'GE': '0000040545',\n",
    "    'IBM': '0000051143',\n",
    "    'IP': '0000051434',\n",
    "    'JNJ': '0000200406',\n",
    "    'KO': '0000021344',\n",
    "    'LLY': '0000059478',\n",
    "    'MCD': '0000063908',\n",
    "    'MO': '0000764180',\n",
    "    'MRK': '0000310158',\n",
    "    'MRO': '0000101778',\n",
    "    'PCG': '0001004980',\n",
    "    'PEP': '0000077476',\n",
    "    'PFE': '0000078003',\n",
    "    'PG': '0000080424',\n",
    "    'PNR': '0000077360',\n",
    "    'SYY': '0000096021',\n",
    "    'TXN': '0000097476',\n",
    "    'UTX': '0000101829',\n",
    "    'WFC': '0000072971',\n",
    "    'WMT': '0000104169',\n",
    "    'WY': '0000106535',\n",
    "    'XOM': '0000034088'}"
   ]
  },
  {
   "cell_type": "markdown",
   "metadata": {},
   "source": [
    "# Get list of 10-ks"
   ]
  },
  {
   "cell_type": "code",
   "execution_count": 8,
   "metadata": {},
   "outputs": [
    {
     "data": {
      "text/plain": [
       "\"\\nThe SEC has a limit on the number of calls you can make to the website per second. In order to avoid hiding that \\nlimit, we've created the SecAPI class. This will cache data from the SEC and prevent you from going over the limit.\\n\""
      ]
     },
     "execution_count": 8,
     "metadata": {},
     "output_type": "execute_result"
    }
   ],
   "source": [
    "\"\"\"\n",
    "The SEC has a limit on the number of calls you can make to the website per second. In order to avoid hiding that \n",
    "limit, we've created the SecAPI class. This will cache data from the SEC and prevent you from going over the limit.\n",
    "\"\"\""
   ]
  },
  {
   "cell_type": "code",
   "execution_count": 9,
   "metadata": {},
   "outputs": [],
   "source": [
    "sec_api = project_helper.SecAPI()"
   ]
  },
  {
   "cell_type": "code",
   "execution_count": 10,
   "metadata": {},
   "outputs": [],
   "source": [
    "def get_sec_data(cik, doc_type, start=0, count=60):\n",
    "    rss_url = 'https://www.sec.gov/cgi-bin/browse-edgar?action=getcompany' \\\n",
    "        '&CIK={}&type={}&start={}&count={}&owner=exclude&output=atom' \\\n",
    "        .format(cik, doc_type, start, count)\n",
    "    sec_data = sec_api.get(rss_url)\n",
    "    \n",
    "    feed = BeautifulSoup(sec_data.encode('ascii'), 'xml').feed\n",
    "    \n",
    "    entries = [\n",
    "        (\n",
    "            entry.content.find('filing-href').getText(),\n",
    "            entry.content.find('filing-type').getText(),\n",
    "            entry.content.find('filing-date').getText())\n",
    "        for entry in feed.find_all('entry', recursive=False)]\n",
    "\n",
    "    return entries"
   ]
  },
  {
   "cell_type": "code",
   "execution_count": 11,
   "metadata": {},
   "outputs": [
    {
     "data": {
      "text/plain": [
       "\"\\nLet's pull the list using the get_sec_data function, then display some of the results. For displaying some of \\nthe data, we'll use Amazon as an example.\\n\""
      ]
     },
     "execution_count": 11,
     "metadata": {},
     "output_type": "execute_result"
    }
   ],
   "source": [
    "\"\"\"\n",
    "Let's pull the list using the get_sec_data function, then display some of the results. For displaying some of \n",
    "the data, we'll use Amazon as an example.\n",
    "\"\"\""
   ]
  },
  {
   "cell_type": "code",
   "execution_count": 12,
   "metadata": {},
   "outputs": [
    {
     "name": "stdout",
     "output_type": "stream",
     "text": [
      "[('https://www.sec.gov/Archives/edgar/data/1018724/000101872421000004/0001018724-21-000004-index.htm',\n",
      "  '10-K',\n",
      "  '2021-02-03'),\n",
      " ('https://www.sec.gov/Archives/edgar/data/1018724/000101872420000004/0001018724-20-000004-index.htm',\n",
      "  '10-K',\n",
      "  '2020-01-31'),\n",
      " ('https://www.sec.gov/Archives/edgar/data/1018724/000101872419000004/0001018724-19-000004-index.htm',\n",
      "  '10-K',\n",
      "  '2019-02-01'),\n",
      " ('https://www.sec.gov/Archives/edgar/data/1018724/000101872418000005/0001018724-18-000005-index.htm',\n",
      "  '10-K',\n",
      "  '2018-02-02'),\n",
      " ('https://www.sec.gov/Archives/edgar/data/1018724/000101872417000011/0001018724-17-000011-index.htm',\n",
      "  '10-K',\n",
      "  '2017-02-10')]\n"
     ]
    }
   ],
   "source": [
    "example_ticker = 'AMZN'\n",
    "sec_data = {}\n",
    "\n",
    "for ticker, cik in cik_lookup.items():\n",
    "    sec_data[ticker] = get_sec_data(cik, '10-K')\n",
    "    \n",
    "pprint.pprint(sec_data[example_ticker][:5])"
   ]
  },
  {
   "cell_type": "markdown",
   "metadata": {},
   "source": [
    "# Download 10-ks"
   ]
  },
  {
   "cell_type": "code",
   "execution_count": 13,
   "metadata": {},
   "outputs": [
    {
     "data": {
      "text/plain": [
       "\"\\nAs you see, this is a list of urls. These urls point to a file that contains metadata related to each filling. \\nSince we don't care about the metadata, we'll pull the filling by replacing the url with the filling url.\\n\""
      ]
     },
     "execution_count": 13,
     "metadata": {},
     "output_type": "execute_result"
    }
   ],
   "source": [
    "\"\"\"\n",
    "As you see, this is a list of urls. These urls point to a file that contains metadata related to each filling. \n",
    "Since we don't care about the metadata, we'll pull the filling by replacing the url with the filling url.\n",
    "\"\"\""
   ]
  },
  {
   "cell_type": "code",
   "execution_count": 14,
   "metadata": {},
   "outputs": [
    {
     "name": "stderr",
     "output_type": "stream",
     "text": [
      "Downloading AMZN Fillings: 100%|██████████| 26/26 [00:10<00:00,  2.38filling/s]\n",
      "Downloading BMY Fillings: 100%|██████████| 31/31 [00:15<00:00,  2.01filling/s]\n",
      "Downloading CNP Fillings: 100%|██████████| 23/23 [00:12<00:00,  1.89filling/s]\n",
      "Downloading CVX Fillings: 100%|██████████| 29/29 [00:17<00:00,  1.63filling/s]\n",
      "Downloading FL Fillings: 100%|██████████| 25/25 [00:10<00:00,  2.50filling/s]\n",
      "Downloading FRT Fillings: 100%|██████████| 33/33 [00:11<00:00,  2.83filling/s]\n",
      "Downloading HON Fillings: 100%|██████████| 29/29 [00:13<00:00,  2.18filling/s]"
     ]
    },
    {
     "name": "stdout",
     "output_type": "stream",
     "text": [
      "Example Document:\n",
      "\n",
      "<SEC-DOCUMENT>0001018724-21-000004.txt : 20210203\n",
      "<SEC-HEADER>0001018724-21-000004.hdr.sgml : 20210203\n",
      "<ACCEPTANCE-DATETIME>20210202194410\n",
      "ACCESSION NUMBER:\t\t0001018724-21-000004\n",
      "CONFORMED SUBMISSION TYPE:\t10-K\n",
      "PUBLIC DOCUMENT COUNT:\t\t107\n",
      "CONFORMED PERIOD OF REPORT:\t20201231\n",
      "FILED AS OF DATE:\t\t20210203\n",
      "DATE AS OF CHANGE:\t\t20210202\n",
      "\n",
      "FILER:\n",
      "\n",
      "\tCOMPANY DATA:\t\n",
      "\t\tCOMPANY CONFORMED NAME:\t\t\tAMAZON COM INC\n",
      "\t\tCENTRAL INDEX KEY:\t\t\t0001018724\n",
      "\t\tSTANDARD INDUSTRIAL CLASSIFICATION:\tRETAIL-CATALOG & MAIL-ORDER HOUSES [5961]\n",
      "\t\tIRS NUMBER:\t\t\t\t911646860\n",
      "\t\tSTATE OF INCORPORATION:\t\t\tDE\n",
      "\t\tFISCAL YEAR END:\t\t\t1231\n",
      "\n",
      "\tFILING VALUES:\n",
      "\t\tFORM TYPE:\t\t10-K\n",
      "\t\tSEC ACT:\t\t1934 Act\n",
      "\t\tSEC FILE NUMBER:\t000-22513\n",
      "\t\tFILM NUMBER:\t\t21583589\n",
      "\n",
      "\tBUSINESS ADDRESS:\t\n",
      "\t\tSTREET 1:\t\t410 TERRY AVENUE NORTH\n",
      "\t\tCITY:\t\t\tSEATTLE\n",
      "\t\tSTATE:\t\t\tWA\n",
      "\t\tZIP:\t\t\t98109\n",
      "\t\tBUSINESS PHONE:\t\t2062661000\n",
      "\n",
      "\tMAIL ADDRESS:\t\n",
      "\t\tSTREET 1:\t\t410 TERRY AVENUE NORTH\n",
      "\t\tCITY:\t\t\tSEATTLE\n",
      "\t\tSTATE:\t\t\tWA\n",
      "\t\tZIP:\t\t\t98109\n",
      "</SEC-HEADER>\n",
      "<DOCUMENT>\n",
      "<TYPE>10-K\n",
      "<SEQUENCE>1\n",
      "<FILENAM...\n"
     ]
    },
    {
     "name": "stderr",
     "output_type": "stream",
     "text": [
      "\n"
     ]
    }
   ],
   "source": [
    "raw_fillings_by_ticker = {}\n",
    "\n",
    "for ticker, data in sec_data.items():\n",
    "    raw_fillings_by_ticker[ticker] = {}\n",
    "    for index_url, file_type, file_date in tqdm(data, desc='Downloading {} Fillings'.format(ticker), unit='filling'):\n",
    "        if (file_type == '10-K'):\n",
    "            file_url = index_url.replace('-index.htm', '.txt').replace('.txtl', '.txt')            \n",
    "            \n",
    "            raw_fillings_by_ticker[ticker][file_date] = sec_api.get(file_url)\n",
    "\n",
    "\n",
    "print('Example Document:\\n\\n{}...'.format(next(iter(raw_fillings_by_ticker[example_ticker].values()))[:1000]))"
   ]
  },
  {
   "cell_type": "markdown",
   "metadata": {},
   "source": [
    "# Get documens"
   ]
  },
  {
   "cell_type": "code",
   "execution_count": 15,
   "metadata": {},
   "outputs": [
    {
     "data": {
      "text/plain": [
       "\"\\nWith theses fillings downloaded, we want to break them into their associated documents. These documents are \\nsectioned off in the fillings with the tags <DOCUMENT> for the start of each document and </DOCUMENT> for the \\nend of each document. There's no overlap with these documents, so each </DOCUMENT> tag should come after the \\n<DOCUMENT> with no <DOCUMENT> tag in between.\\n\\nImplement get_documents to return a list of these documents from a filling. Make sure not to include the tag in \\nthe returned document text.\\n\""
      ]
     },
     "execution_count": 15,
     "metadata": {},
     "output_type": "execute_result"
    }
   ],
   "source": [
    "\"\"\"\n",
    "With theses fillings downloaded, we want to break them into their associated documents. These documents are \n",
    "sectioned off in the fillings with the tags <DOCUMENT> for the start of each document and </DOCUMENT> for the \n",
    "end of each document. There's no overlap with these documents, so each </DOCUMENT> tag should come after the \n",
    "<DOCUMENT> with no <DOCUMENT> tag in between.\n",
    "\n",
    "Implement get_documents to return a list of these documents from a filling. Make sure not to include the tag in \n",
    "the returned document text.\n",
    "\"\"\""
   ]
  },
  {
   "cell_type": "code",
   "execution_count": 16,
   "metadata": {},
   "outputs": [],
   "source": [
    "def get_documents(text):\n",
    "    \"\"\"\n",
    "    Extract the documents from the text\n",
    "\n",
    "    Parameters\n",
    "    ----------\n",
    "    text : str\n",
    "        The text with the document strings inside\n",
    "\n",
    "    Returns\n",
    "    -------\n",
    "    extracted_docs : list of str\n",
    "        The document strings found in `text`\n",
    "    \"\"\"\n",
    "\n",
    "    # TODO: Implement\n",
    "    extracted_docs = []\n",
    "\n",
    "    doc_start_pattern = re.compile(r'<DOCUMENT>')\n",
    "    doc_end_pattern = re.compile(r'</DOCUMENT>')\n",
    "\n",
    "    doc_start_is = [x.end() for x in doc_start_pattern.finditer(text)]\n",
    "    doc_end_is = [x.start() for x in doc_end_pattern.finditer(text)]\n",
    "\n",
    "    for doc_start_i, doc_end_i in zip(doc_start_is, doc_end_is):\n",
    "        extracted_docs.append(text[doc_start_i:doc_end_i])\n",
    "\n",
    "    return extracted_docs"
   ]
  },
  {
   "cell_type": "code",
   "execution_count": 17,
   "metadata": {},
   "outputs": [
    {
     "data": {
      "text/plain": [
       "\"\\nWith the get_documents function implemented, let's extract all the documents.\\n\""
      ]
     },
     "execution_count": 17,
     "metadata": {},
     "output_type": "execute_result"
    }
   ],
   "source": [
    "\"\"\"\n",
    "With the get_documents function implemented, let's extract all the documents.\n",
    "\"\"\""
   ]
  },
  {
   "cell_type": "code",
   "execution_count": 18,
   "metadata": {},
   "outputs": [
    {
     "name": "stderr",
     "output_type": "stream",
     "text": [
      "Getting Documents from AMZN Fillings: 100%|██████████| 21/21 [00:00<00:00, 31.44filling/s]\n",
      "Getting Documents from BMY Fillings: 100%|██████████| 27/27 [00:01<00:00, 16.19filling/s]\n",
      "Getting Documents from CNP Fillings: 100%|██████████| 19/19 [00:01<00:00, 14.05filling/s]\n",
      "Getting Documents from CVX Fillings: 100%|██████████| 25/25 [00:01<00:00, 16.92filling/s]\n",
      "Getting Documents from FL Fillings: 100%|██████████| 19/19 [00:00<00:00, 26.66filling/s]\n",
      "Getting Documents from FRT Fillings: 100%|██████████| 23/23 [00:01<00:00, 21.22filling/s]\n",
      "Getting Documents from HON Fillings: 100%|██████████| 24/24 [00:01<00:00, 17.23filling/s]"
     ]
    },
    {
     "name": "stdout",
     "output_type": "stream",
     "text": [
      "Document 0 Filed on 2021-02-03:\n",
      "\n",
      "<TYPE>10-K\n",
      "<SEQUENCE>1\n",
      "<FILENAME>amzn-20201231.htm\n",
      "<DESCRIPTION>10-K\n",
      "<TEXT>\n",
      "<XBRL>\n",
      "<?xml version=\"1.0\" ?><!--XBRL Document Created with Wdesk from Workiva--><!--Copyright 2021 Workiva--><!--r:552820d...\n",
      "\n",
      "Document 1 Filed on 2021-02-03:\n",
      "\n",
      "<TYPE>EX-21.1\n",
      "<SEQUENCE>2\n",
      "<FILENAME>amzn-20201231xex211.htm\n",
      "<DESCRIPTION>EXHIBIT 21.1\n",
      "<TEXT>\n",
      "<!DOCTYPE html PUBLIC \"-//W3C//DTD HTML 4.01 Transitional//EN\" \"http://www.w3.org/TR/html4/loose.dtd\"><htm...\n",
      "\n",
      "Document 2 Filed on 2021-02-03:\n",
      "\n",
      "<TYPE>EX-23.1\n",
      "<SEQUENCE>3\n",
      "<FILENAME>amzn-20201231xex231.htm\n",
      "<DESCRIPTION>EXHIBIT 23.1\n",
      "<TEXT>\n",
      "<!DOCTYPE html PUBLIC \"-//W3C//DTD HTML 4.01 Transitional//EN\" \"http://www.w3.org/TR/html4/loose.dtd\"><htm...\n"
     ]
    },
    {
     "name": "stderr",
     "output_type": "stream",
     "text": [
      "\n"
     ]
    }
   ],
   "source": [
    "filling_documents_by_ticker = {}\n",
    "\n",
    "for ticker, raw_fillings in raw_fillings_by_ticker.items():\n",
    "    filling_documents_by_ticker[ticker] = {}\n",
    "    for file_date, filling in tqdm(raw_fillings.items(), desc='Getting Documents from {} Fillings'.format(ticker), unit='filling'):\n",
    "        filling_documents_by_ticker[ticker][file_date] = get_documents(filling)\n",
    "\n",
    "\n",
    "print('\\n\\n'.join([\n",
    "    'Document {} Filed on {}:\\n{}...'.format(doc_i, file_date, doc[:200])\n",
    "    for file_date, docs in filling_documents_by_ticker[example_ticker].items()\n",
    "    for doc_i, doc in enumerate(docs)][:3]))"
   ]
  },
  {
   "cell_type": "markdown",
   "metadata": {},
   "source": [
    "# Get Document Types"
   ]
  },
  {
   "cell_type": "code",
   "execution_count": 19,
   "metadata": {},
   "outputs": [
    {
     "data": {
      "text/plain": [
       "'\\nNow that we have all the documents, we want to find the 10-k form in this 10-k filing. Implement the \\nget_document_type function to return the type of document given. The document type is located on a line \\nwith the <TYPE> tag. For example, a form of type \"TEST\" would have the line <TYPE>TEST. Make sure to return \\nthe type as lowercase, so this example would be returned as \"test\".\\n'"
      ]
     },
     "execution_count": 19,
     "metadata": {},
     "output_type": "execute_result"
    }
   ],
   "source": [
    "\"\"\"\n",
    "Now that we have all the documents, we want to find the 10-k form in this 10-k filing. Implement the \n",
    "get_document_type function to return the type of document given. The document type is located on a line \n",
    "with the <TYPE> tag. For example, a form of type \"TEST\" would have the line <TYPE>TEST. Make sure to return \n",
    "the type as lowercase, so this example would be returned as \"test\".\n",
    "\"\"\""
   ]
  },
  {
   "cell_type": "code",
   "execution_count": 20,
   "metadata": {},
   "outputs": [],
   "source": [
    "def get_document_type(doc):\n",
    "    \"\"\"\n",
    "    Return the document type lowercased\n",
    "\n",
    "    Parameters\n",
    "    ----------\n",
    "    doc : str\n",
    "        The document string\n",
    "\n",
    "    Returns\n",
    "    -------\n",
    "    doc_type : str\n",
    "        The document type lowercased\n",
    "    \"\"\"\n",
    "\n",
    "    # TODO: Implement\n",
    "    type_pattern = re.compile(r'<TYPE>[^\\n]+')\n",
    "\n",
    "    doc_type = type_pattern.findall(doc)[0][len('<TYPE>'):]\n",
    "\n",
    "    return doc_type.lower()"
   ]
  },
  {
   "cell_type": "code",
   "execution_count": 21,
   "metadata": {},
   "outputs": [
    {
     "data": {
      "text/plain": [
       "\"\\nWith the get_document_type function, we'll filter out all non 10-k documents.\\n\""
      ]
     },
     "execution_count": 21,
     "metadata": {},
     "output_type": "execute_result"
    }
   ],
   "source": [
    "\"\"\"\n",
    "With the get_document_type function, we'll filter out all non 10-k documents.\n",
    "\"\"\""
   ]
  },
  {
   "cell_type": "code",
   "execution_count": 22,
   "metadata": {},
   "outputs": [
    {
     "name": "stdout",
     "output_type": "stream",
     "text": [
      "[\n",
      "  {\n",
      "    cik: '0001018724'\n",
      "    file: '\\n<TYPE>10-K\\n<SEQUENCE>1\\n<FILENAME>amzn-2020123...\n",
      "    file_date: '2021-02-03'},\n",
      "  {\n",
      "    cik: '0001018724'\n",
      "    file: '\\n<TYPE>10-K\\n<SEQUENCE>1\\n<FILENAME>amzn-2019123...\n",
      "    file_date: '2020-01-31'},\n",
      "  {\n",
      "    cik: '0001018724'\n",
      "    file: '\\n<TYPE>10-K\\n<SEQUENCE>1\\n<FILENAME>amzn-2018123...\n",
      "    file_date: '2019-02-01'},\n",
      "  {\n",
      "    cik: '0001018724'\n",
      "    file: '\\n<TYPE>10-K\\n<SEQUENCE>1\\n<FILENAME>amzn-2017123...\n",
      "    file_date: '2018-02-02'},\n",
      "  {\n",
      "    cik: '0001018724'\n",
      "    file: '\\n<TYPE>10-K\\n<SEQUENCE>1\\n<FILENAME>amzn-2016123...\n",
      "    file_date: '2017-02-10'},\n",
      "]\n"
     ]
    }
   ],
   "source": [
    "ten_ks_by_ticker = {}\n",
    "\n",
    "for ticker, filling_documents in filling_documents_by_ticker.items():\n",
    "    ten_ks_by_ticker[ticker] = []\n",
    "    for file_date, documents in filling_documents.items():\n",
    "        for document in documents:\n",
    "            if get_document_type(document) == '10-k':\n",
    "                ten_ks_by_ticker[ticker].append({\n",
    "                    'cik': cik_lookup[ticker],\n",
    "                    'file': document,\n",
    "                    'file_date': file_date})\n",
    "\n",
    "\n",
    "project_helper.print_ten_k_data(ten_ks_by_ticker[example_ticker][:5], [\n",
    "                                'cik', 'file', 'file_date'])"
   ]
  },
  {
   "cell_type": "markdown",
   "metadata": {},
   "source": [
    "# Document clean-up"
   ]
  },
  {
   "cell_type": "code",
   "execution_count": 23,
   "metadata": {},
   "outputs": [
    {
     "data": {
      "text/plain": [
       "\"\\nAs you can see, the text for the documents are very messy. To clean this up, we'll remove the html and lowercase \\nall the text.\\n\""
      ]
     },
     "execution_count": 23,
     "metadata": {},
     "output_type": "execute_result"
    }
   ],
   "source": [
    "\"\"\"\n",
    "As you can see, the text for the documents are very messy. To clean this up, we'll remove the html and lowercase \n",
    "all the text.\n",
    "\"\"\""
   ]
  },
  {
   "cell_type": "code",
   "execution_count": 24,
   "metadata": {},
   "outputs": [],
   "source": [
    "def remove_html_tags(text):\n",
    "    text = BeautifulSoup(text, 'html.parser').get_text()\n",
    "    \n",
    "    return text\n",
    "\n",
    "\n",
    "def clean_text(text):\n",
    "    text = text.lower()\n",
    "    text = remove_html_tags(text)\n",
    "    \n",
    "    return text"
   ]
  },
  {
   "cell_type": "code",
   "execution_count": 25,
   "metadata": {},
   "outputs": [
    {
     "name": "stderr",
     "output_type": "stream",
     "text": [
      "Cleaning AMZN 10-Ks: 100%|██████████| 21/21 [00:42<00:00,  2.01s/10-K]\n",
      "Cleaning BMY 10-Ks: 100%|██████████| 27/27 [01:26<00:00,  3.19s/10-K]\n",
      "Cleaning CNP 10-Ks: 100%|██████████| 19/19 [01:26<00:00,  4.55s/10-K]\n",
      "Cleaning CVX 10-Ks: 100%|██████████| 25/25 [02:41<00:00,  6.48s/10-K]\n",
      "Cleaning FL 10-Ks: 100%|██████████| 19/19 [00:30<00:00,  1.61s/10-K]\n",
      "Cleaning FRT 10-Ks: 100%|██████████| 23/23 [01:06<00:00,  2.89s/10-K]\n",
      "Cleaning HON 10-Ks: 100%|██████████| 24/24 [01:09<00:00,  2.90s/10-K]"
     ]
    },
    {
     "name": "stdout",
     "output_type": "stream",
     "text": [
      "[\n",
      "  {\n",
      "    file_clean: '\\n10-k\\n1\\namzn-20201231.htm\\n10-k\\n\\n\\n\\namzn-20...},\n",
      "  {\n",
      "    file_clean: '\\n10-k\\n1\\namzn-20191231x10k.htm\\n10-k\\n\\n\\n\\n\\n\\...},\n",
      "  {\n",
      "    file_clean: '\\n10-k\\n1\\namzn-20181231x10k.htm\\n10-k\\n\\n\\n\\n\\n\\...},\n",
      "  {\n",
      "    file_clean: '\\n10-k\\n1\\namzn-20171231x10k.htm\\n10-k\\n\\n\\n\\n\\n\\...},\n",
      "  {\n",
      "    file_clean: '\\n10-k\\n1\\namzn-20161231x10k.htm\\nform 10-k\\n\\n\\n...},\n",
      "]\n"
     ]
    },
    {
     "name": "stderr",
     "output_type": "stream",
     "text": [
      "\n"
     ]
    }
   ],
   "source": [
    "for ticker, ten_ks in ten_ks_by_ticker.items():\n",
    "    for ten_k in tqdm(ten_ks, desc='Cleaning {} 10-Ks'.format(ticker), unit='10-K'):\n",
    "        ten_k['file_clean'] = clean_text(ten_k['file'])\n",
    "\n",
    "\n",
    "project_helper.print_ten_k_data(ten_ks_by_ticker[example_ticker][:5], ['file_clean'])"
   ]
  },
  {
   "cell_type": "markdown",
   "metadata": {},
   "source": [
    "# Lemmatize"
   ]
  },
  {
   "cell_type": "code",
   "execution_count": 26,
   "metadata": {},
   "outputs": [
    {
     "data": {
      "text/plain": [
       "\"\\nWith the text cleaned up, it's time to distill the verbs down. Implement the lemmatize_words function to lemmatize \\nverbs in the list of words provided.\\n\""
      ]
     },
     "execution_count": 26,
     "metadata": {},
     "output_type": "execute_result"
    }
   ],
   "source": [
    "\"\"\"\n",
    "With the text cleaned up, it's time to distill the verbs down. Implement the lemmatize_words function to lemmatize \n",
    "verbs in the list of words provided.\n",
    "\"\"\""
   ]
  },
  {
   "cell_type": "code",
   "execution_count": 27,
   "metadata": {},
   "outputs": [],
   "source": [
    "def lemmatize_words(words):\n",
    "    \"\"\"\n",
    "    Lemmatize words \n",
    "\n",
    "    Parameters\n",
    "    ----------\n",
    "    words : list of str\n",
    "        List of words\n",
    "\n",
    "    Returns\n",
    "    -------\n",
    "    lemmatized_words : list of str\n",
    "        List of lemmatized words\n",
    "    \"\"\"\n",
    "\n",
    "    # TODO: Implement\n",
    "    lemmatized_words = [WordNetLemmatizer().lemmatize(word, 'v')\n",
    "                        for word in words]\n",
    "\n",
    "    return lemmatized_words"
   ]
  },
  {
   "cell_type": "code",
   "execution_count": 28,
   "metadata": {},
   "outputs": [
    {
     "name": "stderr",
     "output_type": "stream",
     "text": [
      "Lemmatize AMZN 10-Ks: 100%|██████████| 21/21 [00:05<00:00,  3.9410-K/s]\n",
      "Lemmatize BMY 10-Ks: 100%|██████████| 27/27 [00:07<00:00,  3.6310-K/s]\n",
      "Lemmatize CNP 10-Ks: 100%|██████████| 19/19 [00:06<00:00,  2.7310-K/s]\n",
      "Lemmatize CVX 10-Ks: 100%|██████████| 25/25 [00:07<00:00,  3.5510-K/s]\n",
      "Lemmatize FL 10-Ks: 100%|██████████| 19/19 [00:02<00:00,  6.3710-K/s]\n",
      "Lemmatize FRT 10-Ks: 100%|██████████| 23/23 [00:04<00:00,  4.9810-K/s]\n",
      "Lemmatize HON 10-Ks: 100%|██████████| 24/24 [00:04<00:00,  5.3910-K/s]"
     ]
    },
    {
     "name": "stdout",
     "output_type": "stream",
     "text": [
      "[\n",
      "  {\n",
      "    file_lemma: '['10', 'k', '1', 'amzn', '20201231', 'htm', '10',...},\n",
      "  {\n",
      "    file_lemma: '['10', 'k', '1', 'amzn', '20191231x10k', 'htm', '...},\n",
      "  {\n",
      "    file_lemma: '['10', 'k', '1', 'amzn', '20181231x10k', 'htm', '...},\n",
      "  {\n",
      "    file_lemma: '['10', 'k', '1', 'amzn', '20171231x10k', 'htm', '...},\n",
      "  {\n",
      "    file_lemma: '['10', 'k', '1', 'amzn', '20161231x10k', 'htm', '...},\n",
      "]\n"
     ]
    },
    {
     "name": "stderr",
     "output_type": "stream",
     "text": [
      "\n"
     ]
    }
   ],
   "source": [
    "word_pattern = re.compile('\\w+')\n",
    "\n",
    "for ticker, ten_ks in ten_ks_by_ticker.items():\n",
    "    for ten_k in tqdm(ten_ks, desc='Lemmatize {} 10-Ks'.format(ticker), unit='10-K'):\n",
    "        ten_k['file_lemma'] = lemmatize_words(word_pattern.findall(ten_k['file_clean']))\n",
    "\n",
    "\n",
    "project_helper.print_ten_k_data(ten_ks_by_ticker[example_ticker][:5], ['file_lemma'])"
   ]
  },
  {
   "cell_type": "markdown",
   "metadata": {},
   "source": [
    "# Remove Stopwords"
   ]
  },
  {
   "cell_type": "code",
   "execution_count": 29,
   "metadata": {},
   "outputs": [
    {
     "name": "stderr",
     "output_type": "stream",
     "text": [
      "Remove Stop Words for AMZN 10-Ks: 100%|██████████| 21/21 [00:01<00:00, 11.3010-K/s]\n",
      "Remove Stop Words for BMY 10-Ks: 100%|██████████| 27/27 [00:03<00:00,  6.8310-K/s]\n",
      "Remove Stop Words for CNP 10-Ks: 100%|██████████| 19/19 [00:03<00:00,  5.0410-K/s]\n",
      "Remove Stop Words for CVX 10-Ks: 100%|██████████| 25/25 [00:03<00:00,  6.4910-K/s]\n",
      "Remove Stop Words for FL 10-Ks: 100%|██████████| 19/19 [00:01<00:00, 12.1110-K/s]\n",
      "Remove Stop Words for FRT 10-Ks: 100%|██████████| 23/23 [00:02<00:00,  9.0110-K/s]\n",
      "Remove Stop Words for HON 10-Ks: 100%|██████████| 24/24 [00:02<00:00, 10.1510-K/s]"
     ]
    },
    {
     "name": "stdout",
     "output_type": "stream",
     "text": [
      "Stop Words Removed\n"
     ]
    },
    {
     "name": "stderr",
     "output_type": "stream",
     "text": [
      "\n"
     ]
    }
   ],
   "source": [
    "lemma_english_stopwords = lemmatize_words(stopwords.words('english'))\n",
    "\n",
    "for ticker, ten_ks in ten_ks_by_ticker.items():\n",
    "    for ten_k in tqdm(ten_ks, desc='Remove Stop Words for {} 10-Ks'.format(ticker), unit='10-K'):\n",
    "        ten_k['file_lemma'] = [word for word in ten_k['file_lemma'] if word not in lemma_english_stopwords]\n",
    "\n",
    "\n",
    "print('Stop Words Removed')"
   ]
  },
  {
   "cell_type": "markdown",
   "metadata": {},
   "source": [
    "# Loughran McDonald Sentiment Word Lists"
   ]
  },
  {
   "cell_type": "code",
   "execution_count": null,
   "metadata": {},
   "outputs": [],
   "source": [
    "\"\"\"\n",
    "We'll be using the Loughran and McDonald sentiment word lists. These word lists cover the following sentiment:\n",
    "\n",
    "    Negative\n",
    "    Positive\n",
    "    Uncertainty\n",
    "    Litigious\n",
    "    Constraining\n",
    "    Superfluous\n",
    "    Modal\n",
    "\n",
    "This will allow us to do the sentiment analysis on the 10-ks. Let's first load these word lists. We'll be \n",
    "looking into a few of these sentiments.\n",
    "\n",
    "The dataset was retrievd from here: https://sraf.nd.edu/textual-analysis/resources/#LM%20Sentiment%20Word%20Lists\n",
    "\"\"\""
   ]
  },
  {
   "cell_type": "code",
   "execution_count": 32,
   "metadata": {},
   "outputs": [
    {
     "data": {
      "text/html": [
       "<style scoped>\n",
       "    .dataframe tbody tr th:only-of-type {\n",
       "        vertical-align: middle;\n",
       "    }\n",
       "\n",
       "    .dataframe tbody tr th {\n",
       "        vertical-align: top;\n",
       "    }\n",
       "\n",
       "    .dataframe thead th {\n",
       "        text-align: right;\n",
       "    }\n",
       "</style>\n",
       "<table border=\"1\" class=\"dataframe\">\n",
       "  <thead>\n",
       "    <tr style=\"text-align: right;\">\n",
       "      <th></th>\n",
       "      <th>negative</th>\n",
       "      <th>positive</th>\n",
       "      <th>uncertainty</th>\n",
       "      <th>litigious</th>\n",
       "      <th>constraining</th>\n",
       "      <th>interesting</th>\n",
       "      <th>word</th>\n",
       "    </tr>\n",
       "  </thead>\n",
       "  <tbody>\n",
       "    <tr>\n",
       "      <th>9</th>\n",
       "      <td>True</td>\n",
       "      <td>False</td>\n",
       "      <td>False</td>\n",
       "      <td>False</td>\n",
       "      <td>False</td>\n",
       "      <td>False</td>\n",
       "      <td>abandon</td>\n",
       "    </tr>\n",
       "    <tr>\n",
       "      <th>12</th>\n",
       "      <td>True</td>\n",
       "      <td>False</td>\n",
       "      <td>False</td>\n",
       "      <td>False</td>\n",
       "      <td>False</td>\n",
       "      <td>False</td>\n",
       "      <td>abandonment</td>\n",
       "    </tr>\n",
       "    <tr>\n",
       "      <th>13</th>\n",
       "      <td>True</td>\n",
       "      <td>False</td>\n",
       "      <td>False</td>\n",
       "      <td>False</td>\n",
       "      <td>False</td>\n",
       "      <td>False</td>\n",
       "      <td>abandonments</td>\n",
       "    </tr>\n",
       "    <tr>\n",
       "      <th>51</th>\n",
       "      <td>True</td>\n",
       "      <td>False</td>\n",
       "      <td>False</td>\n",
       "      <td>False</td>\n",
       "      <td>False</td>\n",
       "      <td>False</td>\n",
       "      <td>abdicate</td>\n",
       "    </tr>\n",
       "    <tr>\n",
       "      <th>54</th>\n",
       "      <td>True</td>\n",
       "      <td>False</td>\n",
       "      <td>False</td>\n",
       "      <td>False</td>\n",
       "      <td>False</td>\n",
       "      <td>False</td>\n",
       "      <td>abdication</td>\n",
       "    </tr>\n",
       "  </tbody>\n",
       "</table>\n",
""      ],
      "text/plain": [
       "    negative  positive  uncertainty  litigious  constraining  interesting  \\\n",
       "9       True     False        False      False         False        False   \n",
       "12      True     False        False      False         False        False   \n",
       "13      True     False        False      False         False        False   \n",
       "51      True     False        False      False         False        False   \n",
       "54      True     False        False      False         False        False   \n",
       "\n",
       "            word  \n",
       "9        abandon  \n",
       "12   abandonment  \n",
       "13  abandonments  \n",
       "51      abdicate  \n",
       "54    abdication  "
      ]
     },
     "execution_count": 32,
     "metadata": {},
     "output_type": "execute_result"
    }
   ],
   "source": [
    "sentiments = ['negative', 'positive', 'uncertainty', 'litigious', 'constraining', 'interesting']\n",
    "\n",
    "sentiment_df = pd.read_csv(os.path.join('./LoughranMcDonald_MasterDictionary_2018.csv'))\n",
    "sentiment_df.columns = [column.lower() for column in sentiment_df.columns] # Lowercase the columns for ease of use\n",
    "\n",
    "# Remove unused information\n",
    "sentiment_df = sentiment_df[sentiments + ['word']]\n",
    "sentiment_df[sentiments] = sentiment_df[sentiments].astype(bool)\n",
    "sentiment_df = sentiment_df[(sentiment_df[sentiments]).any(1)]\n",
    "\n",
    "# Apply the same preprocessing to these words as the 10-k words\n",
    "sentiment_df['word'] = lemmatize_words(sentiment_df['word'].str.lower())\n",
    "sentiment_df = sentiment_df.drop_duplicates('word')\n",
    "\n",
    "\n",
    "sentiment_df.head()"
   ]
  },
  {
   "cell_type": "markdown",
   "metadata": {},
   "source": [
    "# Bag of Words"
   ]
  },
  {
   "cell_type": "code",
   "execution_count": null,
   "metadata": {},
   "outputs": [],
   "source": [
    "\"\"\"\n",
    "Using the sentiment word lists, let's generate sentiment bag of words from the 10-k documents. Implement \n",
    "get_bag_of_words to generate a bag of words that counts the number of sentiment words in each doc. You can \n",
    "ignore words that are not in sentiment_words.\n",
    "\"\"\""
   ]
  },
  {
   "cell_type": "code",
   "execution_count": 34,
   "metadata": {},
   "outputs": [],
   "source": [
    "def get_bag_of_words(sentiment_words, docs):\n",
    "    \"\"\"\n",
    "    Generate a bag of words from documents for a certain sentiment\n",
    "\n",
    "    Parameters\n",
    "    ----------\n",
    "    sentiment_words: Pandas Series\n",
    "        Words that signify a certain sentiment\n",
    "    docs : list of str\n",
    "        List of documents used to generate bag of words\n",
    "\n",
    "    Returns\n",
    "    -------\n",
    "    bag_of_words : 2-d Numpy Ndarray of int\n",
    "        Bag of words sentiment for each document\n",
    "        The first dimension is the document.\n",
    "        The second dimension is the word.\n",
    "    \"\"\"\n",
    "    \n",
    "    # TODO: Implement\n",
    "    vec = CountVectorizer(vocabulary=sentiment_words)\n",
    "    vectors = vec.fit_transform(docs)\n",
    "    words_list = vec.get_feature_names()\n",
    "    bag_of_words = np.zeros([len(docs), len(words_list)])\n",
    "    \n",
    "    for i in range(len(docs)):\n",
    "        bag_of_words[i] = vectors[i].toarray()[0]\n",
    "\n",
    "    return bag_of_words.astype(int)"
   ]
  },
  {
   "cell_type": "code",
   "execution_count": null,
   "metadata": {},
   "outputs": [],
   "source": [
    "\"\"\"\n",
    "Using the get_bag_of_words function, we'll generate a bag of words for all the documents.\n",
    "\"\"\""
   ]
  },
  {
   "cell_type": "code",
   "execution_count": 36,
   "metadata": {},
   "outputs": [
    {
     "name": "stdout",
     "output_type": "stream",
     "text": [
      "[\n",
      "  {\n",
      "    negative: '[[0 1 0 ... 0 0 0]\\n [0 0 0 ... 0 0 0]\\n [0 0 0 ....\n",
      "    positive: '[[13  0  0 ...  0  0  0]\\n [12  0  0 ...  0  0  0...\n",
      "    uncertainty: '[[0 0 0 ... 1 1 4]\\n [0 0 0 ... 1 1 2]\\n [0 0 0 ....\n",
      "    litigious: '[[0 0 0 ... 0 0 0]\\n [0 0 0 ... 0 0 0]\\n [0 0 0 ....\n",
      "    constraining: '[[0 0 0 ... 0 0 2]\\n [0 0 0 ... 0 0 2]\\n [0 0 0 ....\n",
      "    interesting: '[[2 0 0 ... 0 0 0]\\n [2 0 0 ... 0 0 0]\\n [2 0 0 ....},\n",
      "]\n"
     ]
    }
   ],
   "source": [
    "sentiment_bow_ten_ks = {}\n",
    "\n",
    "for ticker, ten_ks in ten_ks_by_ticker.items():\n",
    "    lemma_docs = [' '.join(ten_k['file_lemma']) for ten_k in ten_ks]\n",
    "    \n",
    "    sentiment_bow_ten_ks[ticker] = {\n",
    "        sentiment: get_bag_of_words(sentiment_df[sentiment_df[sentiment]]['word'], lemma_docs)\n",
    "        for sentiment in sentiments}\n",
    "\n",
    "\n",
    "project_helper.print_ten_k_data([sentiment_bow_ten_ks[example_ticker]], sentiments)"
   ]
  },
  {
   "cell_type": "markdown",
   "metadata": {},
   "source": [
    "# Jaccard Similarity"
   ]
  },
  {
   "cell_type": "code",
   "execution_count": null,
   "metadata": {},
   "outputs": [],
   "source": [
    "\"\"\"\n",
    "Using the bag of words, let's calculate the jaccard similarity on the bag of words and plot it over time. \n",
    "Implement get_jaccard_similarity to return the jaccard similarities between each tick in time. Since the input,\n",
    "bag_of_words_matrix, is a bag of words for each time period in order, you just need to compute the jaccard \n",
    "similarities for each neighboring bag of words. Make sure to turn the bag of words into a boolean array when\n",
    "calculating the jaccard similarity.\n",
    "\"\"\""
   ]
  },
  {
   "cell_type": "code",
   "execution_count": 40,
   "metadata": {},
   "outputs": [],
   "source": [
    "def get_jaccard_similarity(bag_of_words_matrix):\n",
    "    \"\"\"\n",
    "    Get jaccard similarities for neighboring documents\n",
    "\n",
    "    Parameters\n",
    "    ----------\n",
    "    bag_of_words : 2-d Numpy Ndarray of int\n",
    "        Bag of words sentiment for each document\n",
    "        The first dimension is the document.\n",
    "        The second dimension is the word.\n",
    "\n",
    "    Returns\n",
    "    -------\n",
    "    jaccard_similarities : list of float\n",
    "        Jaccard similarities for neighboring documents\n",
    "    \"\"\"\n",
    "    \n",
    "    # TODO: Implement\n",
    "    jaccard_similarities = []\n",
    "    bag_of_words_matrix = np.array(bag_of_words_matrix, dtype=bool)\n",
    "    \n",
    "    for i in range(len(bag_of_words_matrix)-1):\n",
    "            u = bag_of_words_matrix[i]\n",
    "            v = bag_of_words_matrix[i+1]\n",
    "            jaccard_similarities.append(jaccard_score(u,v))    \n",
    "    \n",
    "    return jaccard_similarities"
   ]
  },
  {
   "cell_type": "code",
   "execution_count": null,
   "metadata": {},
   "outputs": [],
   "source": [
    "\"\"\"\n",
    "Using the get_jaccard_similarity function, let's plot the similarities over time.\n",
    "\"\"\""
   ]
  },
  {
   "cell_type": "code",
   "execution_count": 41,
   "metadata": {},
   "outputs": [
    {
     "data": {
      "image/png": "[encoded data removed]",
      "text/plain": [
       "<Figure size 720x504 with 1 Axes>"
      ]
     },
     "metadata": {
      "needs_background": "light"
     },
     "output_type": "display_data"
    }
   ],
   "source": [
    "# Get dates for the universe\n",
    "file_dates = {\n",
    "    ticker: [ten_k['file_date'] for ten_k in ten_ks]\n",
    "    for ticker, ten_ks in ten_ks_by_ticker.items()}  \n",
    "\n",
    "jaccard_similarities = {\n",
    "    ticker: {\n",
    "        sentiment_name: get_jaccard_similarity(sentiment_values)\n",
    "        for sentiment_name, sentiment_values in ten_k_sentiments.items()}\n",
    "    for ticker, ten_k_sentiments in sentiment_bow_ten_ks.items()}\n",
    "\n",
    "\n",
    "project_helper.plot_similarities(\n",
    "    [jaccard_similarities[example_ticker][sentiment] for sentiment in sentiments],\n",
    "    file_dates[example_ticker][1:],\n",
    "    'Jaccard Similarities for {} Sentiment'.format(example_ticker),\n",
    "    sentiments)"
   ]
  },
  {
   "cell_type": "markdown",
   "metadata": {},
   "source": [
    "# TFIDF"
   ]
  },
  {
   "cell_type": "code",
   "execution_count": null,
   "metadata": {},
   "outputs": [],
   "source": [
    "\"\"\"\n",
    "Using the sentiment word lists, let's generate sentiment TFIDF from the 10-k documents. Implement get_tfidf to \n",
    "generate TFIDF from each document, using sentiment words as the terms. You can ignore words that are not in \n",
    "sentiment_words.\n",
    "\"\"\""
   ]
  },
  {
   "cell_type": "code",
   "execution_count": 43,
   "metadata": {},
   "outputs": [],
   "source": [
    "def get_tfidf(sentiment_words, docs):\n",
    "    \"\"\"\n",
    "    Generate TFIDF values from documents for a certain sentiment\n",
    "\n",
    "    Parameters\n",
    "    ----------\n",
    "    sentiment_words: Pandas Series\n",
    "        Words that signify a certain sentiment\n",
    "    docs : list of str\n",
    "        List of documents used to generate bag of words\n",
    "\n",
    "    Returns\n",
    "    -------\n",
    "    tfidf : 2-d Numpy Ndarray of float\n",
    "        TFIDF sentiment for each document\n",
    "        The first dimension is the document.\n",
    "        The second dimension is the word.\n",
    "    \"\"\"\n",
    "    \n",
    "    # TODO: Implement\n",
    "    vec = TfidfVectorizer(vocabulary=sentiment_words)\n",
    "    tfidf = vec.fit_transform(docs)\n",
    "    \n",
    "    return tfidf.toarray()"
   ]
  },
  {
   "cell_type": "code",
   "execution_count": 45,
   "metadata": {},
   "outputs": [
    {
     "name": "stdout",
     "output_type": "stream",
     "text": [
      "[\n",
      "  {\n",
      "    negative: '[[0.         0.02913113 0.         ... 0.        ...\n",
      "    positive: '[[0.22686214 0.         0.         ... 0.        ...\n",
      "    uncertainty: '[[0.         0.         0.         ... 0.00603136...\n",
      "    litigious: '[[0. 0. 0. ... 0. 0. 0.]\\n [0. 0. 0. ... 0. 0. 0....\n",
      "    constraining: '[[0.         0.         0.         ... 0.        ...\n",
      "    interesting: '[[0.02036571 0.         0.         ... 0.        ...},\n",
      "]\n"
     ]
    }
   ],
   "source": [
    "sentiment_tfidf_ten_ks = {}\n",
    "\n",
    "for ticker, ten_ks in ten_ks_by_ticker.items():\n",
    "    lemma_docs = [' '.join(ten_k['file_lemma']) for ten_k in ten_ks]\n",
    "    \n",
    "    sentiment_tfidf_ten_ks[ticker] = {\n",
    "        sentiment: get_tfidf(sentiment_df[sentiment_df[sentiment]]['word'], lemma_docs)\n",
    "        for sentiment in sentiments}\n",
    "\n",
    "    \n",
    "project_helper.print_ten_k_data([sentiment_tfidf_ten_ks[example_ticker]], sentiments)"
   ]
  },
  {
   "cell_type": "markdown",
   "metadata": {},
   "source": [
    "# Cosine Similarity"
   ]
  },
  {
   "cell_type": "code",
   "execution_count": null,
   "metadata": {},
   "outputs": [],
   "source": [
    "\"\"\"\n",
    "Using the TFIDF values, we'll calculate the cosine similarity and plot it over time. Implement \n",
    "get_cosine_similarity to return the cosine similarities between each tick in time. Since the input, tfidf_matrix, \n",
    "is a TFIDF vector for each time period in order, you just need to computer the cosine similarities for each \n",
    "neighboring vector.\n",
    "\"\"\""
   ]
  },
  {
   "cell_type": "code",
   "execution_count": 47,
   "metadata": {},
   "outputs": [],
   "source": [
    "def get_cosine_similarity(tfidf_matrix):\n",
    "    \"\"\"\n",
    "    Get cosine similarities for each neighboring TFIDF vector/document\n",
    "\n",
    "    Parameters\n",
    "    ----------\n",
    "    tfidf : 2-d Numpy Ndarray of float\n",
    "        TFIDF sentiment for each document\n",
    "        The first dimension is the document.\n",
    "        The second dimension is the word.\n",
    "\n",
    "    Returns\n",
    "    -------\n",
    "    cosine_similarities : list of float\n",
    "        Cosine similarities for neighboring documents\n",
    "    \"\"\"\n",
    "    \n",
    "    # TODO: Implement\n",
    "    cosine_similarities = []    \n",
    "    \n",
    "    for i in range(len(tfidf_matrix)-1):\n",
    "        cosine_similarities.append(cosine_similarity(tfidf_matrix[i].reshape(1, -1),tfidf_matrix[i+1].reshape(1, -1))[0,0])\n",
    "    \n",
    "    return cosine_similarities"
   ]
  },
  {
   "cell_type": "code",
   "execution_count": 48,
   "metadata": {},
   "outputs": [
    {
     "data": {
      "image/png": "[encoded data removed]",
      "text/plain": [
       "<Figure size 720x504 with 1 Axes>"
      ]
     },
     "metadata": {
      "needs_background": "light"
     },
     "output_type": "display_data"
    }
   ],
   "source": [
    "cosine_similarities = {\n",
    "    ticker: {\n",
    "        sentiment_name: get_cosine_similarity(sentiment_values)\n",
    "        for sentiment_name, sentiment_values in ten_k_sentiments.items()}\n",
    "    for ticker, ten_k_sentiments in sentiment_tfidf_ten_ks.items()}\n",
    "\n",
    "\n",
    "project_helper.plot_similarities(\n",
    "    [cosine_similarities[example_ticker][sentiment] for sentiment in sentiments],\n",
    "    file_dates[example_ticker][1:],\n",
    "    'Cosine Similarities for {} Sentiment'.format(example_ticker),\n",
    "    sentiments)"
   ]
  },
  {
   "cell_type": "markdown",
   "metadata": {},
   "source": [
    "# Price Data"
   ]
  },
  {
   "cell_type": "code",
   "execution_count": null,
   "metadata": {},
   "outputs": [],
   "source": [
    "\"\"\"\n",
    "Let's evaluate the alpha factors. For this section, we'll just be looking at the cosine similarities, but it can \n",
    "be applied to the jaccard similarities as well.\n",
    "\"\"\""
   ]
  },
  {
   "cell_type": "code",
   "execution_count": 50,
   "metadata": {},
   "outputs": [
    {
     "data": {
      "text/html": [
       "<style scoped>\n",
       "    .dataframe tbody tr th:only-of-type {\n",
       "        vertical-align: middle;\n",
       "    }\n",
       "\n",
       "    .dataframe tbody tr th {\n",
       "        vertical-align: top;\n",
       "    }\n",
       "\n",
       "    .dataframe thead th {\n",
       "        text-align: right;\n",
       "    }\n",
       "</style>\n",
       "<table border=\"1\" class=\"dataframe\">\n",
       "  <thead>\n",
       "    <tr style=\"text-align: right;\">\n",
       "      <th>ticker</th>\n",
       "      <th>A</th>\n",
       "      <th>AAL</th>\n",
       "      <th>AAP</th>\n",
       "      <th>AAPL</th>\n",
       "      <th>ABBV</th>\n",
       "      <th>ABC</th>\n",
       "      <th>ABT</th>\n",
       "      <th>ACN</th>\n",
       "      <th>ADBE</th>\n",
       "      <th>ADI</th>\n",
       "      <th>...</th>\n",
       "      <th>XL</th>\n",
       "      <th>XLNX</th>\n",
       "      <th>XOM</th>\n",
       "      <th>XRAY</th>\n",
       "      <th>XRX</th>\n",
       "      <th>XYL</th>\n",
       "      <th>YUM</th>\n",
       "      <th>ZBH</th>\n",
       "      <th>ZION</th>\n",
       "      <th>ZTS</th>\n",
       "    </tr>\n",
       "    <tr>\n",
       "      <th>date</th>\n",
       "      <th></th>\n",
       "      <th></th>\n",
       "      <th></th>\n",
       "      <th></th>\n",
       "      <th></th>\n",
       "      <th></th>\n",
       "      <th></th>\n",
       "      <th></th>\n",
       "      <th></th>\n",
       "      <th></th>\n",
       "      <th></th>\n",
       "      <th></th>\n",
       "      <th></th>\n",
       "      <th></th>\n",
       "      <th></th>\n",
       "      <th></th>\n",
       "      <th></th>\n",
       "      <th></th>\n",
       "      <th></th>\n",
       "      <th></th>\n",
       "      <th></th>\n",
       "    </tr>\n",
       "  </thead>\n",
       "  <tbody>\n",
       "    <tr>\n",
       "      <th>2013-07-01</th>\n",
       "      <td>29.994186</td>\n",
       "      <td>16.176093</td>\n",
       "      <td>81.138217</td>\n",
       "      <td>53.109173</td>\n",
       "      <td>34.924478</td>\n",
       "      <td>50.863198</td>\n",
       "      <td>31.425388</td>\n",
       "      <td>64.694095</td>\n",
       "      <td>46.235</td>\n",
       "      <td>39.913360</td>\n",
       "      <td>...</td>\n",
       "      <td>27.668791</td>\n",
       "      <td>35.288928</td>\n",
       "      <td>76.320802</td>\n",
       "      <td>40.023873</td>\n",
       "      <td>22.106665</td>\n",
       "      <td>25.753386</td>\n",
       "      <td>45.480383</td>\n",
       "      <td>71.898827</td>\n",
       "      <td>27.858587</td>\n",
       "      <td>29.447893</td>\n",
       "    </tr>\n",
       "    <tr>\n",
       "      <th>2013-07-02</th>\n",
       "      <td>29.650137</td>\n",
       "      <td>15.819834</td>\n",
       "      <td>80.722073</td>\n",
       "      <td>54.312247</td>\n",
       "      <td>35.428076</td>\n",
       "      <td>50.696766</td>\n",
       "      <td>31.272881</td>\n",
       "      <td>64.712041</td>\n",
       "      <td>46.030</td>\n",
       "      <td>39.860576</td>\n",
       "      <td>...</td>\n",
       "      <td>27.542284</td>\n",
       "      <td>35.059033</td>\n",
       "      <td>76.608168</td>\n",
       "      <td>39.965530</td>\n",
       "      <td>22.082740</td>\n",
       "      <td>25.613675</td>\n",
       "      <td>45.402661</td>\n",
       "      <td>72.934172</td>\n",
       "      <td>28.038932</td>\n",
       "      <td>28.572441</td>\n",
       "    </tr>\n",
       "    <tr>\n",
       "      <th>2013-07-03</th>\n",
       "      <td>29.705185</td>\n",
       "      <td>16.127950</td>\n",
       "      <td>81.237299</td>\n",
       "      <td>54.612043</td>\n",
       "      <td>35.444862</td>\n",
       "      <td>50.937167</td>\n",
       "      <td>30.725650</td>\n",
       "      <td>65.214519</td>\n",
       "      <td>46.420</td>\n",
       "      <td>40.186077</td>\n",
       "      <td>...</td>\n",
       "      <td>27.334452</td>\n",
       "      <td>35.280086</td>\n",
       "      <td>76.650427</td>\n",
       "      <td>40.004426</td>\n",
       "      <td>22.202365</td>\n",
       "      <td>25.734758</td>\n",
       "      <td>46.063299</td>\n",
       "      <td>72.301458</td>\n",
       "      <td>28.181310</td>\n",
       "      <td>28.168387</td>\n",
       "    </tr>\n",
       "    <tr>\n",
       "      <th>2013-07-05</th>\n",
       "      <td>30.434568</td>\n",
       "      <td>16.214608</td>\n",
       "      <td>81.821882</td>\n",
       "      <td>54.173381</td>\n",
       "      <td>35.856134</td>\n",
       "      <td>51.371737</td>\n",
       "      <td>31.326707</td>\n",
       "      <td>66.075911</td>\n",
       "      <td>47.000</td>\n",
       "      <td>40.652334</td>\n",
       "      <td>...</td>\n",
       "      <td>27.695899</td>\n",
       "      <td>35.801771</td>\n",
       "      <td>77.394196</td>\n",
       "      <td>40.675380</td>\n",
       "      <td>22.585164</td>\n",
       "      <td>26.060750</td>\n",
       "      <td>46.413048</td>\n",
       "      <td>73.164246</td>\n",
       "      <td>29.396267</td>\n",
       "      <td>29.024598</td>\n",
       "    </tr>\n",
       "    <tr>\n",
       "      <th>2013-07-08</th>\n",
       "      <td>30.524021</td>\n",
       "      <td>16.310894</td>\n",
       "      <td>82.951417</td>\n",
       "      <td>53.865799</td>\n",
       "      <td>36.661889</td>\n",
       "      <td>52.037461</td>\n",
       "      <td>31.766285</td>\n",
       "      <td>66.820655</td>\n",
       "      <td>46.625</td>\n",
       "      <td>40.256455</td>\n",
       "      <td>...</td>\n",
       "      <td>27.985057</td>\n",
       "      <td>35.200507</td>\n",
       "      <td>77.968926</td>\n",
       "      <td>40.646208</td>\n",
       "      <td>22.489464</td>\n",
       "      <td>26.228403</td>\n",
       "      <td>46.950626</td>\n",
       "      <td>73.892823</td>\n",
       "      <td>29.576612</td>\n",
       "      <td>29.765365</td>\n",
       "    </tr>\n",
       "    <tr>\n",
       "      <th>...</th>\n",
       "      <td>...</td>\n",
       "      <td>...</td>\n",
       "      <td>...</td>\n",
       "      <td>...</td>\n",
       "      <td>...</td>\n",
       "      <td>...</td>\n",
       "      <td>...</td>\n",
       "      <td>...</td>\n",
       "      <td>...</td>\n",
       "      <td>...</td>\n",
       "      <td>...</td>\n",
       "      <td>...</td>\n",
       "      <td>...</td>\n",
       "      <td>...</td>\n",
       "      <td>...</td>\n",
       "      <td>...</td>\n",
       "      <td>...</td>\n",
       "      <td>...</td>\n",
       "      <td>...</td>\n",
       "      <td>...</td>\n",
       "      <td>...</td>\n",
       "    </tr>\n",
       "    <tr>\n",
       "      <th>2017-06-26</th>\n",
       "      <td>58.578545</td>\n",
       "      <td>48.362348</td>\n",
       "      <td>121.521592</td>\n",
       "      <td>143.572709</td>\n",
       "      <td>70.355209</td>\n",
       "      <td>94.310434</td>\n",
       "      <td>47.952274</td>\n",
       "      <td>120.091012</td>\n",
       "      <td>144.960</td>\n",
       "      <td>78.926776</td>\n",
       "      <td>...</td>\n",
       "      <td>42.768925</td>\n",
       "      <td>65.995879</td>\n",
       "      <td>78.125436</td>\n",
       "      <td>63.566740</td>\n",
       "      <td>27.954615</td>\n",
       "      <td>54.057499</td>\n",
       "      <td>73.499346</td>\n",
       "      <td>127.972643</td>\n",
       "      <td>41.755545</td>\n",
       "      <td>62.430093</td>\n",
       "    </tr>\n",
       "    <tr>\n",
       "      <th>2017-06-27</th>\n",
       "      <td>58.222564</td>\n",
       "      <td>48.084745</td>\n",
       "      <td>121.691217</td>\n",
       "      <td>141.514919</td>\n",
       "      <td>70.016684</td>\n",
       "      <td>93.858483</td>\n",
       "      <td>47.716973</td>\n",
       "      <td>119.943770</td>\n",
       "      <td>142.540</td>\n",
       "      <td>76.546336</td>\n",
       "      <td>...</td>\n",
       "      <td>43.141511</td>\n",
       "      <td>63.781646</td>\n",
       "      <td>78.000420</td>\n",
       "      <td>63.923912</td>\n",
       "      <td>27.753502</td>\n",
       "      <td>53.879548</td>\n",
       "      <td>72.742128</td>\n",
       "      <td>127.169467</td>\n",
       "      <td>41.952785</td>\n",
       "      <td>62.469909</td>\n",
       "    </tr>\n",
       "    <tr>\n",
       "      <th>2017-06-28</th>\n",
       "      <td>58.736758</td>\n",
       "      <td>48.828324</td>\n",
       "      <td>116.452788</td>\n",
       "      <td>143.582555</td>\n",
       "      <td>70.529308</td>\n",
       "      <td>94.693610</td>\n",
       "      <td>47.530694</td>\n",
       "      <td>121.465276</td>\n",
       "      <td>143.810</td>\n",
       "      <td>77.584717</td>\n",
       "      <td>...</td>\n",
       "      <td>43.308194</td>\n",
       "      <td>64.673218</td>\n",
       "      <td>78.404318</td>\n",
       "      <td>64.824284</td>\n",
       "      <td>28.289802</td>\n",
       "      <td>54.344197</td>\n",
       "      <td>72.919140</td>\n",
       "      <td>127.427277</td>\n",
       "      <td>42.376849</td>\n",
       "      <td>62.659030</td>\n",
       "    </tr>\n",
       "    <tr>\n",
       "      <th>2017-06-29</th>\n",
       "      <td>58.273984</td>\n",
       "      <td>49.195156</td>\n",
       "      <td>115.794242</td>\n",
       "      <td>141.465689</td>\n",
       "      <td>70.103734</td>\n",
       "      <td>94.084458</td>\n",
       "      <td>47.775798</td>\n",
       "      <td>120.729063</td>\n",
       "      <td>141.240</td>\n",
       "      <td>76.154494</td>\n",
       "      <td>...</td>\n",
       "      <td>43.278779</td>\n",
       "      <td>62.880277</td>\n",
       "      <td>77.606138</td>\n",
       "      <td>64.108981</td>\n",
       "      <td>28.125607</td>\n",
       "      <td>54.274994</td>\n",
       "      <td>72.230760</td>\n",
       "      <td>126.812500</td>\n",
       "      <td>43.382769</td>\n",
       "      <td>62.211110</td>\n",
       "    </tr>\n",
       "    <tr>\n",
       "      <th>2017-06-30</th>\n",
       "      <td>58.779421</td>\n",
       "      <td>49.889163</td>\n",
       "      <td>116.333052</td>\n",
       "      <td>141.800450</td>\n",
       "      <td>70.132750</td>\n",
       "      <td>92.875980</td>\n",
       "      <td>47.658148</td>\n",
       "      <td>121.406379</td>\n",
       "      <td>141.440</td>\n",
       "      <td>76.213270</td>\n",
       "      <td>...</td>\n",
       "      <td>42.945413</td>\n",
       "      <td>63.017442</td>\n",
       "      <td>77.634988</td>\n",
       "      <td>64.416959</td>\n",
       "      <td>27.748925</td>\n",
       "      <td>54.798961</td>\n",
       "      <td>72.535614</td>\n",
       "      <td>127.318204</td>\n",
       "      <td>43.303873</td>\n",
       "      <td>62.091665</td>\n",
       "    </tr>\n",
       "  </tbody>\n",
       "</table>\n",
       "<p>1009 rows × 495 columns</p>\n",
""      ],
      "text/plain": [
       "ticker              A        AAL         AAP        AAPL       ABBV  \\\n",
       "date                                                                  \n",
       "2013-07-01  29.994186  16.176093   81.138217   53.109173  34.924478   \n",
       "2013-07-02  29.650137  15.819834   80.722073   54.312247  35.428076   \n",
       "2013-07-03  29.705185  16.127950   81.237299   54.612043  35.444862   \n",
       "2013-07-05  30.434568  16.214608   81.821882   54.173381  35.856134   \n",
       "2013-07-08  30.524021  16.310894   82.951417   53.865799  36.661889   \n",
       "...               ...        ...         ...         ...        ...   \n",
       "2017-06-26  58.578545  48.362348  121.521592  143.572709  70.355209   \n",
       "2017-06-27  58.222564  48.084745  121.691217  141.514919  70.016684   \n",
       "2017-06-28  58.736758  48.828324  116.452788  143.582555  70.529308   \n",
       "2017-06-29  58.273984  49.195156  115.794242  141.465689  70.103734   \n",
       "2017-06-30  58.779421  49.889163  116.333052  141.800450  70.132750   \n",
       "\n",
       "ticker            ABC        ABT         ACN     ADBE        ADI  ...  \\\n",
       "date                                                              ...   \n",
       "2013-07-01  50.863198  31.425388   64.694095   46.235  39.913360  ...   \n",
       "2013-07-02  50.696766  31.272881   64.712041   46.030  39.860576  ...   \n",
       "2013-07-03  50.937167  30.725650   65.214519   46.420  40.186077  ...   \n",
       "2013-07-05  51.371737  31.326707   66.075911   47.000  40.652334  ...   \n",
       "2013-07-08  52.037461  31.766285   66.820655   46.625  40.256455  ...   \n",
       "...               ...        ...         ...      ...        ...  ...   \n",
       "2017-06-26  94.310434  47.952274  120.091012  144.960  78.926776  ...   \n",
       "2017-06-27  93.858483  47.716973  119.943770  142.540  76.546336  ...   \n",
       "2017-06-28  94.693610  47.530694  121.465276  143.810  77.584717  ...   \n",
       "2017-06-29  94.084458  47.775798  120.729063  141.240  76.154494  ...   \n",
       "2017-06-30  92.875980  47.658148  121.406379  141.440  76.213270  ...   \n",
       "\n",
       "ticker             XL       XLNX        XOM       XRAY        XRX        XYL  \\\n",
       "date                                                                           \n",
       "2013-07-01  27.668791  35.288928  76.320802  40.023873  22.106665  25.753386   \n",
       "2013-07-02  27.542284  35.059033  76.608168  39.965530  22.082740  25.613675   \n",
       "2013-07-03  27.334452  35.280086  76.650427  40.004426  22.202365  25.734758   \n",
       "2013-07-05  27.695899  35.801771  77.394196  40.675380  22.585164  26.060750   \n",
       "2013-07-08  27.985057  35.200507  77.968926  40.646208  22.489464  26.228403   \n",
       "...               ...        ...        ...        ...        ...        ...   \n",
       "2017-06-26  42.768925  65.995879  78.125436  63.566740  27.954615  54.057499   \n",
       "2017-06-27  43.141511  63.781646  78.000420  63.923912  27.753502  53.879548   \n",
       "2017-06-28  43.308194  64.673218  78.404318  64.824284  28.289802  54.344197   \n",
       "2017-06-29  43.278779  62.880277  77.606138  64.108981  28.125607  54.274994   \n",
       "2017-06-30  42.945413  63.017442  77.634988  64.416959  27.748925  54.798961   \n",
       "\n",
       "ticker            YUM         ZBH       ZION        ZTS  \n",
       "date                                                     \n",
       "2013-07-01  45.480383   71.898827  27.858587  29.447893  \n",
       "2013-07-02  45.402661   72.934172  28.038932  28.572441  \n",
       "2013-07-03  46.063299   72.301458  28.181310  28.168387  \n",
       "2013-07-05  46.413048   73.164246  29.396267  29.024598  \n",
       "2013-07-08  46.950626   73.892823  29.576612  29.765365  \n",
       "...               ...         ...        ...        ...  \n",
       "2017-06-26  73.499346  127.972643  41.755545  62.430093  \n",
       "2017-06-27  72.742128  127.169467  41.952785  62.469909  \n",
       "2017-06-28  72.919140  127.427277  42.376849  62.659030  \n",
       "2017-06-29  72.230760  126.812500  43.382769  62.211110  \n",
       "2017-06-30  72.535614  127.318204  43.303873  62.091665  \n",
       "\n",
       "[1009 rows x 495 columns]"
      ]
     },
     "execution_count": 50,
     "metadata": {},
     "output_type": "execute_result"
    }
   ],
   "source": [
    "pricing = pd.read_csv('./quotemedia.csv', parse_dates=['date'])\n",
    "pricing = pricing.pivot(index='date', columns='ticker', values='adj_close')\n",
    "\n",
    "pricing"
   ]
  },
  {
   "cell_type": "markdown",
   "metadata": {},
   "source": [
    "# Dict to DataFrame"
   ]
  },
  {
   "cell_type": "code",
   "execution_count": 51,
   "metadata": {},
   "outputs": [
    {
     "data": {
      "text/html": [
       "<style scoped>\n",
       "    .dataframe tbody tr th:only-of-type {\n",
       "        vertical-align: middle;\n",
       "    }\n",
       "\n",
       "    .dataframe tbody tr th {\n",
       "        vertical-align: top;\n",
       "    }\n",
       "\n",
       "    .dataframe thead th {\n",
       "        text-align: right;\n",
       "    }\n",
       "</style>\n",
       "<table border=\"1\" class=\"dataframe\">\n",
       "  <thead>\n",
       "    <tr style=\"text-align: right;\">\n",
       "      <th></th>\n",
       "      <th>date</th>\n",
       "      <th>ticker</th>\n",
       "      <th>sentiment</th>\n",
       "      <th>value</th>\n",
       "    </tr>\n",
       "  </thead>\n",
       "  <tbody>\n",
       "    <tr>\n",
       "      <th>0</th>\n",
       "      <td>2020-01-01</td>\n",
       "      <td>AMZN</td>\n",
       "      <td>negative</td>\n",
       "      <td>0.954314</td>\n",
       "    </tr>\n",
       "    <tr>\n",
       "      <th>1</th>\n",
       "      <td>2019-01-01</td>\n",
       "      <td>AMZN</td>\n",
       "      <td>negative</td>\n",
       "      <td>0.976092</td>\n",
       "    </tr>\n",
       "    <tr>\n",
       "      <th>2</th>\n",
       "      <td>2018-01-01</td>\n",
       "      <td>AMZN</td>\n",
       "      <td>negative</td>\n",
       "      <td>0.974540</td>\n",
       "    </tr>\n",
       "    <tr>\n",
       "      <th>3</th>\n",
       "      <td>2017-01-01</td>\n",
       "      <td>AMZN</td>\n",
       "      <td>negative</td>\n",
       "      <td>0.959161</td>\n",
       "    </tr>\n",
       "    <tr>\n",
       "      <th>4</th>\n",
       "      <td>2016-01-01</td>\n",
       "      <td>AMZN</td>\n",
       "      <td>negative</td>\n",
       "      <td>0.981197</td>\n",
       "    </tr>\n",
       "  </tbody>\n",
       "</table>\n",
""      ],
      "text/plain": [
       "        date ticker sentiment     value\n",
       "0 2020-01-01   AMZN  negative  0.954314\n",
       "1 2019-01-01   AMZN  negative  0.976092\n",
       "2 2018-01-01   AMZN  negative  0.974540\n",
       "3 2017-01-01   AMZN  negative  0.959161\n",
       "4 2016-01-01   AMZN  negative  0.981197"
      ]
     },
     "execution_count": 51,
     "metadata": {},
     "output_type": "execute_result"
    }
   ],
   "source": [
    "cosine_similarities_df_dict = {'date': [], 'ticker': [], 'sentiment': [], 'value': []}\n",
    "\n",
    "\n",
    "for ticker, ten_k_sentiments in cosine_similarities.items():\n",
    "    for sentiment_name, sentiment_values in ten_k_sentiments.items():\n",
    "        for sentiment_values, sentiment_value in enumerate(sentiment_values):\n",
    "            cosine_similarities_df_dict['ticker'].append(ticker)\n",
    "            cosine_similarities_df_dict['sentiment'].append(sentiment_name)\n",
    "            cosine_similarities_df_dict['value'].append(sentiment_value)\n",
    "            cosine_similarities_df_dict['date'].append(file_dates[ticker][1:][sentiment_values])\n",
    "\n",
    "cosine_similarities_df = pd.DataFrame(cosine_similarities_df_dict)\n",
    "cosine_similarities_df['date'] = pd.DatetimeIndex(cosine_similarities_df['date']).year\n",
    "cosine_similarities_df['date'] = pd.to_datetime(cosine_similarities_df['date'], format='%Y')\n",
    "\n",
    "\n",
    "cosine_similarities_df.head()"
   ]
  },
  {
   "cell_type": "markdown",
   "metadata": {},
   "source": [
    "# Alphalens Format"
   ]
  },
  {
   "cell_type": "code",
   "execution_count": null,
   "metadata": {},
   "outputs": [],
   "source": [
    "\"\"\"\n",
    "In order to use a lot of the alphalens functions, we need to aligned the indices and convert the time to unix\n",
    "timestamp. In this next cell, we'll do just that.\n",
    "\"\"\""
   ]
  },
  {
   "cell_type": "code",
   "execution_count": 67,
   "metadata": {
    "scrolled": true
   },
   "outputs": [
    {
     "name": "stdout",
     "output_type": "stream",
     "text": [
      "['negative', 'positive', 'uncertainty', 'litigious', 'constraining', 'interesting']\n",
      "\n",
      "Skipped the following sentiments:\n",
      "negative\n",
      "positive\n",
      "uncertainty\n",
      "litigious\n",
      "constraining\n",
      "interesting\n"
     ]
    },
    {
     "ename": "KeyError",
     "evalue": "'negative'",
     "output_type": "error",
     "traceback": [
      "\u001b[0;31m---------------------------------------------------------------------------\u001b[0m",
      "\u001b[0;31mKeyError\u001b[0m                                  Traceback (most recent call last)",
      "\u001b[0;32m<ipython-input-67-4b0ada47f521>\u001b[0m in \u001b[0;36m<module>\u001b[0;34m\u001b[0m\n\u001b[1;32m     18\u001b[0m \u001b[0;32mif\u001b[0m \u001b[0mskipped_sentiments\u001b[0m\u001b[0;34m:\u001b[0m\u001b[0;34m\u001b[0m\u001b[0;34m\u001b[0m\u001b[0m\n\u001b[1;32m     19\u001b[0m     \u001b[0mprint\u001b[0m\u001b[0;34m(\u001b[0m\u001b[0;34m'\\nSkipped the following sentiments:\\n{}'\u001b[0m\u001b[0;34m.\u001b[0m\u001b[0mformat\u001b[0m\u001b[0;34m(\u001b[0m\u001b[0;34m'\\n'\u001b[0m\u001b[0;34m.\u001b[0m\u001b[0mjoin\u001b[0m\u001b[0;34m(\u001b[0m\u001b[0mskipped_sentiments\u001b[0m\u001b[0;34m)\u001b[0m\u001b[0;34m)\u001b[0m\u001b[0;34m)\u001b[0m\u001b[0;34m\u001b[0m\u001b[0;34m\u001b[0m\u001b[0m\n\u001b[0;32m---> 20\u001b[0;31m \u001b[0mfactor_data\u001b[0m\u001b[0;34m[\u001b[0m\u001b[0msentiments\u001b[0m\u001b[0;34m[\u001b[0m\u001b[0;36m0\u001b[0m\u001b[0;34m]\u001b[0m\u001b[0;34m]\u001b[0m\u001b[0;34m.\u001b[0m\u001b[0mhead\u001b[0m\u001b[0;34m(\u001b[0m\u001b[0;34m)\u001b[0m\u001b[0;34m\u001b[0m\u001b[0;34m\u001b[0m\u001b[0m\n\u001b[0m",
      "\u001b[0;31mKeyError\u001b[0m: 'negative'"
     ]
    }
   ],
   "source": [
    "import alphalens as al\n",
    "\n",
    "\n",
    "factor_data = {}\n",
    "skipped_sentiments = []\n",
    "print(sentiments)\n",
    "\n",
    "for sentiment in sentiments:\n",
    "    cs_df = cosine_similarities_df[(cosine_similarities_df['sentiment'] == sentiment)]\n",
    "    cs_df = cs_df.pivot(index='date', columns='ticker', values='value')\n",
    "    \n",
    "    try:\n",
    "        data = al.utils.get_clean_factor_and_forward_returns(cs_df.stack(), pricing.loc[cs_df.index], quantiles=5, bins=None, periods=[1])\n",
    "        factor_data[sentiment] = data\n",
    "    except:\n",
    "        skipped_sentiments.append(sentiment)        \n",
    "\n",
    "if skipped_sentiments:\n",
    "    print('\\nSkipped the following sentiments:\\n{}'.format('\\n'.join(skipped_sentiments)))\n",
    "factor_data[sentiments[0]].head()"
   ]
  },
  {
   "cell_type": "code",
   "execution_count": 66,
   "metadata": {},
   "outputs": [
    {
     "ename": "AttributeError",
     "evalue": "'list' object has no attribute 'set_index'",
     "output_type": "error",
     "traceback": [
      "\u001b[0;31m---------------------------------------------------------------------------\u001b[0m",
      "\u001b[0;31mAttributeError\u001b[0m                            Traceback (most recent call last)",
      "\u001b[0;32m<ipython-input-66-c5b4f54cb7c0>\u001b[0m in \u001b[0;36m<module>\u001b[0;34m\u001b[0m\n\u001b[0;32m----> 1\u001b[0;31m unixt_factor_data = {\n\u001b[0m\u001b[1;32m      2\u001b[0m     factor: data.set_index(pd.MultiIndex.from_tuples(\n\u001b[1;32m      3\u001b[0m         \u001b[0;34m[\u001b[0m\u001b[0;34m(\u001b[0m\u001b[0mx\u001b[0m\u001b[0;34m.\u001b[0m\u001b[0mtimestamp\u001b[0m\u001b[0;34m(\u001b[0m\u001b[0;34m)\u001b[0m\u001b[0;34m,\u001b[0m \u001b[0my\u001b[0m\u001b[0;34m)\u001b[0m \u001b[0;32mfor\u001b[0m \u001b[0mx\u001b[0m\u001b[0;34m,\u001b[0m \u001b[0my\u001b[0m \u001b[0;32min\u001b[0m \u001b[0mdata\u001b[0m\u001b[0;34m.\u001b[0m\u001b[0mindex\u001b[0m\u001b[0;34m.\u001b[0m\u001b[0mvalues\u001b[0m\u001b[0;34m]\u001b[0m\u001b[0;34m,\u001b[0m\u001b[0;34m\u001b[0m\u001b[0;34m\u001b[0m\u001b[0m\n\u001b[1;32m      4\u001b[0m         names=['date', 'asset']))\n\u001b[1;32m      5\u001b[0m     for factor, data in factor_data.items()}\n",
      "\u001b[0;32m<ipython-input-66-c5b4f54cb7c0>\u001b[0m in \u001b[0;36m<dictcomp>\u001b[0;34m(.0)\u001b[0m\n\u001b[1;32m      1\u001b[0m unixt_factor_data = {\n\u001b[0;32m----> 2\u001b[0;31m     factor: data.set_index(pd.MultiIndex.from_tuples(\n\u001b[0m\u001b[1;32m      3\u001b[0m         \u001b[0;34m[\u001b[0m\u001b[0;34m(\u001b[0m\u001b[0mx\u001b[0m\u001b[0;34m.\u001b[0m\u001b[0mtimestamp\u001b[0m\u001b[0;34m(\u001b[0m\u001b[0;34m)\u001b[0m\u001b[0;34m,\u001b[0m \u001b[0my\u001b[0m\u001b[0;34m)\u001b[0m \u001b[0;32mfor\u001b[0m \u001b[0mx\u001b[0m\u001b[0;34m,\u001b[0m \u001b[0my\u001b[0m \u001b[0;32min\u001b[0m \u001b[0mdata\u001b[0m\u001b[0;34m.\u001b[0m\u001b[0mindex\u001b[0m\u001b[0;34m.\u001b[0m\u001b[0mvalues\u001b[0m\u001b[0;34m]\u001b[0m\u001b[0;34m,\u001b[0m\u001b[0;34m\u001b[0m\u001b[0;34m\u001b[0m\u001b[0m\n\u001b[1;32m      4\u001b[0m         names=['date', 'asset']))\n\u001b[1;32m      5\u001b[0m     for factor, data in factor_data.items()}\n",
      "\u001b[0;31mAttributeError\u001b[0m: 'list' object has no attribute 'set_index'"
     ]
    }
   ],
   "source": [
    "factor: data.set_index(pd.MultiIndex.from_tuples(\n",
    "    [(x.timestamp(), y) for x, y in data.index.values],\n",
    "    names=['date', 'asset']))\n",
    "for factor, data in factor_data.items()}"
   ]
  },
  {
   "cell_type": "code",
   "execution_count": null,
   "metadata": {},
   "outputs": [],
   "source": [
    "ls_factor_returns = pd.DataFrame()\n",
    "\n",
    "for factor_name, data in factor_data.items():\n",
    "    ls_factor_returns[factor_name] = al.performance.factor_returns(data).iloc[:, 0]\n",
    "\n",
    "(1 + ls_factor_returns).cumprod().plot()"
   ]
  },
  {
   "cell_type": "code",
   "execution_count": null,
   "metadata": {},
   "outputs": [],
   "source": []
  }
 ],
 "metadata": {
  "hide_input": false,
  "kernelspec": {
   "display_name": "trainingAI",
   "language": "python",
   "name": "trainingai"
  },
  "language_info": {
   "codemirror_mode": {
    "name": "ipython",
    "version": 3
   },
   "file_extension": ".py",
   "mimetype": "text/x-python",
   "name": "python",
   "nbconvert_exporter": "python",
   "pygments_lexer": "ipython3",
   "version": "3.10.0"
  },
  "toc": {
   "base_numbering": 1,
   "nav_menu": {},
   "number_sections": true,
   "sideBar": true,
   "skip_h1_title": false,
   "title_cell": "Table of Contents",
   "title_sidebar": "Contents",
   "toc_cell": false,
   "toc_position": {},
   "toc_section_display": true,
   "toc_window_display": false
  },
  "varInspector": {
   "cols": {
    "lenName": 16,
    "lenType": 16,
    "lenVar": 40
   },
   "kernels_config": {
    "python": {
     "delete_cmd_postfix": "",
     "delete_cmd_prefix": "del ",
     "library": "var_list.py",
     "varRefreshCmd": "print(var_dic_list())"
    },
    "r": {
     "delete_cmd_postfix": ") ",
     "delete_cmd_prefix": "rm(",
     "library": "var_list.r",
     "varRefreshCmd": "cat(var_dic_list()) "
    }
   },
   "types_to_exclude": [
    "module",
    "function",
    "builtin_function_or_method",
    "instance",
    "_Feature"
   ],
   "window_display": false
  }
 },
 "nbformat": 4,
 "nbformat_minor": 2
}
