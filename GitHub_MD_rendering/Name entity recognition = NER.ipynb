{
 "cells": [
  {
   "cell_type": "markdown",
   "metadata": {},
   "source": [
    "# Introduction"
   ]
  },
  {
   "cell_type": "markdown",
   "metadata": {},
   "source": [
    "\n",
    "**What?** Name entity recognition = NER\n",
    "\n",
""   ]
  },
  {
   "cell_type": "markdown",
   "metadata": {},
   "source": [
    "# What is NER?"
   ]
  },
  {
   "cell_type": "markdown",
   "metadata": {},
   "source": [
    "\n",
    "- NER stands for Name Entity Recongition. \n",
    "\n",
""   ]
  },
  {
   "cell_type": "markdown",
   "metadata": {},
   "source": [
    "# Objective?"
   ]
  },
  {
   "cell_type": "markdown",
   "metadata": {},
   "source": [
    "\n",
    "- The goal of this project is to learn and apply Named Entity Recognition to extract important entities(publicly traded companies in our example) and then link each entity with some information using a knowledge base(Nifty500 companies list).\n",
    "- We’ll get the textual data from RSS feeds on the internet, extract the names of buzzing stocks, and then pull their market price data to test the authenticity of the news before taking any position in those stocks.\n",
    "- **Essentially** To learn about what stocks are buzzing in the market and get their details on your dashboard is the goal for this project.\n",
    "\n",
""   ]
  },
  {
   "cell_type": "markdown",
   "metadata": {},
   "source": [
    "# Import modules"
   ]
  },
  {
   "cell_type": "code",
   "execution_count": 32,
   "metadata": {},
   "outputs": [],
   "source": [
    "import requests, spacy\n",
    "from bs4 import BeautifulSoup\n",
    "import warnings\n",
    "import yfinance as yf\n",
    "import pandas as pd\n",
    "warnings.filterwarnings(\"ignore\")"
   ]
  },
  {
   "cell_type": "markdown",
   "metadata": {},
   "source": [
    "# Gather the data"
   ]
  },
  {
   "cell_type": "markdown",
   "metadata": {},
   "source": [
    "\n",
    "- **Step #1** Get the entire XML document and we can use the requests library to do that.\n",
    "- **Step #2** Find out where in the XML file the data we are interest are. The headlines are present inside the `<title>` tag of the XML here.\n",
    "- **Step #3** Use `SpaCy` to extract the main entities from the headlines.\n",
    "\n",
    "\n",
    "- We'll be using this two news feeds:\n",
    "    - [Economic Times](https://economictimes.indiatimes.com/markets/stocks/rssfeeds/2146842.cms)\n",
    "    - [Money Control](https://www.moneycontrol.com/rss/buzzingstocks.xml)\n",
    "\n",
""   ]
  },
  {
   "cell_type": "code",
   "execution_count": 3,
   "metadata": {},
   "outputs": [],
   "source": [
    "XML_File_No1 = \"https://economictimes.indiatimes.com/markets/stocks/rssfeeds/2146842.cms\"\n",
    "XML_File_No2 = \"https://www.moneycontrol.com/rss/buzzingstocks.xml\"\n",
    "# Get the XML object\n",
    "resp = requests.get(XML_File_No1)"
   ]
  },
  {
   "cell_type": "code",
   "execution_count": 4,
   "metadata": {},
   "outputs": [
    {
     "data": {
      "text/plain": [
       "<Response [200]>"
      ]
     },
     "execution_count": 4,
     "metadata": {},
     "output_type": "execute_result"
    }
   ],
   "source": [
    "resp"
   ]
  },
  {
   "cell_type": "code",
   "execution_count": 5,
   "metadata": {},
   "outputs": [],
   "source": [
    "soup = BeautifulSoup(resp.content, features = \"xml\")"
   ]
  },
  {
   "cell_type": "code",
   "execution_count": 10,
   "metadata": {
    "scrolled": true
   },
   "outputs": [],
   "source": [
    "headlines = soup.findAll(\"title\")"
   ]
  },
  {
   "cell_type": "code",
   "execution_count": 11,
   "metadata": {},
   "outputs": [
    {
     "data": {
      "text/plain": [
       "[<title>Stocks-Markets-Economic Times</title>,\n",
       " <title>Economic Times</title>,\n",
       " <title>Daily Trading Guide: 2 stock recommendations for Friday</title>,\n",
       " <title>Wall Street opens higher, but set for steep monthly losses</title>,\n",
       " <title>Biggest gainers &amp; losers of the day: Kanchi Karpooram soars 20%, Aptus shed 5%</title>,\n",
       " <title>Market Movers: Zee Entertainment tumbles as risk to Sony merger rise</title>,\n",
       " <title>Tech View: Nifty below 13-day SMA, signalling a short-term downswing</title>,\n",
       " <title>F&amp;O: Nifty forming lower highs, resistance levels slip lower too</title>,\n",
       " <title>Rich List | Kamath worth Rs 26K cr! Raamdeo, Jain, Rashesh among richest brokers</title>,\n",
       " <title>Stock market update: Nifty IT index  falls  0.72%</title>,\n",
       " <title>Share market update: Most active stocks in today's market in terms of volume</title>,\n",
       " <title>Stock market update: Sugar stocks  up  as market  falls </title>,\n",
       " <title>Stock market update: Mining stocks  up  as market  falls </title>,\n",
       " <title>Stock market update: Nifty Pharma index  advances  0.43%</title>,\n",
       " <title>Sensex  falls! These  stocks fell 5% or more in Thursday's session</title>,\n",
       " <title>Stock market update: FMCG stocks  down  as market  falls </title>,\n",
       " <title>NCLT directs ZEE board to consider Invesco’s requisition for EGM before Oct 3</title>,\n",
       " <title>Sensex  falls! But these  stocks gained over 10% on BSE</title>,\n",
       " <title>Isthara Parks raises fresh capital from JM Financial, Eagle Proprietary</title>,\n",
       " <title>Stock market update: Nifty Auto index  falls  0.54%</title>,\n",
       " <title>IPO-bound Paytm’s Vijay Shekhar Sharma’s wealth plummets by Rs 4,100 crore in a year</title>,\n",
       " <title>Stock market update: Stocks that hit 52-week highs on NSE in today's trade</title>,\n",
       " <title>Share market update: Most active stocks of the day in terms of traded value</title>,\n",
       " <title>Sensex  falls! But these  stocks rallied over 15% on BSE in today's trade</title>,\n",
       " <title>Stock market update: Fertilisers stocks  down  as market  falls </title>,\n",
       " <title>Stock market update: Nifty Realty index  advances  1.47%</title>,\n",
       " <title>Banks drag Sensex 287 pts lower in volatile trade; Nifty ends below 17,650</title>,\n",
       " <title>Stock market update: Nifty Bank index  falls  0.84%</title>,\n",
       " <title>Stock market update: Stocks that hit 52-week lows on NSE in today's trade</title>,\n",
       " <title>Stock market update: Power stocks  up  as market  falls </title>,\n",
       " <title>Banks drag Sensex 287 pts lower; Nifty ends September F&amp;O series at 17,618</title>,\n",
       " <title>Cancerians make the most money; Delhi adds maximum to the rich list</title>,\n",
       " <title>Share price of Zee Ent.  falls  as Nifty  weakens </title>,\n",
       " <title>Share price of HPCL  falls  as Nifty  weakens </title>,\n",
       " <title>Indian Oil Corp. stock price  down  1.29 per cent as Sensex  slides </title>,\n",
       " <title>Share price of Petronet LNG  falls  as Nifty  weakens </title>,\n",
       " <title>REC shares  decline  2.74% as Sensex  slides </title>,\n",
       " <title>Share price of PI Industries  falls  as Nifty  weakens </title>,\n",
       " <title>Power Finance Corp. shares  drop  1.91% as Sensex  falls </title>,\n",
       " <title>Share price of Vedanta   falls  as Nifty  weakens </title>,\n",
       " <title>Shree Cements stock price  down  1.6 per cent as Sensex  slides </title>,\n",
       " <title>Piramal Ent. shares  drop  1.49% as Sensex  falls </title>,\n",
       " <title>Marico shares  drop  1.51% as Sensex  falls </title>,\n",
       " <title>Share price of Aurobindo Pharma  jumps  as Sensex  drops  168.3 points</title>,\n",
       " <title>Ashok Leyland  rises  3.09% as Sensex  slides </title>,\n",
       " <title>Not just drugs, Alkem Labs churns out crorepatis in heaps as well</title>,\n",
       " <title>Adani Green  rises  0.87% as Sensex  slides </title>,\n",
       " <title>Torrent Pharma shares  down  0.05% as Sensex  falls </title>,\n",
       " <title>Siemens shares  drop  0.56% as Sensex  falls </title>,\n",
       " <title>Share price of Berger Paints  falls  as Nifty  weakens </title>,\n",
       " <title>IPO, startup boom beneficiaries swarm IIFL-Hurun rich list of 2021</title>,\n",
       " <title>Share price of ACC  falls  as Nifty  strengthens </title>]"
      ]
     },
     "execution_count": 11,
     "metadata": {},
     "output_type": "execute_result"
    }
   ],
   "source": [
    "headlines"
   ]
  },
  {
   "cell_type": "markdown",
   "metadata": {},
   "source": [
    "# Extract NER"
   ]
  },
  {
   "cell_type": "markdown",
   "metadata": {},
   "source": [
    "\n",
    "- We’ll be using a **pre-trained** core language model from the spaCy library to extract the main entities in a headline.\n",
    "- spaCy has two major classes of pretrained language models that are trained on different sizes of textual data to give us state-of-the-art inferences.\n",
    "    - **Core Models** — for general-purpose basic NLP tasks.\n",
    "    - **Starter Models** — for niche applications that require transfer learning. Fine-tune our custom models without having to train the model from scratch. \n",
    "\n",
    "- Since our use case is basic in this tutorial, we are going to stick with the `en_core_web_sm` core model pipeline.\n",
    "\n",
""   ]
  },
  {
   "cell_type": "code",
   "execution_count": 13,
   "metadata": {},
   "outputs": [],
   "source": [
    "nlp = spacy.load('en_core_web_sm')"
   ]
  },
  {
   "cell_type": "code",
   "execution_count": 15,
   "metadata": {},
   "outputs": [
    {
     "name": "stdout",
     "output_type": "stream",
     "text": [
      "Biggest\n",
      "gainers\n",
      "&\n",
      "losers\n",
      "of\n",
      "the\n",
      "day\n",
      ":\n",
      "Kanchi\n",
      "Karpooram\n",
      "soars\n",
      "20\n",
      "%\n",
      ",\n",
      "Aptus\n",
      "shed\n",
      "5\n",
      "%\n"
     ]
    }
   ],
   "source": [
    "# Let's see how it does with tokenization\n",
    "for token in nlp(headlines[4].text):\n",
    "    print(token)"
   ]
  },
  {
   "cell_type": "markdown",
   "metadata": {},
   "source": [
    "\n",
    "- A description of all POS can be found [here](https://spacy.io/models/en)\n",
    "- A description of the dependency graph can be found [here](https://spacy.io/models/en)\n",
    "\n",
""   ]
  },
  {
   "cell_type": "code",
   "execution_count": 21,
   "metadata": {},
   "outputs": [
    {
     "name": "stdout",
     "output_type": "stream",
     "text": [
      "Biggest POS?  ADJ  DEPENDENCY GRAPH?  amod\n",
      "gainers POS?  NOUN  DEPENDENCY GRAPH?  nsubj\n",
      "& POS?  CCONJ  DEPENDENCY GRAPH?  cc\n",
      "losers POS?  NOUN  DEPENDENCY GRAPH?  conj\n",
      "of POS?  ADP  DEPENDENCY GRAPH?  prep\n",
      "the POS?  DET  DEPENDENCY GRAPH?  det\n",
      "day POS?  NOUN  DEPENDENCY GRAPH?  pobj\n",
      ": POS?  PUNCT  DEPENDENCY GRAPH?  punct\n",
      "Kanchi POS?  PROPN  DEPENDENCY GRAPH?  compound\n",
      "Karpooram POS?  PROPN  DEPENDENCY GRAPH?  nsubj\n",
      "soars POS?  VERB  DEPENDENCY GRAPH?  ccomp\n",
      "20 POS?  NUM  DEPENDENCY GRAPH?  nummod\n",
      "% POS?  NOUN  DEPENDENCY GRAPH?  dobj\n",
      ", POS?  PUNCT  DEPENDENCY GRAPH?  punct\n",
      "Aptus POS?  PROPN  DEPENDENCY GRAPH?  nsubj\n",
      "shed POS?  VERB  DEPENDENCY GRAPH?  ROOT\n",
      "5 POS?  NUM  DEPENDENCY GRAPH?  nummod\n",
      "% POS?  NOUN  DEPENDENCY GRAPH?  dobj\n"
     ]
    }
   ],
   "source": [
    "# Let's see how it does with tagging part of speech\n",
    "for token in nlp(headlines[4].text):\n",
    "    print(token, \"POS? \", token.pos_, \" DEPENDENCY GRAPH? \", token.dep_)"
   ]
  },
  {
   "cell_type": "code",
   "execution_count": 24,
   "metadata": {
    "scrolled": true
   },
   "outputs": [
    {
     "data": {
      "text/html": [
       "<span class=\"tex2jax_ignore\"><svg xmlns=\"http://www.w3.org/2000/svg\" xmlns:xlink=\"http://www.w3.org/1999/xlink\" xml:lang=\"en\" id=\"7c7b8a2b6c914fe0b68f5b4cf677f102-0\" class=\"displacy\" width=\"1610\" height=\"377.0\" direction=\"ltr\" style=\"max-width: none; height: 377.0px; color: #000000; background: #ffffff; font-family: Arial; direction: ltr\">\n",
       "<text class=\"displacy-token\" fill=\"currentColor\" text-anchor=\"middle\" y=\"287.0\">\n",
       "    <tspan class=\"displacy-word\" fill=\"currentColor\" x=\"50\">Biggest</tspan>\n",
       "    <tspan class=\"displacy-tag\" dy=\"2em\" fill=\"currentColor\" x=\"50\">ADJ</tspan>\n",
       "</text>\n",
       "\n",
       "<text class=\"displacy-token\" fill=\"currentColor\" text-anchor=\"middle\" y=\"287.0\">\n",
       "    <tspan class=\"displacy-word\" fill=\"currentColor\" x=\"170\">gainers &amp;</tspan>\n",
       "    <tspan class=\"displacy-tag\" dy=\"2em\" fill=\"currentColor\" x=\"170\">NOUN</tspan>\n",
       "</text>\n",
       "\n",
       "<text class=\"displacy-token\" fill=\"currentColor\" text-anchor=\"middle\" y=\"287.0\">\n",
       "    <tspan class=\"displacy-word\" fill=\"currentColor\" x=\"290\">losers</tspan>\n",
       "    <tspan class=\"displacy-tag\" dy=\"2em\" fill=\"currentColor\" x=\"290\">NOUN</tspan>\n",
       "</text>\n",
       "\n",
       "<text class=\"displacy-token\" fill=\"currentColor\" text-anchor=\"middle\" y=\"287.0\">\n",
       "    <tspan class=\"displacy-word\" fill=\"currentColor\" x=\"410\">of</tspan>\n",
       "    <tspan class=\"displacy-tag\" dy=\"2em\" fill=\"currentColor\" x=\"410\">ADP</tspan>\n",
       "</text>\n",
       "\n",
       "<text class=\"displacy-token\" fill=\"currentColor\" text-anchor=\"middle\" y=\"287.0\">\n",
       "    <tspan class=\"displacy-word\" fill=\"currentColor\" x=\"530\">the</tspan>\n",
       "    <tspan class=\"displacy-tag\" dy=\"2em\" fill=\"currentColor\" x=\"530\">DET</tspan>\n",
       "</text>\n",
       "\n",
       "<text class=\"displacy-token\" fill=\"currentColor\" text-anchor=\"middle\" y=\"287.0\">\n",
       "    <tspan class=\"displacy-word\" fill=\"currentColor\" x=\"650\">day:</tspan>\n",
       "    <tspan class=\"displacy-tag\" dy=\"2em\" fill=\"currentColor\" x=\"650\">NOUN</tspan>\n",
       "</text>\n",
       "\n",
       "<text class=\"displacy-token\" fill=\"currentColor\" text-anchor=\"middle\" y=\"287.0\">\n",
       "    <tspan class=\"displacy-word\" fill=\"currentColor\" x=\"770\">Kanchi</tspan>\n",
       "    <tspan class=\"displacy-tag\" dy=\"2em\" fill=\"currentColor\" x=\"770\">PROPN</tspan>\n",
       "</text>\n",
       "\n",
       "<text class=\"displacy-token\" fill=\"currentColor\" text-anchor=\"middle\" y=\"287.0\">\n",
       "    <tspan class=\"displacy-word\" fill=\"currentColor\" x=\"890\">Karpooram</tspan>\n",
       "    <tspan class=\"displacy-tag\" dy=\"2em\" fill=\"currentColor\" x=\"890\">PROPN</tspan>\n",
       "</text>\n",
       "\n",
       "<text class=\"displacy-token\" fill=\"currentColor\" text-anchor=\"middle\" y=\"287.0\">\n",
       "    <tspan class=\"displacy-word\" fill=\"currentColor\" x=\"1010\">soars</tspan>\n",
       "    <tspan class=\"displacy-tag\" dy=\"2em\" fill=\"currentColor\" x=\"1010\">VERB</tspan>\n",
       "</text>\n",
       "\n",
       "<text class=\"displacy-token\" fill=\"currentColor\" text-anchor=\"middle\" y=\"287.0\">\n",
       "    <tspan class=\"displacy-word\" fill=\"currentColor\" x=\"1130\">20%,</tspan>\n",
       "    <tspan class=\"displacy-tag\" dy=\"2em\" fill=\"currentColor\" x=\"1130\">NOUN</tspan>\n",
       "</text>\n",
       "\n",
       "<text class=\"displacy-token\" fill=\"currentColor\" text-anchor=\"middle\" y=\"287.0\">\n",
       "    <tspan class=\"displacy-word\" fill=\"currentColor\" x=\"1250\">Aptus</tspan>\n",
       "    <tspan class=\"displacy-tag\" dy=\"2em\" fill=\"currentColor\" x=\"1250\">PROPN</tspan>\n",
       "</text>\n",
       "\n",
       "<text class=\"displacy-token\" fill=\"currentColor\" text-anchor=\"middle\" y=\"287.0\">\n",
       "    <tspan class=\"displacy-word\" fill=\"currentColor\" x=\"1370\">shed</tspan>\n",
       "    <tspan class=\"displacy-tag\" dy=\"2em\" fill=\"currentColor\" x=\"1370\">VERB</tspan>\n",
       "</text>\n",
       "\n",
       "<text class=\"displacy-token\" fill=\"currentColor\" text-anchor=\"middle\" y=\"287.0\">\n",
       "    <tspan class=\"displacy-word\" fill=\"currentColor\" x=\"1490\">5%</tspan>\n",
       "    <tspan class=\"displacy-tag\" dy=\"2em\" fill=\"currentColor\" x=\"1490\">NOUN</tspan>\n",
       "</text>\n",
       "\n",
       "<g class=\"displacy-arrow\">\n",
       "    <path class=\"displacy-arc\" id=\"arrow-7c7b8a2b6c914fe0b68f5b4cf677f102-0-0\" stroke-width=\"2px\" d=\"M70,242.0 C70,182.0 155.0,182.0 155.0,242.0\" fill=\"none\" stroke=\"currentColor\"/>\n",
       "    <text dy=\"1.25em\" style=\"font-size: 0.8em; letter-spacing: 1px\">\n",
       "        <textPath xlink:href=\"#arrow-7c7b8a2b6c914fe0b68f5b4cf677f102-0-0\" class=\"displacy-label\" startOffset=\"50%\" side=\"left\" fill=\"currentColor\" text-anchor=\"middle\">amod</textPath>\n",
       "    </text>\n",
       "    <path class=\"displacy-arrowhead\" d=\"M70,244.0 L62,232.0 78,232.0\" fill=\"currentColor\"/>\n",
       "</g>\n",
       "\n",
       "<g class=\"displacy-arrow\">\n",
       "    <path class=\"displacy-arc\" id=\"arrow-7c7b8a2b6c914fe0b68f5b4cf677f102-0-1\" stroke-width=\"2px\" d=\"M190,242.0 C190,2.0 1010.0,2.0 1010.0,242.0\" fill=\"none\" stroke=\"currentColor\"/>\n",
       "    <text dy=\"1.25em\" style=\"font-size: 0.8em; letter-spacing: 1px\">\n",
       "        <textPath xlink:href=\"#arrow-7c7b8a2b6c914fe0b68f5b4cf677f102-0-1\" class=\"displacy-label\" startOffset=\"50%\" side=\"left\" fill=\"currentColor\" text-anchor=\"middle\">nsubj</textPath>\n",
       "    </text>\n",
       "    <path class=\"displacy-arrowhead\" d=\"M190,244.0 L182,232.0 198,232.0\" fill=\"currentColor\"/>\n",
       "</g>\n",
       "\n",
       "<g class=\"displacy-arrow\">\n",
       "    <path class=\"displacy-arc\" id=\"arrow-7c7b8a2b6c914fe0b68f5b4cf677f102-0-2\" stroke-width=\"2px\" d=\"M190,242.0 C190,182.0 275.0,182.0 275.0,242.0\" fill=\"none\" stroke=\"currentColor\"/>\n",
       "    <text dy=\"1.25em\" style=\"font-size: 0.8em; letter-spacing: 1px\">\n",
       "        <textPath xlink:href=\"#arrow-7c7b8a2b6c914fe0b68f5b4cf677f102-0-2\" class=\"displacy-label\" startOffset=\"50%\" side=\"left\" fill=\"currentColor\" text-anchor=\"middle\">conj</textPath>\n",
       "    </text>\n",
       "    <path class=\"displacy-arrowhead\" d=\"M275.0,244.0 L283.0,232.0 267.0,232.0\" fill=\"currentColor\"/>\n",
       "</g>\n",
       "\n",
       "<g class=\"displacy-arrow\">\n",
       "    <path class=\"displacy-arc\" id=\"arrow-7c7b8a2b6c914fe0b68f5b4cf677f102-0-3\" stroke-width=\"2px\" d=\"M190,242.0 C190,122.0 400.0,122.0 400.0,242.0\" fill=\"none\" stroke=\"currentColor\"/>\n",
       "    <text dy=\"1.25em\" style=\"font-size: 0.8em; letter-spacing: 1px\">\n",
       "        <textPath xlink:href=\"#arrow-7c7b8a2b6c914fe0b68f5b4cf677f102-0-3\" class=\"displacy-label\" startOffset=\"50%\" side=\"left\" fill=\"currentColor\" text-anchor=\"middle\">prep</textPath>\n",
       "    </text>\n",
       "    <path class=\"displacy-arrowhead\" d=\"M400.0,244.0 L408.0,232.0 392.0,232.0\" fill=\"currentColor\"/>\n",
       "</g>\n",
       "\n",
       "<g class=\"displacy-arrow\">\n",
       "    <path class=\"displacy-arc\" id=\"arrow-7c7b8a2b6c914fe0b68f5b4cf677f102-0-4\" stroke-width=\"2px\" d=\"M550,242.0 C550,182.0 635.0,182.0 635.0,242.0\" fill=\"none\" stroke=\"currentColor\"/>\n",
       "    <text dy=\"1.25em\" style=\"font-size: 0.8em; letter-spacing: 1px\">\n",
       "        <textPath xlink:href=\"#arrow-7c7b8a2b6c914fe0b68f5b4cf677f102-0-4\" class=\"displacy-label\" startOffset=\"50%\" side=\"left\" fill=\"currentColor\" text-anchor=\"middle\">det</textPath>\n",
       "    </text>\n",
       "    <path class=\"displacy-arrowhead\" d=\"M550,244.0 L542,232.0 558,232.0\" fill=\"currentColor\"/>\n",
       "</g>\n",
       "\n",
       "<g class=\"displacy-arrow\">\n",
       "    <path class=\"displacy-arc\" id=\"arrow-7c7b8a2b6c914fe0b68f5b4cf677f102-0-5\" stroke-width=\"2px\" d=\"M430,242.0 C430,122.0 640.0,122.0 640.0,242.0\" fill=\"none\" stroke=\"currentColor\"/>\n",
       "    <text dy=\"1.25em\" style=\"font-size: 0.8em; letter-spacing: 1px\">\n",
       "        <textPath xlink:href=\"#arrow-7c7b8a2b6c914fe0b68f5b4cf677f102-0-5\" class=\"displacy-label\" startOffset=\"50%\" side=\"left\" fill=\"currentColor\" text-anchor=\"middle\">pobj</textPath>\n",
       "    </text>\n",
       "    <path class=\"displacy-arrowhead\" d=\"M640.0,244.0 L648.0,232.0 632.0,232.0\" fill=\"currentColor\"/>\n",
       "</g>\n",
       "\n",
       "<g class=\"displacy-arrow\">\n",
       "    <path class=\"displacy-arc\" id=\"arrow-7c7b8a2b6c914fe0b68f5b4cf677f102-0-6\" stroke-width=\"2px\" d=\"M790,242.0 C790,182.0 875.0,182.0 875.0,242.0\" fill=\"none\" stroke=\"currentColor\"/>\n",
       "    <text dy=\"1.25em\" style=\"font-size: 0.8em; letter-spacing: 1px\">\n",
       "        <textPath xlink:href=\"#arrow-7c7b8a2b6c914fe0b68f5b4cf677f102-0-6\" class=\"displacy-label\" startOffset=\"50%\" side=\"left\" fill=\"currentColor\" text-anchor=\"middle\">compound</textPath>\n",
       "    </text>\n",
       "    <path class=\"displacy-arrowhead\" d=\"M790,244.0 L782,232.0 798,232.0\" fill=\"currentColor\"/>\n",
       "</g>\n",
       "\n",
       "<g class=\"displacy-arrow\">\n",
       "    <path class=\"displacy-arc\" id=\"arrow-7c7b8a2b6c914fe0b68f5b4cf677f102-0-7\" stroke-width=\"2px\" d=\"M910,242.0 C910,182.0 995.0,182.0 995.0,242.0\" fill=\"none\" stroke=\"currentColor\"/>\n",
       "    <text dy=\"1.25em\" style=\"font-size: 0.8em; letter-spacing: 1px\">\n",
       "        <textPath xlink:href=\"#arrow-7c7b8a2b6c914fe0b68f5b4cf677f102-0-7\" class=\"displacy-label\" startOffset=\"50%\" side=\"left\" fill=\"currentColor\" text-anchor=\"middle\">nsubj</textPath>\n",
       "    </text>\n",
       "    <path class=\"displacy-arrowhead\" d=\"M910,244.0 L902,232.0 918,232.0\" fill=\"currentColor\"/>\n",
       "</g>\n",
       "\n",
       "<g class=\"displacy-arrow\">\n",
       "    <path class=\"displacy-arc\" id=\"arrow-7c7b8a2b6c914fe0b68f5b4cf677f102-0-8\" stroke-width=\"2px\" d=\"M1030,242.0 C1030,62.0 1365.0,62.0 1365.0,242.0\" fill=\"none\" stroke=\"currentColor\"/>\n",
       "    <text dy=\"1.25em\" style=\"font-size: 0.8em; letter-spacing: 1px\">\n",
       "        <textPath xlink:href=\"#arrow-7c7b8a2b6c914fe0b68f5b4cf677f102-0-8\" class=\"displacy-label\" startOffset=\"50%\" side=\"left\" fill=\"currentColor\" text-anchor=\"middle\">ccomp</textPath>\n",
       "    </text>\n",
       "    <path class=\"displacy-arrowhead\" d=\"M1030,244.0 L1022,232.0 1038,232.0\" fill=\"currentColor\"/>\n",
       "</g>\n",
       "\n",
       "<g class=\"displacy-arrow\">\n",
       "    <path class=\"displacy-arc\" id=\"arrow-7c7b8a2b6c914fe0b68f5b4cf677f102-0-9\" stroke-width=\"2px\" d=\"M1030,242.0 C1030,182.0 1115.0,182.0 1115.0,242.0\" fill=\"none\" stroke=\"currentColor\"/>\n",
       "    <text dy=\"1.25em\" style=\"font-size: 0.8em; letter-spacing: 1px\">\n",
       "        <textPath xlink:href=\"#arrow-7c7b8a2b6c914fe0b68f5b4cf677f102-0-9\" class=\"displacy-label\" startOffset=\"50%\" side=\"left\" fill=\"currentColor\" text-anchor=\"middle\">dobj</textPath>\n",
       "    </text>\n",
       "    <path class=\"displacy-arrowhead\" d=\"M1115.0,244.0 L1123.0,232.0 1107.0,232.0\" fill=\"currentColor\"/>\n",
       "</g>\n",
       "\n",
       "<g class=\"displacy-arrow\">\n",
       "    <path class=\"displacy-arc\" id=\"arrow-7c7b8a2b6c914fe0b68f5b4cf677f102-0-10\" stroke-width=\"2px\" d=\"M1270,242.0 C1270,182.0 1355.0,182.0 1355.0,242.0\" fill=\"none\" stroke=\"currentColor\"/>\n",
       "    <text dy=\"1.25em\" style=\"font-size: 0.8em; letter-spacing: 1px\">\n",
       "        <textPath xlink:href=\"#arrow-7c7b8a2b6c914fe0b68f5b4cf677f102-0-10\" class=\"displacy-label\" startOffset=\"50%\" side=\"left\" fill=\"currentColor\" text-anchor=\"middle\">nsubj</textPath>\n",
       "    </text>\n",
       "    <path class=\"displacy-arrowhead\" d=\"M1270,244.0 L1262,232.0 1278,232.0\" fill=\"currentColor\"/>\n",
       "</g>\n",
       "\n",
       "<g class=\"displacy-arrow\">\n",
       "    <path class=\"displacy-arc\" id=\"arrow-7c7b8a2b6c914fe0b68f5b4cf677f102-0-11\" stroke-width=\"2px\" d=\"M1390,242.0 C1390,182.0 1475.0,182.0 1475.0,242.0\" fill=\"none\" stroke=\"currentColor\"/>\n",
       "    <text dy=\"1.25em\" style=\"font-size: 0.8em; letter-spacing: 1px\">\n",
       "        <textPath xlink:href=\"#arrow-7c7b8a2b6c914fe0b68f5b4cf677f102-0-11\" class=\"displacy-label\" startOffset=\"50%\" side=\"left\" fill=\"currentColor\" text-anchor=\"middle\">dobj</textPath>\n",
       "    </text>\n",
       "    <path class=\"displacy-arrowhead\" d=\"M1475.0,244.0 L1483.0,232.0 1467.0,232.0\" fill=\"currentColor\"/>\n",
       "</g>\n",
       "</svg></span>"
      ],
      "text/plain": [
       "<IPython.core.display.HTML object>"
      ]
     },
     "metadata": {},
     "output_type": "display_data"
    }
   ],
   "source": [
    "# Visualize the relationship dependencies among the tokens\n",
    "spacy.displacy.render(nlp(headlines[4].text), style='dep',jupyter=True, options={'distance': 120})"
   ]
  },
  {
   "cell_type": "code",
   "execution_count": 25,
   "metadata": {},
   "outputs": [
    {
     "data": {
      "text/html": [
       "<span class=\"tex2jax_ignore\"><div class=\"entities\" style=\"line-height: 2.5; direction: ltr\">Biggest gainers &amp; losers of \n",
       "<mark class=\"entity\" style=\"background: #bfe1d9; padding: 0.45em 0.6em; margin: 0 0.25em; line-height: 1; border-radius: 0.35em;\">\n",
       "    the day\n",
       "    <span style=\"font-size: 0.8em; font-weight: bold; line-height: 1; border-radius: 0.35em; vertical-align: middle; margin-left: 0.5rem\">DATE</span>\n",
       "</mark>\n",
       ": \n",
       "<mark class=\"entity\" style=\"background: #aa9cfc; padding: 0.45em 0.6em; margin: 0 0.25em; line-height: 1; border-radius: 0.35em;\">\n",
       "    Kanchi Karpooram\n",
       "    <span style=\"font-size: 0.8em; font-weight: bold; line-height: 1; border-radius: 0.35em; vertical-align: middle; margin-left: 0.5rem\">PERSON</span>\n",
       "</mark>\n",
       " soars \n",
       "<mark class=\"entity\" style=\"background: #e4e7d2; padding: 0.45em 0.6em; margin: 0 0.25em; line-height: 1; border-radius: 0.35em;\">\n",
       "    20%\n",
       "    <span style=\"font-size: 0.8em; font-weight: bold; line-height: 1; border-radius: 0.35em; vertical-align: middle; margin-left: 0.5rem\">PERCENT</span>\n",
       "</mark>\n",
       ", Aptus shed \n",
       "<mark class=\"entity\" style=\"background: #e4e7d2; padding: 0.45em 0.6em; margin: 0 0.25em; line-height: 1; border-radius: 0.35em;\">\n",
       "    5%\n",
       "    <span style=\"font-size: 0.8em; font-weight: bold; line-height: 1; border-radius: 0.35em; vertical-align: middle; margin-left: 0.5rem\">PERCENT</span>\n",
       "</mark>\n",
""      ],
      "text/plain": [
       "<IPython.core.display.HTML object>"
      ]
     },
     "metadata": {},
     "output_type": "display_data"
    }
   ],
   "source": [
    "# Important entities of the sentence, you can pass 'ent’ as style in the same code\n",
    "spacy.displacy.render(nlp(headlines[4].text), style = 'ent',jupyter=True, options={'distance': 120})"
   ]
  },
  {
   "cell_type": "markdown",
   "metadata": {},
   "source": [
    "\n",
    "- We have different tags for different entities like the day has DATE, Glasscoat has GPE which can be Countries/Cities/States. \n",
    "- There are many entities we can extract, **which one are we interested in?**\n",
    "- We are majorly looking for entities that have `ORG` tag that’ll give us Companies, agencies, institutions, etc.\n",
    "\n",
""   ]
  },
  {
   "cell_type": "code",
   "execution_count": 26,
   "metadata": {},
   "outputs": [],
   "source": [
    "companies = []\n",
    "for title in headlines:\n",
    "    doc = nlp(title.text)\n",
    "    for token in doc.ents:\n",
    "        if token.label_ == 'ORG':\n",
    "            companies.append(token.text)\n",
    "        else:\n",
    "            pass"
   ]
  },
  {
   "cell_type": "code",
   "execution_count": 27,
   "metadata": {},
   "outputs": [
    {
     "data": {
      "text/plain": [
       "['Daily Trading Guide',\n",
       " 'Zee Entertainment',\n",
       " 'Sony',\n",
       " 'SMA',\n",
       " 'Nifty',\n",
       " 'NCLT',\n",
       " 'ZEE',\n",
       " 'Invesco’s',\n",
       " 'BSE',\n",
       " 'JM Financial',\n",
       " 'Nifty Auto',\n",
       " 'Paytm’s Vijay Shekhar',\n",
       " 'BSE',\n",
       " 'Nifty Realty',\n",
       " 'Nifty',\n",
       " 'Nifty Bank',\n",
       " 'Nifty',\n",
       " 'F&O',\n",
       " 'Zee Ent',\n",
       " 'HPCL',\n",
       " 'Indian Oil Corp.',\n",
       " 'Sensex',\n",
       " 'REC',\n",
       " 'PI Industries',\n",
       " 'Power Finance Corp.',\n",
       " 'Sensex',\n",
       " 'Piramal Ent',\n",
       " 'Marico',\n",
       " 'Siemens',\n",
       " 'ACC']"
      ]
     },
     "execution_count": 27,
     "metadata": {},
     "output_type": "execute_result"
    }
   ],
   "source": [
    "companies"
   ]
  },
  {
   "cell_type": "markdown",
   "metadata": {},
   "source": [
    "# Name entity linking"
   ]
  },
  {
   "cell_type": "markdown",
   "metadata": {},
   "source": [
    "\n",
    "- Of all the company we have, we'd like to select only some of them.\n",
    "\n",
""   ]
  },
  {
   "cell_type": "code",
   "execution_count": 34,
   "metadata": {},
   "outputs": [],
   "source": [
    "# Collect various market attributes of a stock into a dictionary\n",
    "stock_dict = {\n",
    "    'Org': [],\n",
    "    'Symbol': [],\n",
    "    'currentPrice': [],\n",
    "    'dayHigh': [],\n",
    "    'dayLow': [],\n",
    "    'forwardPE': [],\n",
    "    'dividendYield': []\n",
    "}"
   ]
  },
  {
   "cell_type": "code",
   "execution_count": 37,
   "metadata": {
    "scrolled": true
   },
   "outputs": [
    {
     "data": {
      "text/plain": [
       "['Daily Trading Guide',\n",
       " 'Zee Entertainment',\n",
       " 'Sony',\n",
       " 'SMA',\n",
       " 'Nifty',\n",
       " 'NCLT',\n",
       " 'ZEE',\n",
       " 'Invesco’s',\n",
       " 'BSE',\n",
       " 'JM Financial',\n",
       " 'Nifty Auto',\n",
       " 'Paytm’s Vijay Shekhar',\n",
       " 'BSE',\n",
       " 'Nifty Realty',\n",
       " 'Nifty',\n",
       " 'Nifty Bank',\n",
       " 'Nifty',\n",
       " 'F&O',\n",
       " 'Zee Ent',\n",
       " 'HPCL',\n",
       " 'Indian Oil Corp.',\n",
       " 'Sensex',\n",
       " 'REC',\n",
       " 'PI Industries',\n",
       " 'Power Finance Corp.',\n",
       " 'Sensex',\n",
       " 'Piramal Ent',\n",
       " 'Marico',\n",
       " 'Siemens',\n",
       " 'ACC']"
      ]
     },
     "execution_count": 37,
     "metadata": {},
     "output_type": "execute_result"
    }
   ],
   "source": [
    "companies"
   ]
  },
  {
   "cell_type": "markdown",
   "metadata": {},
   "source": [
    "\n",
    "- We have the company names but in order to get their trading details, we’ll need the company’s trading stock symbol.\n",
    "- Since I am extracting the details and news of Indian Companies, I am going to use an external database of [Nifty 500 companies(a CSV file)](https://www1.nseindia.com/products/content/equities/indices/nifty_500.htm).\n",
    "- For every company, we’ll look it up in the list of companies using pandas, and then we’ll capture the stock market statistics using the yahoo `yfinance` library.\n",
    "\n",
""   ]
  },
  {
   "cell_type": "code",
   "execution_count": 43,
   "metadata": {},
   "outputs": [
    {
     "name": "stdout",
     "output_type": "stream",
     "text": [
      "dimension:  (501, 5)\n"
     ]
    },
    {
     "data": {
      "text/html": [
       "<style scoped>\n",
       "    .dataframe tbody tr th:only-of-type {\n",
       "        vertical-align: middle;\n",
       "    }\n",
       "\n",
       "    .dataframe tbody tr th {\n",
       "        vertical-align: top;\n",
       "    }\n",
       "\n",
       "    .dataframe thead th {\n",
       "        text-align: right;\n",
       "    }\n",
       "</style>\n",
       "<table border=\"1\" class=\"dataframe\">\n",
       "  <thead>\n",
       "    <tr style=\"text-align: right;\">\n",
       "      <th></th>\n",
       "      <th>Company Name</th>\n",
       "      <th>Industry</th>\n",
       "      <th>Symbol</th>\n",
       "      <th>Series</th>\n",
       "      <th>ISIN Code</th>\n",
       "    </tr>\n",
       "  </thead>\n",
       "  <tbody>\n",
       "    <tr>\n",
       "      <th>0</th>\n",
       "      <td>3M India Ltd.</td>\n",
       "      <td>CONSUMER GOODS</td>\n",
       "      <td>3MINDIA</td>\n",
       "      <td>EQ</td>\n",
       "      <td>INE470A01017</td>\n",
       "    </tr>\n",
       "    <tr>\n",
       "      <th>1</th>\n",
       "      <td>ABB India Ltd.</td>\n",
       "      <td>INDUSTRIAL MANUFACTURING</td>\n",
       "      <td>ABB</td>\n",
       "      <td>EQ</td>\n",
       "      <td>INE117A01022</td>\n",
       "    </tr>\n",
       "    <tr>\n",
       "      <th>2</th>\n",
       "      <td>ABB Power Products and Systems India Ltd.</td>\n",
       "      <td>INDUSTRIAL MANUFACTURING</td>\n",
       "      <td>POWERINDIA</td>\n",
       "      <td>EQ</td>\n",
       "      <td>INE07Y701011</td>\n",
       "    </tr>\n",
       "    <tr>\n",
       "      <th>3</th>\n",
       "      <td>ACC Ltd.</td>\n",
       "      <td>CEMENT &amp; CEMENT PRODUCTS</td>\n",
       "      <td>ACC</td>\n",
       "      <td>EQ</td>\n",
       "      <td>INE012A01025</td>\n",
       "    </tr>\n",
       "    <tr>\n",
       "      <th>4</th>\n",
       "      <td>AIA Engineering Ltd.</td>\n",
       "      <td>INDUSTRIAL MANUFACTURING</td>\n",
       "      <td>AIAENG</td>\n",
       "      <td>EQ</td>\n",
       "      <td>INE212H01026</td>\n",
       "    </tr>\n",
       "  </tbody>\n",
       "</table>\n",
""      ],
      "text/plain": [
       "                                Company Name                  Industry  \\\n",
       "0                              3M India Ltd.            CONSUMER GOODS   \n",
       "1                             ABB India Ltd.  INDUSTRIAL MANUFACTURING   \n",
       "2  ABB Power Products and Systems India Ltd.  INDUSTRIAL MANUFACTURING   \n",
       "3                                   ACC Ltd.  CEMENT & CEMENT PRODUCTS   \n",
       "4                       AIA Engineering Ltd.  INDUSTRIAL MANUFACTURING   \n",
       "\n",
       "       Symbol Series     ISIN Code  \n",
       "0     3MINDIA     EQ  INE470A01017  \n",
       "1         ABB     EQ  INE117A01022  \n",
       "2  POWERINDIA     EQ  INE07Y701011  \n",
       "3         ACC     EQ  INE012A01025  \n",
       "4      AIAENG     EQ  INE212H01026  "
      ]
     },
     "execution_count": 43,
     "metadata": {},
     "output_type": "execute_result"
    }
   ],
   "source": [
    "input_path = \"../DATASETS/ind_nifty500list.csv\"\n",
    "stocks_df = pd.read_csv(input_path)\n",
    "print('dimension: ', stocks_df.shape)\n",
    "stocks_df.head()"
   ]
  },
  {
   "cell_type": "code",
   "execution_count": 44,
   "metadata": {},
   "outputs": [],
   "source": [
    "# For each company look it up and gather all market data on it\n",
    "for company in companies:\n",
    "    try:\n",
    "        if stocks_df['Company Name'].str.contains(company).sum():\n",
    "            symbol = stocks_df[stocks_df['Company Name'].\\\n",
    "                                str.contains(company)]['Symbol'].values[0]\n",
    "            org_name = stocks_df[stocks_df['Company Name'].\\\n",
    "                                str.contains(company)]['Company Name'].values[0]\n",
    "            stock_dict['Org'].append(org_name)\n",
    "            stock_dict['Symbol'].append(symbol)\n",
    "            # indian NSE stock symbols are stored with a .NS suffix in yfinance\n",
    "            stock_info = yf.Ticker(symbol + \".NS\").info\n",
    "            stock_dict['currentPrice'].append(stock_info['currentPrice'])\n",
    "            stock_dict['dayHigh'].append(stock_info['dayHigh'])\n",
    "            stock_dict['dayLow'].append(stock_info['dayLow'])\n",
    "            stock_dict['forwardPE'].append(stock_info['forwardPE'])\n",
    "            stock_dict['dividendYield'].append(stock_info['dividendYield'])\n",
    "        else:\n",
    "            pass\n",
    "    except:\n",
    "        pass"
   ]
  },
  {
   "cell_type": "code",
   "execution_count": 45,
   "metadata": {},
   "outputs": [
    {
     "data": {
      "text/html": [
       "<style scoped>\n",
       "    .dataframe tbody tr th:only-of-type {\n",
       "        vertical-align: middle;\n",
       "    }\n",
       "\n",
       "    .dataframe tbody tr th {\n",
       "        vertical-align: top;\n",
       "    }\n",
       "\n",
       "    .dataframe thead th {\n",
       "        text-align: right;\n",
       "    }\n",
       "</style>\n",
       "<table border=\"1\" class=\"dataframe\">\n",
       "  <thead>\n",
       "    <tr style=\"text-align: right;\">\n",
       "      <th></th>\n",
       "      <th>Org</th>\n",
       "      <th>Symbol</th>\n",
       "      <th>currentPrice</th>\n",
       "      <th>dayHigh</th>\n",
       "      <th>dayLow</th>\n",
       "      <th>forwardPE</th>\n",
       "      <th>dividendYield</th>\n",
       "    </tr>\n",
       "  </thead>\n",
       "  <tbody>\n",
       "    <tr>\n",
       "      <th>0</th>\n",
       "      <td>Zee Entertainment Enterprises Ltd.</td>\n",
       "      <td>ZEEL</td>\n",
       "      <td>303.20</td>\n",
       "      <td>309.60</td>\n",
       "      <td>300.00</td>\n",
       "      <td>18.276070</td>\n",
       "      <td>0.0081</td>\n",
       "    </tr>\n",
       "    <tr>\n",
       "      <th>1</th>\n",
       "      <td>BSE Ltd.</td>\n",
       "      <td>BSE</td>\n",
       "      <td>1231.25</td>\n",
       "      <td>1252.00</td>\n",
       "      <td>1225.00</td>\n",
       "      <td>29.238897</td>\n",
       "      <td>0.0169</td>\n",
       "    </tr>\n",
       "    <tr>\n",
       "      <th>2</th>\n",
       "      <td>JM Financial Ltd.</td>\n",
       "      <td>JMFINANCIL</td>\n",
       "      <td>92.55</td>\n",
       "      <td>93.15</td>\n",
       "      <td>92.00</td>\n",
       "      <td>NaN</td>\n",
       "      <td>0.0054</td>\n",
       "    </tr>\n",
       "    <tr>\n",
       "      <th>3</th>\n",
       "      <td>BSE Ltd.</td>\n",
       "      <td>BSE</td>\n",
       "      <td>1231.25</td>\n",
       "      <td>1252.00</td>\n",
       "      <td>1225.00</td>\n",
       "      <td>29.238897</td>\n",
       "      <td>0.0169</td>\n",
       "    </tr>\n",
       "    <tr>\n",
       "      <th>4</th>\n",
       "      <td>Zee Entertainment Enterprises Ltd.</td>\n",
       "      <td>ZEEL</td>\n",
       "      <td>303.20</td>\n",
       "      <td>309.60</td>\n",
       "      <td>300.00</td>\n",
       "      <td>18.276070</td>\n",
       "      <td>0.0081</td>\n",
       "    </tr>\n",
       "    <tr>\n",
       "      <th>5</th>\n",
       "      <td>Indian Oil Corporation Ltd.</td>\n",
       "      <td>IOC</td>\n",
       "      <td>125.30</td>\n",
       "      <td>128.50</td>\n",
       "      <td>124.35</td>\n",
       "      <td>6.941829</td>\n",
       "      <td>0.0942</td>\n",
       "    </tr>\n",
       "    <tr>\n",
       "      <th>6</th>\n",
       "      <td>REC Ltd.</td>\n",
       "      <td>RECLTD</td>\n",
       "      <td>157.85</td>\n",
       "      <td>163.95</td>\n",
       "      <td>157.15</td>\n",
       "      <td>5.165249</td>\n",
       "      <td>0.0906</td>\n",
       "    </tr>\n",
       "    <tr>\n",
       "      <th>7</th>\n",
       "      <td>PI Industries Ltd.</td>\n",
       "      <td>PIIND</td>\n",
       "      <td>3178.35</td>\n",
       "      <td>3273.40</td>\n",
       "      <td>3142.00</td>\n",
       "      <td>89.455400</td>\n",
       "      <td>0.0015</td>\n",
       "    </tr>\n",
       "    <tr>\n",
       "      <th>8</th>\n",
       "      <td>Power Finance Corporation Ltd.</td>\n",
       "      <td>PFC</td>\n",
       "      <td>142.10</td>\n",
       "      <td>146.40</td>\n",
       "      <td>141.00</td>\n",
       "      <td>5.636653</td>\n",
       "      <td>0.0849</td>\n",
       "    </tr>\n",
       "    <tr>\n",
       "      <th>9</th>\n",
       "      <td>Piramal Enterprises Ltd.</td>\n",
       "      <td>PEL</td>\n",
       "      <td>2595.80</td>\n",
       "      <td>2667.00</td>\n",
       "      <td>2584.05</td>\n",
       "      <td>19.007101</td>\n",
       "      <td>0.0125</td>\n",
       "    </tr>\n",
       "    <tr>\n",
       "      <th>10</th>\n",
       "      <td>Marico Ltd.</td>\n",
       "      <td>MARICO</td>\n",
       "      <td>547.50</td>\n",
       "      <td>556.35</td>\n",
       "      <td>544.00</td>\n",
       "      <td>70.102430</td>\n",
       "      <td>0.0149</td>\n",
       "    </tr>\n",
       "    <tr>\n",
       "      <th>11</th>\n",
       "      <td>Siemens Ltd.</td>\n",
       "      <td>SIEMENS</td>\n",
       "      <td>2129.40</td>\n",
       "      <td>2157.00</td>\n",
       "      <td>2111.55</td>\n",
       "      <td>67.450110</td>\n",
       "      <td>0.0033</td>\n",
       "    </tr>\n",
       "    <tr>\n",
       "      <th>12</th>\n",
       "      <td>ACC Ltd.</td>\n",
       "      <td>ACC</td>\n",
       "      <td>2254.50</td>\n",
       "      <td>2276.90</td>\n",
       "      <td>2251.50</td>\n",
       "      <td>32.527775</td>\n",
       "      <td>0.0062</td>\n",
       "    </tr>\n",
       "  </tbody>\n",
       "</table>\n",
""      ],
      "text/plain": [
       "                                   Org      Symbol  currentPrice  dayHigh  \\\n",
       "0   Zee Entertainment Enterprises Ltd.        ZEEL        303.20   309.60   \n",
       "1                             BSE Ltd.         BSE       1231.25  1252.00   \n",
       "2                    JM Financial Ltd.  JMFINANCIL         92.55    93.15   \n",
       "3                             BSE Ltd.         BSE       1231.25  1252.00   \n",
       "4   Zee Entertainment Enterprises Ltd.        ZEEL        303.20   309.60   \n",
       "5          Indian Oil Corporation Ltd.         IOC        125.30   128.50   \n",
       "6                             REC Ltd.      RECLTD        157.85   163.95   \n",
       "7                   PI Industries Ltd.       PIIND       3178.35  3273.40   \n",
       "8       Power Finance Corporation Ltd.         PFC        142.10   146.40   \n",
       "9             Piramal Enterprises Ltd.         PEL       2595.80  2667.00   \n",
       "10                         Marico Ltd.      MARICO        547.50   556.35   \n",
       "11                        Siemens Ltd.     SIEMENS       2129.40  2157.00   \n",
       "12                            ACC Ltd.         ACC       2254.50  2276.90   \n",
       "\n",
       "     dayLow  forwardPE  dividendYield  \n",
       "0    300.00  18.276070         0.0081  \n",
       "1   1225.00  29.238897         0.0169  \n",
       "2     92.00        NaN         0.0054  \n",
       "3   1225.00  29.238897         0.0169  \n",
       "4    300.00  18.276070         0.0081  \n",
       "5    124.35   6.941829         0.0942  \n",
       "6    157.15   5.165249         0.0906  \n",
       "7   3142.00  89.455400         0.0015  \n",
       "8    141.00   5.636653         0.0849  \n",
       "9   2584.05  19.007101         0.0125  \n",
       "10   544.00  70.102430         0.0149  \n",
       "11  2111.55  67.450110         0.0033  \n",
       "12  2251.50  32.527775         0.0062  "
      ]
     },
     "execution_count": 45,
     "metadata": {},
     "output_type": "execute_result"
    }
   ],
   "source": [
    "# Create a dataframe to display the buzzing stocks\n",
    "pd.DataFrame(stock_dict)"
   ]
  },
  {
   "cell_type": "markdown",
   "metadata": {},
   "source": [
    "# Conclusions"
   ]
  },
  {
   "cell_type": "markdown",
   "metadata": {},
   "source": [
    "\n",
    "- We have automatically extract name from the an xml file.\n",
    "- We have linked them to company we are interested in.\n",
    "- We have collect some important info about them.\n",
    "\n",
""   ]
  },
  {
   "cell_type": "markdown",
   "metadata": {},
   "source": [
    "# References"
   ]
  },
  {
   "cell_type": "markdown",
   "metadata": {},
   "source": [
    "\n",
    "- https://www.kdnuggets.com/2021/09/-structured-financial-newsfeed-using-python-spacy-and-streamlit.html \n",
    "\n",
""   ]
  },
  {
   "cell_type": "code",
   "execution_count": null,
   "metadata": {},
   "outputs": [],
   "source": []
  }
 ],
 "metadata": {
  "hide_input": false,
  "kernelspec": {
   "display_name": "trainingAI",
   "language": "python",
   "name": "trainingai"
  },
  "language_info": {
   "codemirror_mode": {
    "name": "ipython",
    "version": 3
   },
   "file_extension": ".py",
   "mimetype": "text/x-python",
   "name": "python",
   "nbconvert_exporter": "python",
   "pygments_lexer": "ipython3",
   "version": "3.8.5"
  }
 },
 "nbformat": 4,
 "nbformat_minor": 2
}
