{
 "cells": [
  {
   "cell_type": "markdown",
   "metadata": {},
   "source": [
    "# Introduction"
   ]
  },
  {
   "cell_type": "code",
   "execution_count": null,
   "metadata": {},
   "outputs": [],
   "source": [
    "\"\"\"\n",
    "What? Part of Speech (POS) taggging\n",
    "\n",
    "NLTK is a standard python library for natural language processing and computational linguistics.\n",
    "\n",
    "Reference: https://www.mygreatlearning.com/blog/nltk-tutorial-with-python/?highlight=nlp\n",
    "\"\"\""
   ]
  },
  {
   "cell_type": "markdown",
   "metadata": {},
   "source": [
    "# Import libraries"
   ]
  },
  {
   "cell_type": "code",
   "execution_count": 2,
   "metadata": {},
   "outputs": [],
   "source": [
    "import nltk\n",
    "from nltk.tokenize import sent_tokenize, word_tokenize "
   ]
  },
  {
   "cell_type": "markdown",
   "metadata": {},
   "source": [
    "# Part of Speech (POS) taggging"
   ]
  },
  {
   "cell_type": "code",
   "execution_count": null,
   "metadata": {},
   "outputs": [],
   "source": [
    "\"\"\"\n",
    "POS tagging is the process of identifying parts of speech of a sentence. It is able to identify nouns, pronouns, \n",
    "adjectives etc. in a sentence and assigns a POS token to each word. There are different methods to tag, but we \n",
    "will be using the universal style of tagging.\n",
    "\"\"\""
   ]
  },
  {
   "cell_type": "code",
   "execution_count": 6,
   "metadata": {},
   "outputs": [],
   "source": [
    "content = \"Cake is a form of sweet food made from flour, sugar, and other ingredients, that is usually baked.In their oldest forms, cakes were modifications of bread, but cakes now cover a wide range of preparations  that can be simple or elaborate, and that share features with other desserts such as pastries, meringues, custards, and pies.\""
   ]
  },
  {
   "cell_type": "code",
   "execution_count": 7,
   "metadata": {},
   "outputs": [
    {
     "data": {
      "text/plain": [
       "'Cake is a form of sweet food made from flour, sugar, and other ingredients, that is usually baked.In their oldest forms, cakes were modifications of bread, but cakes now cover a wide range of preparations  that can be simple or elaborate, and that share features with other desserts such as pastries, meringues, custards, and pies.'"
      ]
     },
     "execution_count": 7,
     "metadata": {},
     "output_type": "execute_result"
    }
   ],
   "source": [
    "content"
   ]
  },
  {
   "cell_type": "code",
   "execution_count": 5,
   "metadata": {},
   "outputs": [
    {
     "data": {
      "text/plain": [
       "['Cake is a form of sweet food made from flour, sugar, and other ingredients, that is usually baked.In their oldest forms, cakes were modifications of bread, but cakes now cover a wide range of preparations  that can be simple or elaborate, and that share features with other desserts such as pastries, meringues, custards, and pies.']"
      ]
     },
     "execution_count": 5,
     "metadata": {},
     "output_type": "execute_result"
    }
   ],
   "source": [
    "sent_tokenize(content)"
   ]
  },
  {
   "cell_type": "code",
   "execution_count": 8,
   "metadata": {},
   "outputs": [
    {
     "data": {
      "text/plain": [
       "['Cake',\n",
       " 'is',\n",
       " 'a',\n",
       " 'form',\n",
       " 'of',\n",
       " 'sweet',\n",
       " 'food',\n",
       " 'made',\n",
       " 'from',\n",
       " 'flour',\n",
       " ',',\n",
       " 'sugar',\n",
       " ',',\n",
       " 'and',\n",
       " 'other',\n",
       " 'ingredients',\n",
       " ',',\n",
       " 'that',\n",
       " 'is',\n",
       " 'usually',\n",
       " 'baked.In',\n",
       " 'their',\n",
       " 'oldest',\n",
       " 'forms',\n",
       " ',',\n",
       " 'cakes',\n",
       " 'were',\n",
       " 'modifications',\n",
       " 'of',\n",
       " 'bread',\n",
       " ',',\n",
       " 'but',\n",
       " 'cakes',\n",
       " 'now',\n",
       " 'cover',\n",
       " 'a',\n",
       " 'wide',\n",
       " 'range',\n",
       " 'of',\n",
       " 'preparations',\n",
       " 'that',\n",
       " 'can',\n",
       " 'be',\n",
       " 'simple',\n",
       " 'or',\n",
       " 'elaborate',\n",
       " ',',\n",
       " 'and',\n",
       " 'that',\n",
       " 'share',\n",
       " 'features',\n",
       " 'with',\n",
       " 'other',\n",
       " 'desserts',\n",
       " 'such',\n",
       " 'as',\n",
       " 'pastries',\n",
       " ',',\n",
       " 'meringues',\n",
       " ',',\n",
       " 'custards',\n",
       " ',',\n",
       " 'and',\n",
       " 'pies',\n",
       " '.']"
      ]
     },
     "execution_count": 8,
     "metadata": {},
     "output_type": "execute_result"
    }
   ],
   "source": [
    "word_tokenize(content)"
   ]
  },
  {
   "cell_type": "code",
   "execution_count": 4,
   "metadata": {},
   "outputs": [
    {
     "name": "stdout",
     "output_type": "stream",
     "text": [
      "('Cake', 'NOUN')\n",
      "('is', 'VERB')\n",
      "('a', 'DET')\n",
      "('form', 'NOUN')\n",
      "('of', 'ADP')\n",
      "('sweet', 'ADJ')\n",
      "('food', 'NOUN')\n",
      "('made', 'VERB')\n",
      "('from', 'ADP')\n",
      "('flour', 'NOUN')\n",
      "(',', '.')\n",
      "('sugar', 'NOUN')\n",
      "(',', '.')\n",
      "('and', 'CONJ')\n",
      "('other', 'ADJ')\n",
      "('ingredients', 'NOUN')\n",
      "(',', '.')\n",
      "('that', 'DET')\n",
      "('is', 'VERB')\n",
      "('usually', 'ADV')\n",
      "('baked.In', 'VERB')\n",
      "('their', 'PRON')\n",
      "('oldest', 'ADJ')\n",
      "('forms', 'NOUN')\n",
      "(',', '.')\n",
      "('cakes', 'NOUN')\n",
      "('were', 'VERB')\n",
      "('modifications', 'NOUN')\n",
      "('of', 'ADP')\n",
      "('bread', 'NOUN')\n",
      "(',', '.')\n",
      "('but', 'CONJ')\n",
      "('cakes', 'NOUN')\n",
      "('now', 'ADV')\n",
      "('cover', 'VERB')\n",
      "('a', 'DET')\n",
      "('wide', 'ADJ')\n",
      "('range', 'NOUN')\n",
      "('of', 'ADP')\n",
      "('preparations', 'NOUN')\n",
      "('that', 'DET')\n",
      "('can', 'VERB')\n",
      "('be', 'VERB')\n",
      "('simple', 'ADJ')\n",
      "('or', 'CONJ')\n",
      "('elaborate', 'ADJ')\n",
      "(',', '.')\n",
      "('and', 'CONJ')\n",
      "('that', 'ADP')\n",
      "('share', 'NOUN')\n",
      "('features', 'NOUN')\n",
      "('with', 'ADP')\n",
      "('other', 'ADJ')\n",
      "('desserts', 'NOUN')\n",
      "('such', 'ADJ')\n",
      "('as', 'ADP')\n",
      "('pastries', 'NOUN')\n",
      "(',', '.')\n",
      "('meringues', 'NOUN')\n",
      "(',', '.')\n",
      "('custards', 'NOUN')\n",
      "(',', '.')\n",
      "('and', 'CONJ')\n",
      "('pies', 'NOUN')\n",
      "('.', '.')\n"
     ]
    }
   ],
   "source": [
    "words= [word_tokenize(i) for i in sent_tokenize(content)] \n",
    "pos_tag= [nltk.pos_tag(i, tagset=\"universal\") for i in words] \n",
    "for singleTag in pos_tag[0]:\n",
    "    print(singleTag)"
   ]
  },
  {
   "cell_type": "code",
   "execution_count": null,
   "metadata": {},
   "outputs": [],
   "source": []
  },
  {
   "cell_type": "code",
   "execution_count": null,
   "metadata": {},
   "outputs": [],
   "source": []
  }
 ],
 "metadata": {
  "hide_input": false,
  "kernelspec": {
   "display_name": "trainingAI",
   "language": "python",
   "name": "trainingai"
  },
  "language_info": {
   "codemirror_mode": {
    "name": "ipython",
    "version": 3
   },
   "file_extension": ".py",
   "mimetype": "text/x-python",
   "name": "python",
   "nbconvert_exporter": "python",
   "pygments_lexer": "ipython3",
   "version": "3.8.5"
  }
 },
 "nbformat": 4,
 "nbformat_minor": 2
}
