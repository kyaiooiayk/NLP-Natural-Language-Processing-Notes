{
 "cells": [
  {
   "cell_type": "markdown",
   "id": "2fd36062",
   "metadata": {
    "toc": true
   },
   "source": [
    "<h1>Table of Contents<span class=\"tocSkip\"></span></h1>\n",
""   ]
  },
  {
   "cell_type": "markdown",
   "id": "7e32841b",
   "metadata": {},
   "source": [
    "# Introduction\n",
    "<hr style=\"border:2px solid black\"> </hr>"
   ]
  },
  {
   "cell_type": "markdown",
   "id": "0f130dec",
   "metadata": {},
   "source": [
    "\n",
    "**What?** How to Begin Your NLP Journey\n",
    "\n",
""   ]
  },
  {
   "cell_type": "markdown",
   "id": "7683eb7a",
   "metadata": {},
   "source": [
    "# Imports\n",
    "<hr style=\"border:2px solid black\"> </hr>"
   ]
  },
  {
   "cell_type": "code",
   "execution_count": 36,
   "id": "silent-government",
   "metadata": {},
   "outputs": [],
   "source": [
    "import langdetect\n",
    "from langdetect import detect_langs\n",
    "import nltk\n",
    "import re\n",
    "from nltk import FreqDist\n",
    "from nltk.tokenize import word_tokenize"
   ]
  },
  {
   "cell_type": "markdown",
   "id": "09a15ca8",
   "metadata": {},
   "source": [
    "# Define your text\n",
    "<hr style=\"border:2px solid black\"> </hr>"
   ]
  },
  {
   "cell_type": "markdown",
   "id": "aa2121e9",
   "metadata": {},
   "source": [
    "\n",
    "- We're going to take a quote by Stephen Hawking.\n",
    "- Using the langdetect library, we can check its language, and find out the probability of being written in that language.\n",
    "\n",
""   ]
  },
  {
   "cell_type": "code",
   "execution_count": 6,
   "id": "reported-probe",
   "metadata": {},
   "outputs": [],
   "source": [
    "text = \"Artificial Intelligence (AI) is likely to be either the best or the worst thing to happen to humanity.\""
   ]
  },
  {
   "cell_type": "code",
   "execution_count": 9,
   "id": "automated-slope",
   "metadata": {},
   "outputs": [
    {
     "name": "stdout",
     "output_type": "stream",
     "text": [
      "[en:0.9999975889409005]\n"
     ]
    }
   ],
   "source": [
    "print(detect_langs(text))"
   ]
  },
  {
   "cell_type": "markdown",
   "id": "ee665bf3",
   "metadata": {},
   "source": [
    "# Tokenization\n",
    "<hr style=\"border:2px solid black\"> </hr>"
   ]
  },
  {
   "cell_type": "markdown",
   "id": "94670d76",
   "metadata": {},
   "source": [
    "\n",
    "- Tokenization is the process of segmenting running text into sentences and words. \n",
    "- In essence, it’s the task of cutting a text into pieces called tokens. \n",
    "- We use the NLTK library to perform this task:\n",
    "\n",
""   ]
  },
  {
   "cell_type": "code",
   "execution_count": null,
   "id": "f31a584f",
   "metadata": {},
   "outputs": [],
   "source": [
    "nltk.download('punkt')\n",
    "tokenized_word = word_tokenize(text)\n",
    "print(tokenized_word)"
   ]
  },
  {
   "cell_type": "code",
   "execution_count": 13,
   "id": "brown-reconstruction",
   "metadata": {},
   "outputs": [
    {
     "data": {
      "text/plain": [
       "0.8571428571428571"
      ]
     },
     "execution_count": 13,
     "metadata": {},
     "output_type": "execute_result"
    }
   ],
   "source": [
    "# Now we can calculate a measure related to the lexical richness of the text:\n",
    "#This shows that the number of distinct words is 85,7% of the total number of words.\n",
    "len(set(tokenized_word)) / len(tokenized_word)"
   ]
  },
  {
   "cell_type": "markdown",
   "id": "8aabd744",
   "metadata": {},
   "source": [
    "# Lowercase & punctuation\n",
    "<hr style=\"border:2px solid black\"> </hr>"
   ]
  },
  {
   "cell_type": "code",
   "execution_count": null,
   "id": "fatty-purpose",
   "metadata": {},
   "outputs": [],
   "source": [
    "# Now let’s lowercase the text to standardize characters and for future stopwords removal:"
   ]
  },
  {
   "cell_type": "code",
   "execution_count": 24,
   "id": "integral-following",
   "metadata": {},
   "outputs": [
    {
     "name": "stdout",
     "output_type": "stream",
     "text": [
      "['artificial', 'intelligence', '(', 'ai', ')', 'is', 'likely', 'to', 'be', 'either', 'the', 'best', 'or', 'the', 'worst', 'thing', 'to', 'happen', 'to', 'humanity', '.']\n"
     ]
    }
   ],
   "source": [
    "tk_low_np = [w.lower() for w in tokenized_word]\n",
    "print(tk_low)"
   ]
  },
  {
   "cell_type": "code",
   "execution_count": null,
   "id": "absolute-strand",
   "metadata": {},
   "outputs": [],
   "source": [
    "# Next, we remove non-alphanumerical characters:"
   ]
  },
  {
   "cell_type": "code",
   "execution_count": 25,
   "id": "smooth-milan",
   "metadata": {},
   "outputs": [
    {
     "data": {
      "image/png": "[encoded data removed]",
      "text/plain": [
       "<Figure size 432x288 with 1 Axes>"
      ]
     },
     "metadata": {
      "needs_background": "light"
     },
     "output_type": "display_data"
    },
    {
     "data": {
      "text/plain": [
       "<AxesSubplot:title={'center':'Word frequency distribution'}, xlabel='Samples', ylabel='Cumulative Counts'>"
      ]
     },
     "execution_count": 25,
     "metadata": {},
     "output_type": "execute_result"
    }
   ],
   "source": [
    "fdist = FreqDist(tk_low_np)\n",
    "fdist.plot(title = \"Word frequency distribution\", cumulative = True)"
   ]
  },
  {
   "cell_type": "markdown",
   "id": "0c3def94",
   "metadata": {},
   "source": [
    "\n",
    "- We can see that the words “to” and “the” appear most often, but they don’t really add information to the text.\n",
    "- They are what’s known as **stopwords**.\n",
    "\n",
""   ]
  },
  {
   "cell_type": "markdown",
   "id": "fa35fbba",
   "metadata": {},
   "source": [
    "# Stopwords removal\n",
    "<hr style=\"border:2px solid black\"> </hr>"
   ]
  },
  {
   "cell_type": "markdown",
   "id": "2f38c9c3",
   "metadata": {},
   "source": [
    "\n",
    "- This process includes getting rid of common language articles, pronouns and prepositions such as “and”, “the” or “to” in English. \n",
    "- In this process some very common words that appear to provide little or no value to the NLP objective are filtered and excluded from the text to be processed, hence removing widespread and frequent terms that are not informative about the corresponding text.\n",
    "\n",
""   ]
  },
  {
   "cell_type": "code",
   "execution_count": 29,
   "id": "sublime-robin",
   "metadata": {},
   "outputs": [
    {
     "name": "stdout",
     "output_type": "stream",
     "text": [
      "{'didn', 'm', 'through', 'should', 'as', \"you'll\", 'that', 've', 'with', \"needn't\", 'further', 'hers', 'me', 'what', 'theirs', 'isn', 'each', \"wouldn't\", 'in', \"won't\", 'them', 'other', \"haven't\", 'd', 'been', 'its', 'do', 'how', 'are', 'at', 'while', 'same', \"hadn't\", 'to', 'shouldn', 'when', 'so', 'of', 'were', 'up', 'mustn', 'ma', 'most', 'until', 'why', 're', \"you've\", \"that'll\", 'very', 'by', 'here', \"it's\", 's', 'have', 'these', \"didn't\", 'whom', \"don't\", 'just', 'he', 'nor', 'a', 'this', 'once', \"mustn't\", 'themselves', 'which', 'it', 'can', 'himself', \"should've\", 'shan', \"wasn't\", 'any', 'than', 'more', 'no', 'down', 'if', 'their', \"you're\", 'against', 'your', 'they', 'because', 'both', 'won', 'she', 'being', \"hasn't\", 'but', \"couldn't\", \"you'd\", 'herself', 'couldn', 'the', 'i', 'under', \"aren't\", 'myself', 'o', 'ourselves', 'him', \"doesn't\", 'had', 'on', 'over', 'needn', 'was', 'my', 'some', 'off', 'during', 'about', 'where', 'only', 'itself', 'or', 'those', 'don', 'ain', 'after', 'does', 'between', 'again', 'aren', \"shan't\", 'his', 'there', 'few', 'ours', 'wouldn', 'weren', 'haven', 'and', 'into', 'not', 'having', 'such', 'am', 'from', 'her', 'then', 'is', \"weren't\", 'we', 'yourselves', 'hasn', 'y', 'wasn', \"she's\", 'who', 'for', 'own', 'you', 'will', 'be', 'out', 'above', 'now', 'll', 'too', 'below', 'yours', \"mightn't\", 'yourself', 'doesn', \"shouldn't\", 'all', 'our', 'an', \"isn't\", 't', 'has', 'hadn', 'mightn', 'did', 'doing', 'before'}\n"
     ]
    }
   ],
   "source": [
    "from nltk.corpus import stopwords\n",
    "stop_words = set(stopwords.words(\"english\"))\n",
    "print(stop_words)"
   ]
  },
  {
   "cell_type": "code",
   "execution_count": null,
   "id": "turned-deputy",
   "metadata": {},
   "outputs": [],
   "source": [
    "# Now, let’s clean our text from these stopwords:"
   ]
  },
  {
   "cell_type": "code",
   "execution_count": 31,
   "id": "interior-ethnic",
   "metadata": {},
   "outputs": [
    {
     "name": "stdout",
     "output_type": "stream",
     "text": [
      "['artificial', 'intelligence', '(', 'ai', ')', 'likely', 'either', 'best', 'worst', 'thing', 'happen', 'humanity', '.']\n"
     ]
    }
   ],
   "source": [
    "filtered_text = []\n",
    "for w in tk_low_np:\n",
    "    if w not in stop_words:\n",
    "        filtered_text.append(w)\n",
    "print(filtered_text)"
   ]
  },
  {
   "cell_type": "code",
   "execution_count": 32,
   "id": "three-length",
   "metadata": {},
   "outputs": [
    {
     "data": {
      "image/png": "[encoded data removed]",
      "text/plain": [
       "<Figure size 432x288 with 1 Axes>"
      ]
     },
     "metadata": {
      "needs_background": "light"
     },
     "output_type": "display_data"
    },
    {
     "data": {
      "text/plain": [
       "<AxesSubplot:title={'center':'Word frequency distribution'}, xlabel='Samples', ylabel='Cumulative Counts'>"
      ]
     },
     "execution_count": 32,
     "metadata": {},
     "output_type": "execute_result"
    }
   ],
   "source": [
    "fdist = FreqDist(filtered_text)\n",
    "fdist.plot(title = \"Word frequency distribution\", cumulative = True)"
   ]
  },
  {
   "cell_type": "markdown",
   "id": "aa9634bf",
   "metadata": {},
   "source": [
    "# Regular expressions\n",
    "<hr style=\"border:2px solid black\"> </hr>"
   ]
  },
  {
   "cell_type": "markdown",
   "id": "a250fd13",
   "metadata": {},
   "source": [
    "\n",
    "- Regular expressions (called REs, or RegExes) are a tiny, highly specialized programming language embedded inside Python and made available through the re module. \n",
    "\n",
""   ]
  },
  {
   "cell_type": "code",
   "execution_count": 35,
   "id": "coordinate-recall",
   "metadata": {},
   "outputs": [
    {
     "data": {
      "text/plain": [
       "['best', 'worst']"
      ]
     },
     "execution_count": 35,
     "metadata": {},
     "output_type": "execute_result"
    }
   ],
   "source": [
    "# For example, let’s search for words ending with “st”:\n",
    "[w for w in filtered_text if re.search('st$', w)]"
   ]
  },
  {
   "cell_type": "code",
   "execution_count": 39,
   "id": "governing-links",
   "metadata": {},
   "outputs": [
    {
     "data": {
      "text/plain": [
       "5"
      ]
     },
     "execution_count": 39,
     "metadata": {},
     "output_type": "execute_result"
    }
   ],
   "source": [
    "# Or count the number of vowels in the first word (“artificial”)\n",
    "len(re.findall(r'[aeiou]', filtered_text[0]))"
   ]
  },
  {
   "cell_type": "markdown",
   "id": "4e498830",
   "metadata": {},
   "source": [
    "# References\n",
    "<hr style=\"border:2px solid black\"> </hr>"
   ]
  },
  {
   "cell_type": "markdown",
   "id": "d80cc7df",
   "metadata": {},
   "source": [
    "\n",
    "- https://www.kdnuggets.com/2021/03/begin-nlp-journey.html\n",
    "\n",
""   ]
  },
  {
   "cell_type": "code",
   "execution_count": null,
   "id": "classical-bridal",
   "metadata": {},
   "outputs": [],
   "source": []
  }
 ],
 "metadata": {
  "hide_input": false,
  "kernelspec": {
   "display_name": "trainingAI",
   "language": "python",
   "name": "trainingai"
  },
  "language_info": {
   "codemirror_mode": {
    "name": "ipython",
    "version": 3
   },
   "file_extension": ".py",
   "mimetype": "text/x-python",
   "name": "python",
   "nbconvert_exporter": "python",
   "pygments_lexer": "ipython3",
   "version": "3.9.7"
  },
  "toc": {
   "base_numbering": 1,
   "nav_menu": {},
   "number_sections": true,
   "sideBar": true,
   "skip_h1_title": false,
   "title_cell": "Table of Contents",
   "title_sidebar": "Contents",
   "toc_cell": true,
   "toc_position": {},
   "toc_section_display": true,
   "toc_window_display": true
  },
  "varInspector": {
   "cols": {
    "lenName": 16,
    "lenType": 16,
    "lenVar": 40
   },
   "kernels_config": {
    "python": {
     "delete_cmd_postfix": "",
     "delete_cmd_prefix": "del ",
     "library": "var_list.py",
     "varRefreshCmd": "print(var_dic_list())"
    },
    "r": {
     "delete_cmd_postfix": ") ",
     "delete_cmd_prefix": "rm(",
     "library": "var_list.r",
     "varRefreshCmd": "cat(var_dic_list()) "
    }
   },
   "types_to_exclude": [
    "module",
    "function",
    "builtin_function_or_method",
    "instance",
    "_Feature"
   ],
   "window_display": false
  }
 },
 "nbformat": 4,
 "nbformat_minor": 5
}
