{
 "cells": [
  {
   "cell_type": "markdown",
   "metadata": {},
   "source": [
    "# Introduction"
   ]
  },
  {
   "cell_type": "code",
   "execution_count": 1,
   "metadata": {},
   "outputs": [],
   "source": [
    "\"\"\"\n",
    "What? NLP analysis of some pdf files. This is step#1\n",
    "\n",
    "The goal is to to analyze Microsoft’s earnings transcripts in pre- and post-Satya Nadella days to extract insights\n",
    "about how the company’s philosophy and strategy evolved over time. The goal of step#1 is to read-in the file\n",
    "and save a cleaned version of it ready to be used by NLP.\n",
    "\n",
    "Reference: https://mikechoi90.medium.com/investigating-microsofts-transformation-under-satya-nadella-f49083294c35\n",
    "\"\"\""
   ]
  },
  {
   "cell_type": "markdown",
   "metadata": {},
   "source": [
    "# Import libraries"
   ]
  },
  {
   "cell_type": "code",
   "execution_count": 2,
   "metadata": {},
   "outputs": [],
   "source": [
    "import text_preprocessing_utils as tpu\n",
    "import pickle\n",
    "import os"
   ]
  },
  {
   "cell_type": "markdown",
   "metadata": {},
   "source": [
    "# Extracting Text from PDF files"
   ]
  },
  {
   "cell_type": "code",
   "execution_count": 3,
   "metadata": {},
   "outputs": [
    {
     "data": {
      "text/plain": [
       "'\\nI retrieved Microsoft’s earnings transcripts in PDFs from Capital IQ API.\\n\\n    3Q’07–2Q’14: 28 quarters of transcripts in the Steve Ballmer era\\n    3Q’14–2Q’21: 28 quarters of transcripts in the Satya Nadella era\\n'"
      ]
     },
     "execution_count": 3,
     "metadata": {},
     "output_type": "execute_result"
    }
   ],
   "source": [
    "\"\"\"\n",
    "I retrieved Microsoft’s earnings transcripts in PDFs from Capital IQ API.\n",
    "    3Q’07–2Q’14: 28 quarters of transcripts in the Steve Ballmer era\n",
    "    3Q’14–2Q’21: 28 quarters of transcripts in the Satya Nadella era\n",
    "These are all .pdf files\n",
    "\"\"\""
   ]
  },
  {
   "cell_type": "code",
   "execution_count": 4,
   "metadata": {},
   "outputs": [
    {
     "name": "stdout",
     "output_type": "stream",
     "text": [
      "Reading file: msft_21q2\n",
      "Reading file: msft_21q1\n",
      "Reading file: msft_07q3\n",
      "Reading file: msft_18q4\n",
      "Reading file: msft_18q1\n",
      "Reading file: msft_18q3\n",
      "Reading file: msft_07q4\n",
      "Reading file: msft_18q2\n",
      "Reading file: msft_20q1\n",
      "Reading file: msft_19q4\n",
      "Reading file: msft_20q2\n",
      "Reading file: msft_20q3\n",
      "Reading file: msft_19q3\n",
      "Reading file: msft_19q2\n",
      "Reading file: msft_20q4\n",
      "Reading file: msft_19q1\n",
      "Reading file: msft_08q4\n",
      "Reading file: msft_15q1\n",
      "Reading file: msft_17q3\n",
      "Reading file: msft_11q4\n",
      "Reading file: msft_17q2\n",
      "Reading file: msft_15q2\n",
      "Reading file: msft_13q4\n",
      "Reading file: msft_17q1\n",
      "Reading file: msft_15q3\n",
      "Reading file: msft_08q2\n",
      "Reading file: msft_11q3\n",
      "Reading file: msft_13q1\n",
      "Reading file: msft_11q2\n",
      "Reading file: msft_17q4\n",
      "Reading file: msft_08q3\n",
      "Reading file: msft_08q1\n",
      "Reading file: msft_15q4\n",
      "Reading file: msft_13q2\n",
      "Reading file: msft_13q3\n",
      "Reading file: msft_11q1\n",
      "Reading file: msft_12q4\n",
      "Reading file: msft_14q2\n",
      "Reading file: msft_14q3\n",
      "Reading file: msft_16q1\n",
      "Reading file: msft_16q3\n",
      "Reading file: msft_09q4\n",
      "Reading file: msft_14q1\n",
      "Reading file: msft_16q2\n",
      "Reading file: msft_10q4\n",
      "Reading file: msft_12q2\n",
      "Reading file: msft_09q1\n",
      "Reading file: msft_14q4\n",
      "Reading file: msft_10q1\n",
      "Reading file: msft_12q3\n",
      "Reading file: msft_12q1\n",
      "Reading file: msft_10q3\n",
      "Reading file: msft_09q2\n",
      "Reading file: msft_09q3\n",
      "Reading file: msft_16q4\n",
      "Reading file: msft_10q2\n"
     ]
    }
   ],
   "source": [
    "directory = r'..//Data/Transcripts'\n",
    "msft_earnings_dict_orig = {}\n",
    "for filename in os.listdir(directory):\n",
    "    if filename.endswith(\".pdf\"):\n",
    "        print(\"Reading file: \" + filename[0:-4])\n",
    "        msft_earnings_dict_orig[filename[0:-4]] = tpu.text_extractor(os.path.join('../Data/Transcripts', filename))\n",
    "    else:\n",
    "        continue"
   ]
  },
  {
   "cell_type": "markdown",
   "metadata": {},
   "source": [
    "# Text Preprocessing"
   ]
  },
  {
   "cell_type": "code",
   "execution_count": 5,
   "metadata": {},
   "outputs": [
    {
     "data": {
      "text/plain": [
       "'\\nI then went through a pipeline of text preprocessing steps using NLTK and SpaCy:\\n    [1] Removed punctuations and numbers\\n    [2] Removed stopwords\\n    [3] Lemmatization\\n    [4] Corrected spelling errors\\n    [5] Removed people’s names\\n'"
      ]
     },
     "execution_count": 5,
     "metadata": {},
     "output_type": "execute_result"
    }
   ],
   "source": [
    "\"\"\"\n",
    "I then went through a pipeline of text preprocessing steps using NLTK and SpaCy:\n",
    "    [1] Removed punctuations and numbers\n",
    "    [2] Removed stopwords\n",
    "    [3] Lemmatization\n",
    "    [4] Corrected spelling errors\n",
    "    [5] Removed people’s names\n",
    "    \n",
    "The text are large so it takes some times to process them.\n",
    "\"\"\""
   ]
  },
  {
   "cell_type": "code",
   "execution_count": 6,
   "metadata": {},
   "outputs": [],
   "source": [
    "# Making a copy so to leave the original untouched\n",
    "msft_earnings_dict = msft_earnings_dict_orig.copy()"
   ]
  },
  {
   "cell_type": "code",
   "execution_count": 7,
   "metadata": {},
   "outputs": [
    {
     "data": {
      "text/plain": [
       "dict_keys(['msft_21q2', 'msft_21q1', 'msft_07q3', 'msft_18q4', 'msft_18q1', 'msft_18q3', 'msft_07q4', 'msft_18q2', 'msft_20q1', 'msft_19q4', 'msft_20q2', 'msft_20q3', 'msft_19q3', 'msft_19q2', 'msft_20q4', 'msft_19q1', 'msft_08q4', 'msft_15q1', 'msft_17q3', 'msft_11q4', 'msft_17q2', 'msft_15q2', 'msft_13q4', 'msft_17q1', 'msft_15q3', 'msft_08q2', 'msft_11q3', 'msft_13q1', 'msft_11q2', 'msft_17q4', 'msft_08q3', 'msft_08q1', 'msft_15q4', 'msft_13q2', 'msft_13q3', 'msft_11q1', 'msft_12q4', 'msft_14q2', 'msft_14q3', 'msft_16q1', 'msft_16q3', 'msft_09q4', 'msft_14q1', 'msft_16q2', 'msft_10q4', 'msft_12q2', 'msft_09q1', 'msft_14q4', 'msft_10q1', 'msft_12q3', 'msft_12q1', 'msft_10q3', 'msft_09q2', 'msft_09q3', 'msft_16q4', 'msft_10q2'])"
      ]
     },
     "execution_count": 7,
     "metadata": {},
     "output_type": "execute_result"
    }
   ],
   "source": [
    "# Check the keys\n",
    "msft_earnings_dict.keys()"
   ]
  },
  {
   "cell_type": "markdown",
   "metadata": {},
   "source": [
    "# Remove line breaks, punctuations, and numbers"
   ]
  },
  {
   "cell_type": "code",
   "execution_count": 8,
   "metadata": {},
   "outputs": [
    {
     "name": "stdout",
     "output_type": "stream",
     "text": [
      "msft_21q2\n",
      "msft_21q1\n",
      "msft_07q3\n",
      "msft_18q4\n",
      "msft_18q1\n",
      "msft_18q3\n",
      "msft_07q4\n",
      "msft_18q2\n",
      "msft_20q1\n",
      "msft_19q4\n",
      "msft_20q2\n",
      "msft_20q3\n",
      "msft_19q3\n",
      "msft_19q2\n",
      "msft_20q4\n",
      "msft_19q1\n",
      "msft_08q4\n",
      "msft_15q1\n",
      "msft_17q3\n",
      "msft_11q4\n",
      "msft_17q2\n",
      "msft_15q2\n",
      "msft_13q4\n",
      "msft_17q1\n",
      "msft_15q3\n",
      "msft_08q2\n",
      "msft_11q3\n",
      "msft_13q1\n",
      "msft_11q2\n",
      "msft_17q4\n",
      "msft_08q3\n",
      "msft_08q1\n",
      "msft_15q4\n",
      "msft_13q2\n",
      "msft_13q3\n",
      "msft_11q1\n",
      "msft_12q4\n",
      "msft_14q2\n",
      "msft_14q3\n",
      "msft_16q1\n",
      "msft_16q3\n",
      "msft_09q4\n",
      "msft_14q1\n",
      "msft_16q2\n",
      "msft_10q4\n",
      "msft_12q2\n",
      "msft_09q1\n",
      "msft_14q4\n",
      "msft_10q1\n",
      "msft_12q3\n",
      "msft_12q1\n",
      "msft_10q3\n",
      "msft_09q2\n",
      "msft_09q3\n",
      "msft_16q4\n",
      "msft_10q2\n"
     ]
    }
   ],
   "source": [
    "msft_earnings_dict_v2 = tpu.text_preprocessing_pipeline_1(msft_earnings_dict)"
   ]
  },
  {
   "cell_type": "markdown",
   "metadata": {},
   "source": [
    "# Tokenization, correct spelling errors, remove stopwords, lemmatization, remove people's names"
   ]
  },
  {
   "cell_type": "code",
   "execution_count": 9,
   "metadata": {},
   "outputs": [
    {
     "name": "stdout",
     "output_type": "stream",
     "text": [
      "msft_21q2\n",
      "msft_21q1\n",
      "msft_07q3\n",
      "msft_18q4\n",
      "msft_18q1\n",
      "msft_18q3\n",
      "msft_07q4\n",
      "msft_18q2\n",
      "msft_20q1\n",
      "msft_19q4\n",
      "msft_20q2\n",
      "msft_20q3\n",
      "msft_19q3\n",
      "msft_19q2\n",
      "msft_20q4\n",
      "msft_19q1\n",
      "msft_08q4\n",
      "msft_15q1\n",
      "msft_17q3\n",
      "msft_11q4\n",
      "msft_17q2\n",
      "msft_15q2\n",
      "msft_13q4\n",
      "msft_17q1\n",
      "msft_15q3\n",
      "msft_08q2\n",
      "msft_11q3\n",
      "msft_13q1\n",
      "msft_11q2\n",
      "msft_17q4\n",
      "msft_08q3\n",
      "msft_08q1\n",
      "msft_15q4\n",
      "msft_13q2\n",
      "msft_13q3\n",
      "msft_11q1\n",
      "msft_12q4\n",
      "msft_14q2\n",
      "msft_14q3\n",
      "msft_16q1\n",
      "msft_16q3\n",
      "msft_09q4\n",
      "msft_14q1\n",
      "msft_16q2\n",
      "msft_10q4\n",
      "msft_12q2\n",
      "msft_09q1\n",
      "msft_14q4\n",
      "msft_10q1\n",
      "msft_12q3\n",
      "msft_12q1\n",
      "msft_10q3\n",
      "msft_09q2\n",
      "msft_09q3\n",
      "msft_16q4\n",
      "msft_10q2\n"
     ]
    }
   ],
   "source": [
    "msft_earnings_dict_v3 = tpu.text_preprocessing_pipeline_2(msft_earnings_dict_v2)"
   ]
  },
  {
   "cell_type": "markdown",
   "metadata": {},
   "source": [
    "# Remove frequently used words that have no information value"
   ]
  },
  {
   "cell_type": "code",
   "execution_count": 10,
   "metadata": {},
   "outputs": [
    {
     "name": "stdout",
     "output_type": "stream",
     "text": [
      "msft_21q2\n",
      "msft_21q1\n",
      "msft_07q3\n",
      "msft_18q4\n",
      "msft_18q1\n",
      "msft_18q3\n",
      "msft_07q4\n",
      "msft_18q2\n",
      "msft_20q1\n",
      "msft_19q4\n",
      "msft_20q2\n",
      "msft_20q3\n",
      "msft_19q3\n",
      "msft_19q2\n",
      "msft_20q4\n",
      "msft_19q1\n",
      "msft_08q4\n",
      "msft_15q1\n",
      "msft_17q3\n",
      "msft_11q4\n",
      "msft_17q2\n",
      "msft_15q2\n",
      "msft_13q4\n",
      "msft_17q1\n",
      "msft_15q3\n",
      "msft_08q2\n",
      "msft_11q3\n",
      "msft_13q1\n",
      "msft_11q2\n",
      "msft_17q4\n",
      "msft_08q3\n",
      "msft_08q1\n",
      "msft_15q4\n",
      "msft_13q2\n",
      "msft_13q3\n",
      "msft_11q1\n",
      "msft_12q4\n",
      "msft_14q2\n",
      "msft_14q3\n",
      "msft_16q1\n",
      "msft_16q3\n",
      "msft_09q4\n",
      "msft_14q1\n",
      "msft_16q2\n",
      "msft_10q4\n",
      "msft_12q2\n",
      "msft_09q1\n",
      "msft_14q4\n",
      "msft_10q1\n",
      "msft_12q3\n",
      "msft_12q1\n",
      "msft_10q3\n",
      "msft_09q2\n",
      "msft_09q3\n",
      "msft_16q4\n",
      "msft_10q2\n"
     ]
    }
   ],
   "source": [
    "msft_earnings_dict_v4 = tpu.remove_custom_stopwords_unigrams(msft_earnings_dict_v3)"
   ]
  },
  {
   "cell_type": "markdown",
   "metadata": {},
   "source": [
    "# Bigrams "
   ]
  },
  {
   "cell_type": "code",
   "execution_count": null,
   "metadata": {},
   "outputs": [],
   "source": [
    "\"\"\"\n",
    "The key term here is an “n-gram” – a sequence of n words that appear consecutively. One way to create them is to use\n",
    "TF-IDF. The problem with n-grams is that there are so many potential ones out there. \n",
    "\"\"\""
   ]
  },
  {
   "attachments": {
    "image.png": {
     "image/png": "[encoded data removed]"
    }
   },
   "cell_type": "markdown",
   "metadata": {},
   "source": [
    "![image.png](attachment:image.png)"
   ]
  },
  {
   "cell_type": "code",
   "execution_count": 11,
   "metadata": {},
   "outputs": [],
   "source": [
    "msft_earnings_dict_v3_copy = msft_earnings_dict_v3.copy()"
   ]
  },
  {
   "cell_type": "code",
   "execution_count": 12,
   "metadata": {},
   "outputs": [
    {
     "name": "stdout",
     "output_type": "stream",
     "text": [
      "msft_21q2\n",
      "msft_21q1\n",
      "msft_07q3\n",
      "msft_18q4\n",
      "msft_18q1\n",
      "msft_18q3\n",
      "msft_07q4\n",
      "msft_18q2\n",
      "msft_20q1\n",
      "msft_19q4\n",
      "msft_20q2\n",
      "msft_20q3\n",
      "msft_19q3\n",
      "msft_19q2\n",
      "msft_20q4\n",
      "msft_19q1\n",
      "msft_08q4\n",
      "msft_15q1\n",
      "msft_17q3\n",
      "msft_11q4\n",
      "msft_17q2\n",
      "msft_15q2\n",
      "msft_13q4\n",
      "msft_17q1\n",
      "msft_15q3\n",
      "msft_08q2\n",
      "msft_11q3\n",
      "msft_13q1\n",
      "msft_11q2\n",
      "msft_17q4\n",
      "msft_08q3\n",
      "msft_08q1\n",
      "msft_15q4\n",
      "msft_13q2\n",
      "msft_13q3\n",
      "msft_11q1\n",
      "msft_12q4\n",
      "msft_14q2\n",
      "msft_14q3\n",
      "msft_16q1\n",
      "msft_16q3\n",
      "msft_09q4\n",
      "msft_14q1\n",
      "msft_16q2\n",
      "msft_10q4\n",
      "msft_12q2\n",
      "msft_09q1\n",
      "msft_14q4\n",
      "msft_10q1\n",
      "msft_12q3\n",
      "msft_12q1\n",
      "msft_10q3\n",
      "msft_09q2\n",
      "msft_09q3\n",
      "msft_16q4\n",
      "msft_10q2\n"
     ]
    }
   ],
   "source": [
    "msft_earnings_dict_bi = tpu.create_bigrams(msft_earnings_dict_v3_copy)"
   ]
  },
  {
   "cell_type": "code",
   "execution_count": 13,
   "metadata": {},
   "outputs": [
    {
     "name": "stdout",
     "output_type": "stream",
     "text": [
      "msft_21q2\n",
      "msft_21q1\n",
      "msft_07q3\n",
      "msft_18q4\n",
      "msft_18q1\n",
      "msft_18q3\n",
      "msft_07q4\n",
      "msft_18q2\n",
      "msft_20q1\n",
      "msft_19q4\n",
      "msft_20q2\n",
      "msft_20q3\n",
      "msft_19q3\n",
      "msft_19q2\n",
      "msft_20q4\n",
      "msft_19q1\n",
      "msft_08q4\n",
      "msft_15q1\n",
      "msft_17q3\n",
      "msft_11q4\n",
      "msft_17q2\n",
      "msft_15q2\n",
      "msft_13q4\n",
      "msft_17q1\n",
      "msft_15q3\n",
      "msft_08q2\n",
      "msft_11q3\n",
      "msft_13q1\n",
      "msft_11q2\n",
      "msft_17q4\n",
      "msft_08q3\n",
      "msft_08q1\n",
      "msft_15q4\n",
      "msft_13q2\n",
      "msft_13q3\n",
      "msft_11q1\n",
      "msft_12q4\n",
      "msft_14q2\n",
      "msft_14q3\n",
      "msft_16q1\n",
      "msft_16q3\n",
      "msft_09q4\n",
      "msft_14q1\n",
      "msft_16q2\n",
      "msft_10q4\n",
      "msft_12q2\n",
      "msft_09q1\n",
      "msft_14q4\n",
      "msft_10q1\n",
      "msft_12q3\n",
      "msft_12q1\n",
      "msft_10q3\n",
      "msft_09q2\n",
      "msft_09q3\n",
      "msft_16q4\n",
      "msft_10q2\n"
     ]
    }
   ],
   "source": [
    "msft_earnings_dict_bi_v2 = tpu.remove_custom_stopwords_bigrams(msft_earnings_dict_bi)"
   ]
  },
  {
   "cell_type": "markdown",
   "metadata": {},
   "source": [
    "# Pickle the transcript corpus"
   ]
  },
  {
   "cell_type": "code",
   "execution_count": null,
   "metadata": {},
   "outputs": [],
   "source": [
    "\"\"\"\n",
    "Saving the post-process files\n",
    "\"\"\""
   ]
  },
  {
   "cell_type": "code",
   "execution_count": 14,
   "metadata": {},
   "outputs": [],
   "source": [
    "with open('cleaned_corpus.pickle', 'wb') as file:\n",
    "    pickle.dump(msft_earnings_dict_v4, file)"
   ]
  },
  {
   "cell_type": "code",
   "execution_count": 15,
   "metadata": {},
   "outputs": [],
   "source": [
    "with open('cleaned_corpus_bi.pickle', 'wb') as file:\n",
    "    pickle.dump(msft_earnings_dict_bi_v2, file)"
   ]
  },
  {
   "cell_type": "code",
   "execution_count": null,
   "metadata": {},
   "outputs": [],
   "source": []
  }
 ],
 "metadata": {
  "hide_input": false,
  "kernelspec": {
   "display_name": "Python 3",
   "language": "python",
   "name": "python3"
  },
  "language_info": {
   "codemirror_mode": {
    "name": "ipython",
    "version": 3
   },
   "file_extension": ".py",
   "mimetype": "text/x-python",
   "name": "python",
   "nbconvert_exporter": "python",
   "pygments_lexer": "ipython3",
   "version": "3.8.5"
  }
 },
 "nbformat": 4,
 "nbformat_minor": 4
}
