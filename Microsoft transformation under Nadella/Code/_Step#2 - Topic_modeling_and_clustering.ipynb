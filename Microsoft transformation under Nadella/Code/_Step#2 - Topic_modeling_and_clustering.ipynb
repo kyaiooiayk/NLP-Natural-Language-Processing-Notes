{
 "cells": [
  {
   "cell_type": "markdown",
   "metadata": {},
   "source": [
    "# Inotroduction"
   ]
  },
  {
   "cell_type": "code",
   "execution_count": 1,
   "metadata": {},
   "outputs": [
    {
     "data": {
      "text/plain": [
       "'\\nWhat? NLP analysis of some pdf files. This is step#2\\n\\nThe goal is to to analyze Microsoft’s earnings transcripts in pre- and post-Satya Nadella days to extract insights\\nabout how the company’s philosophy and strategy evolved over time. the goal of step#2 is \\n\\n\\nReference: https://mikechoi90.medium.com/investigating-microsofts-transformation-under-satya-nadella-f49083294c35\\n'"
      ]
     },
     "execution_count": 1,
     "metadata": {},
     "output_type": "execute_result"
    }
   ],
   "source": [
    "\"\"\"\n",
    "What? NLP analysis of some pdf files. This is step#2\n",
    "\n",
    "The goal is to to analyze Microsoft’s earnings transcripts in pre- and post-Satya Nadella days to extract insights\n",
    "about how the company’s philosophy and strategy evolved over time. the goal of step#2 is \n",
    "\n",
    "\n",
    "Reference: https://mikechoi90.medium.com/investigating-microsofts-transformation-under-satya-nadella-f49083294c35\n",
    "\"\"\""
   ]
  },
  {
   "cell_type": "markdown",
   "metadata": {},
   "source": [
    "## Import Libraries"
   ]
  },
  {
   "cell_type": "code",
   "execution_count": 2,
   "metadata": {},
   "outputs": [],
   "source": [
    "import model_utils as mu\n",
    "import pickle\n",
    "import pickle\n",
    "%matplotlib inline\n",
    "from sklearn.feature_extraction.text import TfidfVectorizer, CountVectorizer\n",
    "from sklearn.decomposition import NMF, LatentDirichletAllocation\n",
    "# Getting rid of the warning messages\n",
    "import warnings\n",
    "warnings.filterwarnings(\"ignore\")"
   ]
  },
  {
   "cell_type": "markdown",
   "metadata": {},
   "source": [
    "## Unigrams"
   ]
  },
  {
   "cell_type": "markdown",
   "metadata": {},
   "source": [
    "### Create Document-Term Matrices"
   ]
  },
  {
   "cell_type": "code",
   "execution_count": 3,
   "metadata": {},
   "outputs": [
    {
     "ename": "FileNotFoundError",
     "evalue": "[Errno 2] No such file or directory: 'cleaned_corpus.pickle'",
     "output_type": "error",
     "traceback": [
      "\u001b[0;31m---------------------------------------------------------------------------\u001b[0m",
      "\u001b[0;31mFileNotFoundError\u001b[0m                         Traceback (most recent call last)",
      "\u001b[0;32m<ipython-input-3-b74f6ec1ff75>\u001b[0m in \u001b[0;36m<module>\u001b[0;34m\u001b[0m\n\u001b[0;32m----> 1\u001b[0;31m \u001b[0mmsft_earnings_dict_cleaned\u001b[0m \u001b[0;34m=\u001b[0m \u001b[0mpickle\u001b[0m\u001b[0;34m.\u001b[0m\u001b[0mload\u001b[0m\u001b[0;34m(\u001b[0m\u001b[0mopen\u001b[0m\u001b[0;34m(\u001b[0m\u001b[0;34m'cleaned_corpus.pickle'\u001b[0m\u001b[0;34m,\u001b[0m \u001b[0;34m'rb'\u001b[0m\u001b[0;34m)\u001b[0m\u001b[0;34m)\u001b[0m\u001b[0;34m\u001b[0m\u001b[0;34m\u001b[0m\u001b[0m\n\u001b[0m",
      "\u001b[0;31mFileNotFoundError\u001b[0m: [Errno 2] No such file or directory: 'cleaned_corpus.pickle'"
     ]
    }
   ],
   "source": [
    "msft_earnings_dict_cleaned = pickle.load(open('cleaned_corpus.pickle', 'rb'))"
   ]
  },
  {
   "cell_type": "code",
   "execution_count": null,
   "metadata": {},
   "outputs": [],
   "source": [
    "msft_earnings_dict_ordered = {}\n",
    "\n",
    "for tscript in sorted(msft_earnings_dict_cleaned):\n",
    "    msft_earnings_dict_ordered[tscript] = msft_earnings_dict_cleaned[tscript]"
   ]
  },
  {
   "cell_type": "code",
   "execution_count": null,
   "metadata": {},
   "outputs": [],
   "source": [
    "ballmer_dict = dict(list(msft_earnings_dict_ordered.items())[:len(msft_earnings_dict_ordered)//2]) \n",
    "nadella_dict = dict(list(msft_earnings_dict_ordered.items())[len(msft_earnings_dict_ordered)//2:]) "
   ]
  },
  {
   "cell_type": "code",
   "execution_count": null,
   "metadata": {},
   "outputs": [],
   "source": [
    "corpus_msft = list(msft_earnings_dict_ordered.values())\n",
    "corpus_ballmer = list(ballmer_dict.values())\n",
    "corpus_nadella = list(nadella_dict.values())"
   ]
  },
  {
   "cell_type": "code",
   "execution_count": null,
   "metadata": {},
   "outputs": [],
   "source": [
    "\"\"\"\n",
    "Split the data in two differetn files for easy access.\n",
    "\"\"\""
   ]
  },
  {
   "cell_type": "code",
   "execution_count": null,
   "metadata": {},
   "outputs": [],
   "source": [
    "with open('cleaned_corpus_msft.pickle', 'wb') as f_msft:\n",
    "    pickle.dump(corpus_msft, f_msft)\n",
    "\n",
    "with open('cleaned_corpus_ball.pickle', 'wb') as f_ball:\n",
    "    pickle.dump(corpus_ballmer, f_ball)\n",
    "\n",
    "with open('cleaned_corpus_nad.pickle', 'wb') as f_nad:\n",
    "    pickle.dump(corpus_nadella, f_nad)"
   ]
  },
  {
   "cell_type": "markdown",
   "metadata": {},
   "source": [
    "#### Count vectorizer"
   ]
  },
  {
   "cell_type": "code",
   "execution_count": null,
   "metadata": {},
   "outputs": [],
   "source": [
    "cv_msft = mu.document_term_matrix(corpus_msft, CountVectorizer)[0]\n",
    "cv_ballmer = mu.document_term_matrix(corpus_ballmer, CountVectorizer)[0]\n",
    "cv_nadella = mu.document_term_matrix(corpus_nadella, CountVectorizer)[0]\n",
    "\n",
    "X_msft = mu.document_term_matrix(corpus_msft, CountVectorizer)[1]\n",
    "X_ballmer = mu.document_term_matrix(corpus_ballmer, CountVectorizer)[1]\n",
    "X_nadella = mu.document_term_matrix(corpus_nadella, CountVectorizer)[1]"
   ]
  },
  {
   "cell_type": "code",
   "execution_count": null,
   "metadata": {},
   "outputs": [],
   "source": [
    "word_freq_msft = mu.word_frequency(cv_msft, X_msft)\n",
    "word_freq_ballmer = mu.word_frequency(cv_ballmer, X_ballmer)\n",
    "word_freq_nadella = mu.word_frequency(cv_ballmer, X_ballmer)"
   ]
  },
  {
   "cell_type": "markdown",
   "metadata": {},
   "source": [
    "#### Tf-idf vectorizer"
   ]
  },
  {
   "cell_type": "code",
   "execution_count": null,
   "metadata": {},
   "outputs": [],
   "source": [
    "cv_tfidf_msft = mu.document_term_matrix(corpus_msft, TfidfVectorizer)[0]\n",
    "cv_tfidf_ballmer = mu.document_term_matrix(corpus_ballmer, TfidfVectorizer)[0]\n",
    "cv_tfidf_nadella = mu.document_term_matrix(corpus_nadella, TfidfVectorizer)[0]\n",
    "\n",
    "X_tfidf_msft = mu.document_term_matrix(corpus_msft, TfidfVectorizer)[1]\n",
    "X_tfidf_ballmer = mu.document_term_matrix(corpus_ballmer, TfidfVectorizer)[1]\n",
    "X_tfidf_nadella = mu.document_term_matrix(corpus_nadella, TfidfVectorizer)[1]"
   ]
  },
  {
   "cell_type": "markdown",
   "metadata": {},
   "source": [
    "### Topic Modeling"
   ]
  },
  {
   "cell_type": "markdown",
   "metadata": {},
   "source": [
    "#### Non-negative matrix factorization (NMF), Count vectorizer"
   ]
  },
  {
   "cell_type": "code",
   "execution_count": null,
   "metadata": {},
   "outputs": [],
   "source": [
    "X_msft.shape"
   ]
  },
  {
   "cell_type": "code",
   "execution_count": null,
   "metadata": {},
   "outputs": [],
   "source": [
    "X_ballmer.shape"
   ]
  },
  {
   "cell_type": "code",
   "execution_count": null,
   "metadata": {},
   "outputs": [],
   "source": [
    "X_nadella.shape"
   ]
  },
  {
   "cell_type": "code",
   "execution_count": null,
   "metadata": {},
   "outputs": [],
   "source": [
    "top_topic_words_nmf_msft = mu.topic_model(cv_msft, X_msft, NMF, 6, 6)[0]\n",
    "top_topic_words_nmf_ballmer = mu.topic_model(cv_ballmer, X_ballmer, NMF, 6, 6)[0]\n",
    "top_topic_words_nmf_nadella = mu.topic_model(cv_nadella, X_nadella, NMF, 6, 6)[0]\n",
    "\n",
    "top_topic_words_nmf_msft"
   ]
  },
  {
   "cell_type": "code",
   "execution_count": null,
   "metadata": {},
   "outputs": [],
   "source": [
    "topic_clustering_nmf_msft = mu.topic_model(cv_msft, X_msft, NMF, 6, 6)[1].argmax(axis=1)\n",
    "topic_clustering_nmf_ballmer = mu.topic_model(cv_ballmer, X_ballmer, NMF, 6, 6)[1].argmax(axis=1)\n",
    "topic_clustering_nmf_nadella = mu.topic_model(cv_nadella, X_nadella, NMF, 6, 6)[1].argmax(axis=1)\n",
    "\n",
    "topic_clustering_nmf_msft"
   ]
  },
  {
   "cell_type": "markdown",
   "metadata": {},
   "source": [
    "#### Latent Dirichlet Allocation (LDA) - Count vectorizer"
   ]
  },
  {
   "cell_type": "code",
   "execution_count": null,
   "metadata": {},
   "outputs": [],
   "source": [
    "top_topic_words_lda_msft = mu.topic_model(cv_msft, X_msft, LatentDirichletAllocation, 6, 6)[0]\n",
    "top_topic_words_lda_ballmer = mu.topic_model(cv_ballmer, X_ballmer, LatentDirichletAllocation, 6, 6)[0]\n",
    "top_topic_words_lda_nadella = mu.topic_model(cv_nadella, X_nadella, LatentDirichletAllocation, 6, 6)[0]\n",
    "\n",
    "top_topic_words_lda_msft"
   ]
  },
  {
   "cell_type": "code",
   "execution_count": null,
   "metadata": {},
   "outputs": [],
   "source": [
    "topic_clustering_lda_msft = mu.topic_model(cv_msft, X_msft, LatentDirichletAllocation, 6, 6)[1].argmax(axis=1)\n",
    "topic_clustering_lda_ballmer = mu.topic_model(cv_ballmer, X_ballmer, LatentDirichletAllocation, 6, 6)[1].argmax(axis=1)\n",
    "topic_clustering_lda_nadella = mu.topic_model(cv_nadella, X_nadella, LatentDirichletAllocation, 6, 6)[1].argmax(axis=1)\n",
    "\n",
    "topic_clustering_lda_msft"
   ]
  },
  {
   "cell_type": "markdown",
   "metadata": {},
   "source": [
    "#### Non-negative matrix factorization (NMF), Tf-idf vectorizer"
   ]
  },
  {
   "cell_type": "code",
   "execution_count": null,
   "metadata": {},
   "outputs": [],
   "source": [
    "top_topic_words_nmf_tfidf_msft = mu.topic_model(cv_tfidf_msft, X_tfidf_msft, NMF, 6, 6)[0]\n",
    "top_topic_words_nmf_tfidf_ballmer = mu.topic_model(cv_tfidf_ballmer, X_tfidf_ballmer, NMF, 6, 6)[0]\n",
    "top_topic_words_nmf_tfidf_nadella = mu.topic_model(cv_tfidf_nadella, X_tfidf_nadella, NMF, 6, 6)[0]\n",
    "\n",
    "top_topic_words_nmf_tfidf_msft"
   ]
  },
  {
   "cell_type": "code",
   "execution_count": null,
   "metadata": {},
   "outputs": [],
   "source": [
    "topic_clustering_nmf_tfidf_msft = mu.topic_model(cv_tfidf_msft, X_tfidf_msft, NMF, 6, 6)[1].argmax(axis=1)\n",
    "topic_clustering_nmf_tfidf_ballmer = mu.topic_model(cv_tfidf_ballmer, X_tfidf_ballmer, NMF, 6, 6)[1].argmax(axis=1)\n",
    "topic_clustering_nmf_tfidf_nadella = mu.topic_model(cv_tfidf_nadella, X_tfidf_nadella, NMF, 6, 6)[1].argmax(axis=1)\n",
    "\n",
    "topic_clustering_nmf_tfidf_msft"
   ]
  },
  {
   "cell_type": "markdown",
   "metadata": {},
   "source": [
    "### Clustering"
   ]
  },
  {
   "cell_type": "code",
   "execution_count": null,
   "metadata": {},
   "outputs": [],
   "source": [
    "mu.kmeans_clustering(X_tfidf_msft, 3)"
   ]
  },
  {
   "cell_type": "code",
   "execution_count": null,
   "metadata": {},
   "outputs": [],
   "source": [
    "# silhouette coefficient and SSE are two metrics used to \n",
    "mu.silhouette_coeff_sse(X_tfidf_msft)"
   ]
  },
  {
   "cell_type": "code",
   "execution_count": null,
   "metadata": {},
   "outputs": [],
   "source": []
  }
 ],
 "metadata": {
  "hide_input": false,
  "kernelspec": {
   "display_name": "Python 3",
   "language": "python",
   "name": "python3"
  },
  "language_info": {
   "codemirror_mode": {
    "name": "ipython",
    "version": 3
   },
   "file_extension": ".py",
   "mimetype": "text/x-python",
   "name": "python",
   "nbconvert_exporter": "python",
   "pygments_lexer": "ipython3",
   "version": "3.8.5"
  }
 },
 "nbformat": 4,
 "nbformat_minor": 4
}
